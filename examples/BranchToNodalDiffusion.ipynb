{
 "cells": [
  {
   "cell_type": "markdown",
   "metadata": {},
   "source": [
    "Copyright (c) 2017-2019 [Serpent-Tools developer team](https://github.com/CORE-GATECH-GROUP/serpent-tools/graphs/contributors), GTRC\n",
    "\n",
    "THE SOFTWARE IS PROVIDED \"AS IS\", WITHOUT WARRANTY OF ANY KIND, EXPRESS OR IMPLIED, INCLUDING BUT NOT LIMITED TO THE WARRANTIES OF MERCHANTABILITY, FITNESS FOR A PARTICULAR PURPOSE AND NONINFRINGEMENT. IN NO EVENT SHALL THE AUTHORS OR COPYRIGHT HOLDERS BE LIABLE FOR ANY CLAIM, DAMAGES OR OTHER LIABILITY, WHETHER IN AN ACTION OF CONTRACT, TORT OR OTHERWISE, ARISING FROM, OUT OF OR IN CONNECTION WITH THE SOFTWARE OR THE USE OR OTHER DEALINGS IN THE SOFTWARE."
   ]
  },
  {
   "cell_type": "markdown",
   "metadata": {},
   "source": [
    "# Coefficient file to nodal diffusion cross sections\n",
    "A recent feature of SERPENT is the ability to performing branching calculations using the [automated burnup sequence](http://serpent.vtt.fi/mediawiki/index.php/Automated_burnup_sequence). `serpentTools` can read these coefficient files using the [`BranchingReader`](https://serpent-tools.readthedocs.io/en/master/examples/Branching.html).\n",
    "This automated burnup sequence is ideal for generating group constant data for nodal diffusion codes, that often include some multi-physics features, criticality searches, or other control mechanisms. A criticality search could be performed by tweaking the boron concentration in the coolant or adjusting control rod insertions. Similarly, some codes may include coupled TH analysis to convert power profiles to temperature profiles and adjust cross sections accordingly. Each code has a unique flavor for utilizing a set of group constants across these perturbations, and this notebook will demonstrate using the `BranchCollector` to gather and write a simple set of cross sections."
   ]
  },
  {
   "cell_type": "code",
   "execution_count": 1,
   "metadata": {},
   "outputs": [],
   "source": [
    "import numpy\n",
    "import serpentTools\n",
    "from serpentTools.xs import BranchCollector"
   ]
  },
  {
   "cell_type": "code",
   "execution_count": 2,
   "metadata": {},
   "outputs": [],
   "source": [
    "# use serpentTools.read for everything except following along with examples\n",
    "coe = serpentTools.readDataFile('demo.coe')"
   ]
  },
  {
   "cell_type": "markdown",
   "metadata": {},
   "source": [
    "This specific input file contained two perturbations: boron concentration and fuel temperature. Boron concentration had three branches: `nom` with no boron, then `B1000` and `B750`, with 1000 and 750 ppm boron in coolant. Fuel temperature had a nominal branch at 900 K, with 1200 and 600 K perturbations as well. These can be confirmed by observing the `branches` dictionary on the `BranchingReader`"
   ]
  },
  {
   "cell_type": "code",
   "execution_count": 3,
   "metadata": {},
   "outputs": [
    {
     "data": {
      "text/plain": [
       "[('nom', 'nom'),\n",
       " ('B750', 'nom'),\n",
       " ('B1000', 'nom'),\n",
       " ('nom', 'FT1200'),\n",
       " ('B750', 'FT1200'),\n",
       " ('B1000', 'FT1200'),\n",
       " ('nom', 'FT600'),\n",
       " ('B750', 'FT600'),\n",
       " ('B1000', 'FT600')]"
      ]
     },
     "execution_count": 3,
     "metadata": {},
     "output_type": "execute_result"
    }
   ],
   "source": [
    "list(coe.branches.keys())"
   ]
  },
  {
   "cell_type": "markdown",
   "metadata": {},
   "source": [
    "Cross sections are spread out through this `BranchingReader` across branches, burnup, and universes. The job of the `BranchCollector` is to place that data into mutli-dimensional matrices that represent the perturbations chosen by the user. A single group constant, say total cross section, has unique values for each universe, at each burnup point, for each perturbed state, and each energy group. Such a matrix would then contain five dimensions for this case.\n",
    "\n",
    "First, we create the `BranchCollector` from the `BranchingReader` and instruct the reader what perturbations are present in the file. The ordering is not important at this point, as it can be changed later."
   ]
  },
  {
   "cell_type": "code",
   "execution_count": 4,
   "metadata": {},
   "outputs": [
    {
     "name": "stderr",
     "output_type": "stream",
     "text": [
      "/home/ajohnson400/github/my-serpent-tools/.venv/develop/lib/python3.7/site-packages/serpentTools-0.6.1+36.g1facac0.dirty-py3.7.egg/serpentTools/xs.py:227: UserWarning: This is an experimental feature, subject to change.\n",
      "  UserWarning)\n"
     ]
    }
   ],
   "source": [
    "collector = BranchCollector(coe)"
   ]
  },
  {
   "cell_type": "code",
   "execution_count": 5,
   "metadata": {},
   "outputs": [],
   "source": [
    "collector.collect(('BOR', 'TFU'))"
   ]
  },
  {
   "cell_type": "markdown",
   "metadata": {},
   "source": [
    "Now we can inspect the perturbation states, `states`, found by the collector."
   ]
  },
  {
   "cell_type": "code",
   "execution_count": 6,
   "metadata": {},
   "outputs": [
    {
     "data": {
      "text/plain": [
       "(('B1000', 'B750', 'nom'), ('FT1200', 'FT600', 'nom'))"
      ]
     },
     "execution_count": 6,
     "metadata": {},
     "output_type": "execute_result"
    }
   ],
   "source": [
    "collector.states"
   ]
  },
  {
   "cell_type": "markdown",
   "metadata": {},
   "source": [
    "The group constants are stored in the `xsTables` dictionary. Here we select the total cross section, `infTot` for further exploration."
   ]
  },
  {
   "cell_type": "code",
   "execution_count": 7,
   "metadata": {},
   "outputs": [
    {
     "data": {
      "text/plain": [
       "['infTot',\n",
       " 'infFiss',\n",
       " 'infS0',\n",
       " 'infS1',\n",
       " 'infDiffcoef',\n",
       " 'b1Tot',\n",
       " 'b1Fiss',\n",
       " 'b1S0',\n",
       " 'b1S1',\n",
       " 'b1Diffcoef']"
      ]
     },
     "execution_count": 7,
     "metadata": {},
     "output_type": "execute_result"
    }
   ],
   "source": [
    "list(collector.xsTables.keys())"
   ]
  },
  {
   "cell_type": "code",
   "execution_count": 8,
   "metadata": {},
   "outputs": [],
   "source": [
    "infT = collector.xsTables['infTot']"
   ]
  },
  {
   "cell_type": "code",
   "execution_count": 9,
   "metadata": {},
   "outputs": [
    {
     "data": {
      "text/plain": [
       "(5, 3, 3, 3, 2)"
      ]
     },
     "execution_count": 9,
     "metadata": {},
     "output_type": "execute_result"
    }
   ],
   "source": [
    "infT.shape"
   ]
  },
  {
   "cell_type": "markdown",
   "metadata": {},
   "source": [
    "Five dimensions as mentioned above. But how are they ordered? Inspecting the `axis` attribute tells us that the dimensions are universe, boron concentration, fuel temperature, burnup, and energy group."
   ]
  },
  {
   "cell_type": "code",
   "execution_count": 10,
   "metadata": {},
   "outputs": [
    {
     "data": {
      "text/plain": [
       "('Universe', 'BOR', 'TFU', 'Burnup', 'Group')"
      ]
     },
     "execution_count": 10,
     "metadata": {},
     "output_type": "execute_result"
    }
   ],
   "source": [
    "collector.axis"
   ]
  },
  {
   "cell_type": "markdown",
   "metadata": {},
   "source": [
    "The ordering of each of these dimensions is found by examining the `univIndexes`, `states`, and `burnups` attributes."
   ]
  },
  {
   "cell_type": "code",
   "execution_count": 11,
   "metadata": {},
   "outputs": [
    {
     "data": {
      "text/plain": [
       "(0, 10, 20, 30, 40)"
      ]
     },
     "execution_count": 11,
     "metadata": {},
     "output_type": "execute_result"
    }
   ],
   "source": [
    "collector.univIndex"
   ]
  },
  {
   "cell_type": "code",
   "execution_count": 12,
   "metadata": {},
   "outputs": [
    {
     "data": {
      "text/plain": [
       "(('B1000', 'B750', 'nom'), ('FT1200', 'FT600', 'nom'))"
      ]
     },
     "execution_count": 12,
     "metadata": {},
     "output_type": "execute_result"
    }
   ],
   "source": [
    "collector.states"
   ]
  },
  {
   "cell_type": "code",
   "execution_count": 13,
   "metadata": {},
   "outputs": [
    {
     "data": {
      "text/plain": [
       "array([ 0.,  1., 10.])"
      ]
     },
     "execution_count": 13,
     "metadata": {},
     "output_type": "execute_result"
    }
   ],
   "source": [
    "collector.burnups"
   ]
  },
  {
   "cell_type": "markdown",
   "metadata": {},
   "source": [
    "For example, if we wanted the total cross section for universe 10, at 1000 ppm boron, nominal fuel temperature, and 10 MWd/kgU burnup, we would request"
   ]
  },
  {
   "cell_type": "code",
   "execution_count": 14,
   "metadata": {},
   "outputs": [
    {
     "data": {
      "text/plain": [
       "array([0.324746, 0.864346])"
      ]
     },
     "execution_count": 14,
     "metadata": {},
     "output_type": "execute_result"
    }
   ],
   "source": [
    "infT[1, 0, 2, 2]"
   ]
  },
  {
   "cell_type": "markdown",
   "metadata": {},
   "source": [
    "For this example, the scattering matrices were not reshaped from vectors to matrices and we would observe slightly different behavior in the `'Group'` dimension."
   ]
  },
  {
   "cell_type": "code",
   "execution_count": 15,
   "metadata": {},
   "outputs": [
    {
     "data": {
      "text/plain": [
       "(5, 3, 3, 3, 4)"
      ]
     },
     "execution_count": 15,
     "metadata": {},
     "output_type": "execute_result"
    }
   ],
   "source": [
    "collector.xsTables['infS1'].shape"
   ]
  },
  {
   "cell_type": "markdown",
   "metadata": {},
   "source": [
    "Four items in the last axis as the vectorized matrix represents fast to fast, fast to thermal, thermal to fast, and thermal to thermal scattering."
   ]
  },
  {
   "cell_type": "code",
   "execution_count": 16,
   "metadata": {},
   "outputs": [
    {
     "data": {
      "text/plain": [
       "array([0.087809  , 0.00023068, 0.00073939, 0.123981  ])"
      ]
     },
     "execution_count": 16,
     "metadata": {},
     "output_type": "execute_result"
    }
   ],
   "source": [
    "collector.xsTables['infS1'][1, 0, 2, 2]"
   ]
  },
  {
   "cell_type": "markdown",
   "metadata": {},
   "source": [
    "Many nodal diffusion codes request group constants on a per universe basis, or per assembly type. As we saw above, the first dimension of the `xsTables` matrices corresponds to universe. One can view group constants for specific universes with the `universes` dictionary. "
   ]
  },
  {
   "cell_type": "code",
   "execution_count": 17,
   "metadata": {},
   "outputs": [
    {
     "data": {
      "text/plain": [
       "{0: <serpentTools.xs.BranchedUniv at 0x7fb62f749a98>,\n",
       " 10: <serpentTools.xs.BranchedUniv at 0x7fb62f731b88>,\n",
       " 20: <serpentTools.xs.BranchedUniv at 0x7fb62f749e08>,\n",
       " 30: <serpentTools.xs.BranchedUniv at 0x7fb62f749e58>,\n",
       " 40: <serpentTools.xs.BranchedUniv at 0x7fb62f749ea8>}"
      ]
     },
     "execution_count": 17,
     "metadata": {},
     "output_type": "execute_result"
    }
   ],
   "source": [
    "collector.universes"
   ]
  },
  {
   "cell_type": "code",
   "execution_count": 18,
   "metadata": {},
   "outputs": [],
   "source": [
    "u0 = collector.universes[0]"
   ]
  },
  {
   "cell_type": "markdown",
   "metadata": {},
   "source": [
    "These `BranchedUniv` objects store views into the underlying collectors `xsTables` data corresponding to a single universe. The structuring is identical to that of the collector, with the first axis removed."
   ]
  },
  {
   "cell_type": "code",
   "execution_count": 19,
   "metadata": {},
   "outputs": [
    {
     "data": {
      "text/plain": [
       "('BOR', 'TFU')"
      ]
     },
     "execution_count": 19,
     "metadata": {},
     "output_type": "execute_result"
    }
   ],
   "source": [
    "u0.perturbations"
   ]
  },
  {
   "cell_type": "code",
   "execution_count": 20,
   "metadata": {},
   "outputs": [
    {
     "data": {
      "text/plain": [
       "('BOR', 'TFU', 'Burnup', 'Group')"
      ]
     },
     "execution_count": 20,
     "metadata": {},
     "output_type": "execute_result"
    }
   ],
   "source": [
    "u0.axis"
   ]
  },
  {
   "cell_type": "code",
   "execution_count": 21,
   "metadata": {},
   "outputs": [
    {
     "data": {
      "text/plain": [
       "(('B1000', 'B750', 'nom'), ('FT1200', 'FT600', 'nom'))"
      ]
     },
     "execution_count": 21,
     "metadata": {},
     "output_type": "execute_result"
    }
   ],
   "source": [
    "u0.states"
   ]
  },
  {
   "cell_type": "markdown",
   "metadata": {},
   "source": [
    "The contents of the `xsTables` dictionary are `BranchedDataTable` objects, essentially just light wrappers over an underlying `numpy.array`, accessed through the `data` attribute."
   ]
  },
  {
   "cell_type": "code",
   "execution_count": 22,
   "metadata": {},
   "outputs": [
    {
     "data": {
      "text/plain": [
       "{'infTot': array([[[[0.313696, 0.544846],\n",
       "          [0.311024, 0.617734],\n",
       "          [0.313348, 0.614651]],\n",
       " \n",
       "         [[0.313338, 0.54515 ],\n",
       "          [0.310842, 0.618286],\n",
       "          [0.31299 , 0.614391]],\n",
       " \n",
       "         [[0.31673 , 0.548305],\n",
       "          [0.313987, 0.621804],\n",
       "          [0.316273, 0.61812 ]]],\n",
       " \n",
       " \n",
       "        [[[0.313772, 0.541505],\n",
       "          [0.311335, 0.609197],\n",
       "          [0.313311, 0.608837]],\n",
       " \n",
       "         [[0.313437, 0.542373],\n",
       "          [0.310967, 0.609192],\n",
       "          [0.31316 , 0.608756]],\n",
       " \n",
       "         [[0.316688, 0.545294],\n",
       "          [0.314245, 0.612767],\n",
       "          [0.316392, 0.612985]]],\n",
       " \n",
       " \n",
       "        [[[0.20802 , 0.228908],\n",
       "          [0.205774, 0.10707 ],\n",
       "          [0.203646, 0.      ]],\n",
       " \n",
       "         [[0.207432, 0.315208],\n",
       "          [0.205326, 0.      ],\n",
       "          [0.203533, 0.      ]],\n",
       " \n",
       "         [[0.210873, 0.223528],\n",
       "          [0.208646, 0.      ],\n",
       "          [0.206532, 0.      ]]]]),\n",
       " 'infFiss': array([[[[0.00202585, 0.0418577 ],\n",
       "          [0.00270452, 0.0596272 ],\n",
       "          [0.00160354, 0.0579681 ]],\n",
       " \n",
       "         [[0.00203874, 0.0421748 ],\n",
       "          [0.00271604, 0.059773  ],\n",
       "          [0.00161354, 0.0578353 ]],\n",
       " \n",
       "         [[0.00207311, 0.0429005 ],\n",
       "          [0.00275996, 0.0606893 ],\n",
       "          [0.00164157, 0.0589975 ]]],\n",
       " \n",
       " \n",
       "        [[[0.00203466, 0.0428353 ],\n",
       "          [0.00270639, 0.0588976 ],\n",
       "          [0.00161364, 0.0584939 ]],\n",
       " \n",
       "         [[0.00204854, 0.0431881 ],\n",
       "          [0.00271687, 0.0590393 ],\n",
       "          [0.00162693, 0.0583547 ]],\n",
       " \n",
       "         [[0.00208487, 0.0439028 ],\n",
       "          [0.00276105, 0.0600027 ],\n",
       "          [0.00165359, 0.0593599 ]]],\n",
       " \n",
       " \n",
       "        [[[0.00076569, 0.0213832 ],\n",
       "          [0.0011131 , 0.0048538 ],\n",
       "          [0.00055612, 0.        ]],\n",
       " \n",
       "         [[0.00078159, 0.0371738 ],\n",
       "          [0.00112124, 0.        ],\n",
       "          [0.00055993, 0.        ]],\n",
       " \n",
       "         [[0.00078898, 0.0212969 ],\n",
       "          [0.00114275, 0.        ],\n",
       "          [0.00057121, 0.        ]]]]),\n",
       " 'infS0': array([[[[3.02202e-01, 3.79052e-03, 2.55220e-03, 4.68744e-01],\n",
       "          [2.98800e-01, 1.91325e-03, 3.75230e-03, 4.69190e-01],\n",
       "          [3.01688e-01, 1.88554e-03, 3.66588e-03, 4.62946e-01]],\n",
       " \n",
       "         [[3.01937e-01, 3.86034e-03, 1.91390e-03, 4.69248e-01],\n",
       "          [2.98689e-01, 1.97521e-03, 2.84247e-03, 4.70054e-01],\n",
       "          [3.01389e-01, 1.92832e-03, 2.80760e-03, 4.63548e-01]],\n",
       " \n",
       "         [[3.05187e-01, 3.78087e-03, 2.28258e-03, 4.71163e-01],\n",
       "          [3.01697e-01, 1.91652e-03, 3.29300e-03, 4.71941e-01],\n",
       "          [3.04559e-01, 1.88327e-03, 3.35676e-03, 4.65229e-01]]],\n",
       " \n",
       " \n",
       "        [[[3.02295e-01, 3.90650e-03, 2.39543e-03, 4.71900e-01],\n",
       "          [2.99132e-01, 1.98869e-03, 3.55086e-03, 4.72136e-01],\n",
       "          [3.01665e-01, 1.94238e-03, 3.62673e-03, 4.65800e-01]],\n",
       " \n",
       "         [[3.02058e-01, 3.98335e-03, 1.77565e-03, 4.72929e-01],\n",
       "          [2.98838e-01, 2.04744e-03, 2.70442e-03, 4.72699e-01],\n",
       "          [3.01570e-01, 1.99140e-03, 2.75011e-03, 4.66478e-01]],\n",
       " \n",
       "         [[3.05168e-01, 3.90305e-03, 2.14285e-03, 4.74575e-01],\n",
       "          [3.01964e-01, 1.98013e-03, 3.19121e-03, 4.74288e-01],\n",
       "          [3.04680e-01, 1.94250e-03, 3.21384e-03, 4.68487e-01]]],\n",
       " \n",
       " \n",
       "        [[[2.04566e-01, 9.58501e-09, 0.00000e+00, 1.20576e-01],\n",
       "          [2.01952e-01, 1.47052e-09, 0.00000e+00, 8.56562e-02],\n",
       "          [2.00460e-01, 0.00000e+00, 0.00000e+00, 0.00000e+00]],\n",
       " \n",
       "         [[2.04010e-01, 1.51864e-08, 2.36886e-03, 1.98416e-01],\n",
       "          [2.01523e-01, 0.00000e+00, 0.00000e+00, 0.00000e+00],\n",
       "          [2.00352e-01, 0.00000e+00, 0.00000e+00, 0.00000e+00]],\n",
       " \n",
       "         [[2.07367e-01, 2.25511e-08, 6.25322e-03, 1.43616e-01],\n",
       "          [2.04756e-01, 0.00000e+00, 0.00000e+00, 0.00000e+00],\n",
       "          [2.03287e-01, 0.00000e+00, 0.00000e+00, 0.00000e+00]]]]),\n",
       " 'infS1': array([[[[ 8.58873e-02,  9.51811e-04,  3.16887e-04,  1.02054e-01],\n",
       "          [ 8.46104e-02,  4.59562e-04,  4.92315e-04,  1.06524e-01],\n",
       "          [ 8.55791e-02,  4.52692e-04,  4.69298e-04,  1.05973e-01]],\n",
       " \n",
       "         [[ 8.60435e-02,  9.70017e-04,  4.19186e-04,  1.01823e-01],\n",
       "          [ 8.47372e-02,  4.73664e-04,  6.28652e-04,  1.06232e-01],\n",
       "          [ 8.56435e-02,  4.64527e-04,  6.00769e-04,  1.05761e-01]],\n",
       " \n",
       "         [[ 8.63180e-02,  9.50297e-04,  3.56915e-04,  1.01795e-01],\n",
       "          [ 8.50088e-02,  4.57913e-04,  5.56158e-04,  1.06504e-01],\n",
       "          [ 8.59347e-02,  4.51844e-04,  6.00426e-04,  1.06234e-01]]],\n",
       " \n",
       " \n",
       "        [[[ 8.59631e-02,  9.85513e-04,  2.95213e-04,  1.01828e-01],\n",
       "          [ 8.47122e-02,  4.80083e-04,  4.76074e-04,  1.05798e-01],\n",
       "          [ 8.56140e-02,  4.69216e-04,  4.73563e-04,  1.05988e-01]],\n",
       " \n",
       "         [[ 8.61654e-02,  1.00982e-03,  3.86364e-04,  1.01770e-01],\n",
       "          [ 8.48698e-02,  4.96745e-04,  5.86621e-04,  1.05479e-01],\n",
       "          [ 8.57435e-02,  4.81254e-04,  6.46159e-04,  1.05860e-01]],\n",
       " \n",
       "         [[ 8.63794e-02,  9.80371e-04,  3.41780e-04,  1.01953e-01],\n",
       "          [ 8.51091e-02,  4.76417e-04,  5.06893e-04,  1.05982e-01],\n",
       "          [ 8.60877e-02,  4.70456e-04,  5.33123e-04,  1.06595e-01]]],\n",
       " \n",
       " \n",
       "        [[[ 1.47220e-02, -5.37368e-09,  0.00000e+00,  1.75397e-02],\n",
       "          [ 1.57559e-02, -9.11748e-10,  0.00000e+00,  1.01638e-02],\n",
       "          [ 1.60573e-02,  0.00000e+00,  0.00000e+00,  0.00000e+00]],\n",
       " \n",
       "         [[ 1.46128e-02, -4.74527e-09, -1.13892e-03,  3.16993e-02],\n",
       "          [ 1.57083e-02,  0.00000e+00,  0.00000e+00,  0.00000e+00],\n",
       "          [ 1.60417e-02,  0.00000e+00,  0.00000e+00,  0.00000e+00]],\n",
       " \n",
       "         [[ 1.49411e-02, -4.47934e-09,  7.06159e-04,  1.95269e-03],\n",
       "          [ 1.60461e-02,  0.00000e+00,  0.00000e+00,  0.00000e+00],\n",
       "          [ 1.63546e-02,  0.00000e+00,  0.00000e+00,  0.00000e+00]]]]),\n",
       " 'infDiffcoef': array([[[[1.79463 , 0.800549],\n",
       "          [1.84284 , 0.683089],\n",
       "          [1.83696 , 0.689011]],\n",
       " \n",
       "         [[1.79344 , 0.799941],\n",
       "          [1.83961 , 0.682022],\n",
       "          [1.83729 , 0.689392]],\n",
       " \n",
       "         [[1.76988 , 0.793473],\n",
       "          [1.81794 , 0.677562],\n",
       "          [1.81223 , 0.685027]]],\n",
       " \n",
       " \n",
       "        [[[1.79449 , 0.806315],\n",
       "          [1.83948 , 0.693392],\n",
       "          [1.83787 , 0.696704]],\n",
       " \n",
       "         [[1.79332 , 0.804966],\n",
       "          [1.8394  , 0.692939],\n",
       "          [1.83589 , 0.696552]],\n",
       " \n",
       "         [[1.77071 , 0.799193],\n",
       "          [1.81507 , 0.688397],\n",
       "          [1.81248 , 0.691973]]],\n",
       " \n",
       " \n",
       "        [[[1.90544 , 2.27213 ],\n",
       "          [1.95683 , 3.47538 ],\n",
       "          [1.96894 , 0.      ]],\n",
       " \n",
       "         [[1.90673 , 1.83836 ],\n",
       "          [1.95873 , 0.      ],\n",
       "          [1.96837 , 0.      ]],\n",
       " \n",
       "         [[1.87813 , 2.67538 ],\n",
       "          [1.92969 , 0.      ],\n",
       "          [1.94121 , 0.      ]]]]),\n",
       " 'b1Tot': array([[[[0.315289, 0.544956],\n",
       "          [0.314948, 0.617813],\n",
       "          [0.322501, 0.614784]],\n",
       " \n",
       "         [[0.314588, 0.545238],\n",
       "          [0.314521, 0.618361],\n",
       "          [0.321906, 0.614522]],\n",
       " \n",
       "         [[0.31819 , 0.548404],\n",
       "          [0.317775, 0.62188 ],\n",
       "          [0.325404, 0.618246]]],\n",
       " \n",
       " \n",
       "        [[[0.314201, 0.541539],\n",
       "          [0.314872, 0.609286],\n",
       "          [0.321975, 0.609002]],\n",
       " \n",
       "         [[0.313499, 0.542378],\n",
       "          [0.314235, 0.60928 ],\n",
       "          [0.32158 , 0.608918]],\n",
       " \n",
       "         [[0.316969, 0.545317],\n",
       "          [0.317681, 0.612854],\n",
       "          [0.325054, 0.613142]]],\n",
       " \n",
       " \n",
       "        [[[0.213129, 0.227461],\n",
       "          [0.208035, 0.10707 ],\n",
       "          [0.203646, 0.      ]],\n",
       " \n",
       "         [[0.212007, 0.313353],\n",
       "          [0.207377, 0.      ],\n",
       "          [0.203533, 0.      ]],\n",
       " \n",
       "         [[0.215832, 0.224764],\n",
       "          [0.210819, 0.      ],\n",
       "          [0.206532, 0.      ]]]]),\n",
       " 'b1Fiss': array([[[[0.00205058, 0.0418792 ],\n",
       "          [0.00277565, 0.0596257 ],\n",
       "          [0.00170501, 0.0579722 ]],\n",
       " \n",
       "         [[0.0020585 , 0.0421921 ],\n",
       "          [0.00278366, 0.0597712 ],\n",
       "          [0.00171431, 0.0578385 ]],\n",
       " \n",
       "         [[0.00209611, 0.0429204 ],\n",
       "          [0.00282909, 0.0606878 ],\n",
       "          [0.00174406, 0.0589996 ]]],\n",
       " \n",
       " \n",
       "        [[[0.00204136, 0.0428422 ],\n",
       "          [0.0027706 , 0.0588978 ],\n",
       "          [0.00171042, 0.0585033 ]],\n",
       " \n",
       "         [[0.00204952, 0.0431891 ],\n",
       "          [0.00277735, 0.0590397 ],\n",
       "          [0.00172314, 0.0583628 ]],\n",
       " \n",
       "         [[0.00208931, 0.0439075 ],\n",
       "          [0.00282406, 0.0600028 ],\n",
       "          [0.00175182, 0.0593675 ]]],\n",
       " \n",
       " \n",
       "        [[[0.00081411, 0.0213399 ],\n",
       "          [0.00111397, 0.0048538 ],\n",
       "          [0.00055612, 0.        ]],\n",
       " \n",
       "         [[0.00083624, 0.0370017 ],\n",
       "          [0.00112401, 0.        ],\n",
       "          [0.00055993, 0.        ]],\n",
       " \n",
       "         [[0.0008397 , 0.0216071 ],\n",
       "          [0.00114383, 0.        ],\n",
       "          [0.00057121, 0.        ]]]]),\n",
       " 'b1S0': array([[[[3.03513e-01, 3.93103e-03, 2.54533e-03, 4.68824e-01],\n",
       "          [3.02083e-01, 2.06865e-03, 3.74716e-03, 4.69253e-01],\n",
       "          [3.09358e-01, 2.23087e-03, 3.65600e-03, 4.63063e-01]],\n",
       " \n",
       "         [[3.02965e-01, 3.97283e-03, 1.90985e-03, 4.69310e-01],\n",
       "          [3.01766e-01, 2.12610e-03, 2.83866e-03, 4.70114e-01],\n",
       "          [3.08857e-01, 2.27391e-03, 2.79999e-03, 4.63663e-01]],\n",
       " \n",
       "         [[3.06391e-01, 3.90875e-03, 2.27712e-03, 4.71234e-01],\n",
       "          [3.04869e-01, 2.06608e-03, 3.28868e-03, 4.72002e-01],\n",
       "          [3.12217e-01, 2.22569e-03, 3.34828e-03, 4.65341e-01]]],\n",
       " \n",
       " \n",
       "        [[[3.02649e-01, 3.94533e-03, 2.39334e-03, 4.71925e-01],\n",
       "          [3.02092e-01, 2.13435e-03, 3.54492e-03, 4.72211e-01],\n",
       "          [3.08927e-01, 2.27966e-03, 3.61498e-03, 4.65949e-01]],\n",
       " \n",
       "         [[3.02109e-01, 3.98916e-03, 1.77541e-03, 4.72932e-01],\n",
       "          [3.01572e-01, 2.18683e-03, 2.70009e-03, 4.72772e-01],\n",
       "          [3.08625e-01, 2.32901e-03, 2.74106e-03, 4.66622e-01]],\n",
       " \n",
       "         [[3.05400e-01, 3.92824e-03, 2.14167e-03, 4.74592e-01],\n",
       "          [3.04841e-01, 2.12046e-03, 3.18613e-03, 4.74360e-01],\n",
       "          [3.11946e-01, 2.27829e-03, 3.20397e-03, 4.68627e-01]]],\n",
       " \n",
       " \n",
       "        [[[2.09090e-01, 2.84938e-08, 0.00000e+00, 1.18934e-01],\n",
       "          [2.04003e-01, 2.28350e-09, 0.00000e+00, 8.56562e-02],\n",
       "          [2.00460e-01, 0.00000e+00, 0.00000e+00, 0.00000e+00]],\n",
       " \n",
       "         [[2.08045e-01, 4.22040e-08, 1.88932e-03, 1.96751e-01],\n",
       "          [2.03381e-01, 0.00000e+00, 0.00000e+00, 0.00000e+00],\n",
       "          [2.00352e-01, 0.00000e+00, 0.00000e+00, 0.00000e+00]],\n",
       " \n",
       "         [[2.11752e-01, 6.95195e-08, 6.17141e-03, 1.44585e-01],\n",
       "          [2.06727e-01, 0.00000e+00, 0.00000e+00, 0.00000e+00],\n",
       "          [2.03287e-01, 0.00000e+00, 0.00000e+00, 0.00000e+00]]]]),\n",
       " 'b1S1': array([[[[ 8.62938e-02,  9.87870e-04,  3.15987e-04,  1.02054e-01],\n",
       "          [ 8.55644e-02,  4.97770e-04,  4.91622e-04,  1.06523e-01],\n",
       "          [ 8.77030e-02,  5.37638e-04,  4.67928e-04,  1.05971e-01]],\n",
       " \n",
       "         [[ 8.63660e-02,  9.98902e-04,  4.18296e-04,  1.01823e-01],\n",
       "          [ 8.56397e-02,  5.10709e-04,  6.27807e-04,  1.06232e-01],\n",
       "          [ 8.77291e-02,  5.49880e-04,  5.99134e-04,  1.05759e-01]],\n",
       " \n",
       "         [[ 8.66882e-02,  9.83164e-04,  3.56043e-04,  1.01794e-01],\n",
       "          [ 8.59200e-02,  4.94501e-04,  5.55417e-04,  1.06504e-01],\n",
       "          [ 8.80355e-02,  5.36031e-04,  5.98875e-04,  1.06233e-01]]],\n",
       " \n",
       " \n",
       "        [[[ 8.60729e-02,  9.95524e-04,  2.94941e-04,  1.01828e-01],\n",
       "          [ 8.55720e-02,  5.16092e-04,  4.75258e-04,  1.05798e-01],\n",
       "          [ 8.76315e-02,  5.52707e-04,  4.71950e-04,  1.05986e-01]],\n",
       " \n",
       "         [[ 8.61816e-02,  1.01132e-03,  3.86312e-04,  1.01770e-01],\n",
       "          [ 8.56720e-02,  5.31353e-04,  5.85682e-04,  1.05478e-01],\n",
       "          [ 8.77192e-02,  5.64892e-04,  6.44026e-04,  1.05858e-01]],\n",
       " \n",
       "         [[ 8.64508e-02,  9.86836e-04,  3.41590e-04,  1.01953e-01],\n",
       "          [ 8.59372e-02,  5.10975e-04,  5.06085e-04,  1.05982e-01],\n",
       "          [ 8.80843e-02,  5.53809e-04,  5.31459e-04,  1.06594e-01]]],\n",
       " \n",
       " \n",
       "        [[[ 1.27515e-02, -1.56807e-08,  0.00000e+00,  1.90044e-02],\n",
       "          [ 1.49481e-02, -1.41581e-09,  0.00000e+00,  1.01638e-02],\n",
       "          [ 1.60573e-02,  0.00000e+00,  0.00000e+00,  0.00000e+00]],\n",
       " \n",
       "         [[ 1.27523e-02, -1.40207e-08, -9.08368e-04,  3.17115e-02],\n",
       "          [ 1.49505e-02,  0.00000e+00,  0.00000e+00,  0.00000e+00],\n",
       "          [ 1.60417e-02,  0.00000e+00,  0.00000e+00,  0.00000e+00]],\n",
       " \n",
       "         [[ 1.29824e-02, -1.26623e-08,  6.85039e-04,  2.43369e-03],\n",
       "          [ 1.52591e-02,  0.00000e+00,  0.00000e+00,  0.00000e+00],\n",
       "          [ 1.63546e-02,  0.00000e+00,  0.00000e+00,  0.00000e+00]]]]),\n",
       " 'b1Diffcoef': array([[[[1.75199 , 0.861581],\n",
       "          [1.80254 , 0.767144],\n",
       "          [1.80135 , 0.775723]],\n",
       " \n",
       "         [[1.75109 , 0.860932],\n",
       "          [1.79892 , 0.765665],\n",
       "          [1.80125 , 0.775954]],\n",
       " \n",
       "         [[1.72842 , 0.854376],\n",
       "          [1.77799 , 0.760522],\n",
       "          [1.77592 , 0.77069 ]]],\n",
       " \n",
       " \n",
       "        [[[1.75127 , 0.863097],\n",
       "          [1.79839 , 0.773388],\n",
       "          [1.80157 , 0.780404]],\n",
       " \n",
       "         [[1.75028 , 0.862226],\n",
       "          [1.7981  , 0.77304 ],\n",
       "          [1.7987  , 0.779756]],\n",
       " \n",
       "         [[1.72866 , 0.855668],\n",
       "          [1.77465 , 0.767675],\n",
       "          [1.77537 , 0.775195]]],\n",
       " \n",
       " \n",
       "        [[[1.82823 , 2.50608 ],\n",
       "          [1.9257  , 3.03014 ],\n",
       "          [1.96894 , 0.      ]],\n",
       " \n",
       "         [[1.83541 , 1.61999 ],\n",
       "          [1.92999 , 0.      ],\n",
       "          [1.96837 , 0.      ]],\n",
       " \n",
       "         [[1.80449 , 1.97809 ],\n",
       "          [1.90048 , 0.      ],\n",
       "          [1.94121 , 0.      ]]]])}"
      ]
     },
     "execution_count": 22,
     "metadata": {},
     "output_type": "execute_result"
    }
   ],
   "source": [
    "u0.xsTables"
   ]
  },
  {
   "cell_type": "code",
   "execution_count": 23,
   "metadata": {},
   "outputs": [],
   "source": [
    "u0Tot = u0.xsTables['infTot']"
   ]
  },
  {
   "cell_type": "code",
   "execution_count": 24,
   "metadata": {},
   "outputs": [
    {
     "data": {
      "text/plain": [
       "(3, 3, 3, 2)"
      ]
     },
     "execution_count": 24,
     "metadata": {},
     "output_type": "execute_result"
    }
   ],
   "source": [
    "u0Tot.shape"
   ]
  },
  {
   "cell_type": "code",
   "execution_count": 25,
   "metadata": {
    "scrolled": true
   },
   "outputs": [
    {
     "data": {
      "text/plain": [
       "array([[[[0.313696, 0.544846],\n",
       "         [0.311024, 0.617734],\n",
       "         [0.313348, 0.614651]],\n",
       "\n",
       "        [[0.313338, 0.54515 ],\n",
       "         [0.310842, 0.618286],\n",
       "         [0.31299 , 0.614391]],\n",
       "\n",
       "        [[0.31673 , 0.548305],\n",
       "         [0.313987, 0.621804],\n",
       "         [0.316273, 0.61812 ]]],\n",
       "\n",
       "\n",
       "       [[[0.313772, 0.541505],\n",
       "         [0.311335, 0.609197],\n",
       "         [0.313311, 0.608837]],\n",
       "\n",
       "        [[0.313437, 0.542373],\n",
       "         [0.310967, 0.609192],\n",
       "         [0.31316 , 0.608756]],\n",
       "\n",
       "        [[0.316688, 0.545294],\n",
       "         [0.314245, 0.612767],\n",
       "         [0.316392, 0.612985]]],\n",
       "\n",
       "\n",
       "       [[[0.20802 , 0.228908],\n",
       "         [0.205774, 0.10707 ],\n",
       "         [0.203646, 0.      ]],\n",
       "\n",
       "        [[0.207432, 0.315208],\n",
       "         [0.205326, 0.      ],\n",
       "         [0.203533, 0.      ]],\n",
       "\n",
       "        [[0.210873, 0.223528],\n",
       "         [0.208646, 0.      ],\n",
       "         [0.206532, 0.      ]]]])"
      ]
     },
     "execution_count": 25,
     "metadata": {},
     "output_type": "execute_result"
    }
   ],
   "source": [
    "u0Tot"
   ]
  },
  {
   "cell_type": "markdown",
   "metadata": {},
   "source": [
    "## Changing perturbation values\n",
    "The values of `states` and `perturbations` can be easily modified, so long as the structures are preserved. For example, as the current `states` are string values, and of equal perturbations (three boron concentrations, three fuel temperatures), we can set the `states` to be a single\n",
    "2x3 array"
   ]
  },
  {
   "cell_type": "code",
   "execution_count": 26,
   "metadata": {},
   "outputs": [
    {
     "data": {
      "text/plain": [
       "array([[1000.,  750.,    0.],\n",
       "       [1200.,  600.,  900.]])"
      ]
     },
     "execution_count": 26,
     "metadata": {},
     "output_type": "execute_result"
    }
   ],
   "source": [
    "collector.states = numpy.array([\n",
    "    [1000, 750, 0], \n",
    "    [1200, 600, 900]], \n",
    "    dtype=float)\n",
    "collector.states"
   ]
  },
  {
   "cell_type": "markdown",
   "metadata": {},
   "source": [
    "Some error checking is performed to make sure the passed perturbations match the structure of the underlying data. Here, we attempt to pass the wrong number of fuel temperature perturbations."
   ]
  },
  {
   "cell_type": "code",
   "execution_count": 27,
   "metadata": {},
   "outputs": [
    {
     "name": "stdout",
     "output_type": "stream",
     "text": [
      "Current number of perturbations for state TFU is 3, not 2\n"
     ]
    }
   ],
   "source": [
    "try:\n",
    "    collector.states = numpy.array([\n",
    "        [1000, 750, 0],\n",
    "        [1200, 600],  # wrong\n",
    "    ])\n",
    "except ValueError as ve:\n",
    "    print(str(ve))"
   ]
  },
  {
   "cell_type": "markdown",
   "metadata": {},
   "source": [
    "If the specific perturbations were not known when creating the collector, the value of `perturbations` can also be changed, with similar error checking."
   ]
  },
  {
   "cell_type": "code",
   "execution_count": 28,
   "metadata": {},
   "outputs": [
    {
     "data": {
      "text/plain": [
       "['boron conc', 'fuel temperature']"
      ]
     },
     "execution_count": 28,
     "metadata": {},
     "output_type": "execute_result"
    }
   ],
   "source": [
    "collector.perturbations = ['boron conc', 'fuel temperature']\n",
    "collector.perturbations"
   ]
  },
  {
   "cell_type": "code",
   "execution_count": 29,
   "metadata": {},
   "outputs": [
    {
     "name": "stdout",
     "output_type": "stream",
     "text": [
      "Current number of perturbations is 2, not 3\n"
     ]
    }
   ],
   "source": [
    "try:\n",
    "    collector.perturbations = ['boron', 'fuel', 'ctrl']  # wrong\n",
    "except ValueError as ve:\n",
    "    print(str(ve))"
   ]
  },
  {
   "cell_type": "markdown",
   "metadata": {},
   "source": [
    "# Example nodal diffusion writer\n",
    "\n",
    "As each nodal diffusion code has it's own required data structure, creating a general writer is a difficult task. The intent with the `BranchCollector` is to provide a framework where the data is readily available, and such a writer can be created with ease. Here, an example writer is demonstrated, one that writes each cross section. The writer first writes a table of the perturbations at the top of the input file, showing the ordering and values of the perturbations. Options are also provided for controlling formatting."
   ]
  },
  {
   "cell_type": "code",
   "execution_count": 30,
   "metadata": {},
   "outputs": [],
   "source": [
    "from nodal_writer import Writer"
   ]
  },
  {
   "cell_type": "code",
   "execution_count": 31,
   "metadata": {},
   "outputs": [
    {
     "name": "stdout",
     "output_type": "stream",
     "text": [
      "Class for writing an example cross section file.\n",
      "\n",
      "    Parameters\n",
      "    ----------\n",
      "    collector: xs.Collector\n",
      "        Object that read the branching file and stored the cross sections\n",
      "        along the perturbation vector\n",
      "    xsPerLine: int\n",
      "        Number of cross sections / group constants to write per line\n",
      "    floatFmt: str\n",
      "        Formattable string used when writing floating point values\n",
      "    strFmt: str\n",
      "        Formattable string used when writing the names of the perturbations\n",
      "    xsRemap: None or dict\n",
      "        Dictionary used to find a replacement name for cross sections when\n",
      "        writing.  Between each cross section block, the name of cross\n",
      "        section and group will be written as ``# {name} group {g}``.\n",
      "        When ``xsRemap`` is ``None``, the names are ``mixedCase`` as\n",
      "        they appear in ``HomogUniv`` objects, e.g.  ``'infTot'``,\n",
      "        ``'diffCoeff'``, etc. If ``xsRemap`` is a dictionary, it can\n",
      "        be used to write a different name. Passing ``{'infTot': 'Total\n",
      "        cross section'}`` would write ``'Total cross seciton'``\n",
      "        instead of ``'infTot'``, but all other names would be unchanged.\n"
     ]
    }
   ],
   "source": [
    "print(Writer.__doc__.strip())"
   ]
  },
  {
   "cell_type": "code",
   "execution_count": 32,
   "metadata": {},
   "outputs": [],
   "source": [
    "writer = Writer(collector)"
   ]
  },
  {
   "cell_type": "code",
   "execution_count": 33,
   "metadata": {},
   "outputs": [
    {
     "name": "stdout",
     "output_type": "stream",
     "text": [
      "Write the contents of a single universe\n",
      "\n",
      "        Parameters\n",
      "        ----------\n",
      "        universe: int or key\n",
      "            Key of universe that exists in ``self.collector``. Typically\n",
      "            integer values of homogenized universes from coefficient file\n",
      "        stream: None or str or writeable\n",
      "            If ``None``, return a string containing what would have been\n",
      "            written to file. If a string, then write to this file. Otherwise,\n",
      "            ensure that the object has a ``write`` method and write to this\n",
      "            object\n",
      "        mode: {'a', 'w'}\n",
      "            Write or append to file. Only needed if stream is a string\n"
     ]
    }
   ],
   "source": [
    "print(writer.write.__doc__.strip())"
   ]
  },
  {
   "cell_type": "code",
   "execution_count": 34,
   "metadata": {},
   "outputs": [],
   "source": [
    "# write to a file \"in memory\"\n",
    "out = writer.write(0)"
   ]
  },
  {
   "cell_type": "code",
   "execution_count": 35,
   "metadata": {},
   "outputs": [
    {
     "name": "stdout",
     "output_type": "stream",
     "text": [
      "# Cross sections for universe 0\n",
      "boron conc           1.00000000E+03 7.50000000E+02 0.00000000E+00\n",
      "fuel temperature     1.20000000E+03 6.00000000E+02 9.00000000E+02\n",
      "Burnup [MWd/kgU]     0.00000000E+00 1.00000000E+00 1.00000000E+01\n",
      "# infTot group 1\n",
      " 3.13696000E-01 3.11024000E-01 3.13348000E-01 3.13338000E-01\n",
      " 3.10842000E-01 3.12990000E-01 3.16730000E-01 3.13987000E-01\n",
      " 3.16273000E-01 3.13772000E-01 3.11335000E-01 3.13311000E-01\n",
      " 3.13437000E-01 3.10967000E-01 3.13160000E-01 3.16688000E-01\n",
      " 3.14245000E-01 3.16392000E-01 2.08020000E-01 2.05774000E-01\n",
      " 2.03646000E-01 2.07432000E-01 2.05326000E-01 2.03533000E-01\n",
      " 2.10873000E-01 2.08646000E-01 2.06532000E-01\n",
      "# infTot group 2\n",
      " 5.44846000E-01 6.17734000E-01 6.14651000E-01 5.45150000E-01\n",
      " 6.18286000E-01 6.14391000E-01 5.48305000E-01 6.21804000E-01\n",
      " 6.18120000E-01 5.41505000E-01 6.09197000E-01 6.08837000E-01\n",
      " 5.42373000E-01 6.09192000E-01 6.08756000E-01 5.45294000E-01\n",
      " 6.12767000E-01 6.12985000E-01 2.28908000E-01 1.07070000E-01\n",
      " 0.00000000E+00 3.1\n"
     ]
    }
   ],
   "source": [
    "print(out[:1000])"
   ]
  }
 ],
 "metadata": {
  "kernelspec": {
   "display_name": "serpent-tools",
   "language": "python",
   "name": "serpent-tools"
  },
  "language_info": {
   "codemirror_mode": {
    "name": "ipython",
    "version": 3
   },
   "file_extension": ".py",
   "mimetype": "text/x-python",
   "name": "python",
   "nbconvert_exporter": "python",
   "pygments_lexer": "ipython3",
   "version": "3.7.2"
  }
 },
 "nbformat": 4,
 "nbformat_minor": 2
}
