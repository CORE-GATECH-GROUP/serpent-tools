{
 "cells": [
  {
   "cell_type": "markdown",
   "metadata": {},
   "source": [
    "Copyright (c) 2017-2019 [Serpent-Tools developer team](https://github.com/CORE-GATECH-GROUP/serpent-tools/graphs/contributors), GTRC\n",
    "\n",
    "THE SOFTWARE IS PROVIDED \"AS IS\", WITHOUT WARRANTY OF ANY KIND, EXPRESS OR IMPLIED, INCLUDING BUT NOT LIMITED TO THE WARRANTIES OF MERCHANTABILITY, FITNESS FOR A PARTICULAR PURPOSE AND NONINFRINGEMENT. IN NO EVENT SHALL THE AUTHORS OR COPYRIGHT HOLDERS BE LIABLE FOR ANY CLAIM, DAMAGES OR OTHER LIABILITY, WHETHER IN AN ACTION OF CONTRACT, TORT OR OTHERWISE, ARISING FROM, OUT OF OR IN CONNECTION WITH THE SOFTWARE OR THE USE OR OTHER DEALINGS IN THE SOFTWARE."
   ]
  },
  {
   "cell_type": "markdown",
   "metadata": {},
   "source": [
    "Data files are not included with the python package, but can be downloaded from the [GitHub repository](https://github.com/CORE-GATECH-GROUP/serpent-tools). For this tutorial, the files are placed in the directory identified with the ``SERPENT_TOOLS_DATA`` environment variable."
   ]
  },
  {
   "cell_type": "code",
   "execution_count": 1,
   "metadata": {},
   "outputs": [],
   "source": [
    "import os\n",
    "coeFile = os.path.join(\n",
    "    os.environ[\"SERPENT_TOOLS_DATA\"],\n",
    "    \"demo.coe\")"
   ]
  },
  {
   "cell_type": "markdown",
   "metadata": {},
   "source": [
    "# Coefficient file to nodal diffusion cross sections\n",
    "A recent feature of SERPENT is the ability to performing branching calculations using the [automated burnup sequence](http://serpent.vtt.fi/mediawiki/index.php/Automated_burnup_sequence). `serpentTools` can read these coefficient files using the [`BranchingReader`](https://serpent-tools.readthedocs.io/en/master/examples/Branching.html).\n",
    "This automated burnup sequence is ideal for generating group constant data for nodal diffusion codes, that often include some multi-physics features, criticality searches, or other control mechanisms. A criticality search could be performed by tweaking the boron concentration in the coolant or adjusting control rod insertions. Similarly, some codes may include coupled TH analysis to convert power profiles to temperature profiles and adjust cross sections accordingly. Each code has a unique flavor for utilizing a set of group constants across these perturbations, and this notebook will demonstrate using the `BranchCollector` to gather and write a simple set of cross sections."
   ]
  },
  {
   "cell_type": "code",
   "execution_count": 2,
   "metadata": {},
   "outputs": [],
   "source": [
    "import numpy\n",
    "import serpentTools\n",
    "from serpentTools.xs import BranchCollector"
   ]
  },
  {
   "cell_type": "code",
   "execution_count": 3,
   "metadata": {},
   "outputs": [],
   "source": [
    "coe = serpentTools.read(coeFile)"
   ]
  },
  {
   "cell_type": "markdown",
   "metadata": {},
   "source": [
    "This specific input file contained two perturbations: boron concentration and fuel temperature. Boron concentration had three branches: `nom` with no boron, then `B1000` and `B750`, with 1000 and 750 ppm boron in coolant. Fuel temperature had a nominal branch at 900 K, with 1200 and 600 K perturbations as well. These can be confirmed by observing the `branches` dictionary on the `BranchingReader`"
   ]
  },
  {
   "cell_type": "code",
   "execution_count": 4,
   "metadata": {},
   "outputs": [
    {
     "data": {
      "text/plain": [
       "[('nom', 'nom'),\n",
       " ('B750', 'nom'),\n",
       " ('B1000', 'nom'),\n",
       " ('nom', 'FT1200'),\n",
       " ('B750', 'FT1200'),\n",
       " ('B1000', 'FT1200'),\n",
       " ('nom', 'FT600'),\n",
       " ('B750', 'FT600'),\n",
       " ('B1000', 'FT600')]"
      ]
     },
     "execution_count": 4,
     "metadata": {},
     "output_type": "execute_result"
    }
   ],
   "source": [
    "list(coe.branches.keys())"
   ]
  },
  {
   "cell_type": "markdown",
   "metadata": {},
   "source": [
    "Cross sections are spread out through this `BranchingReader` across branches, burnup, and universes. The job of the `BranchCollector` is to place that data into mutli-dimensional matrices that represent the perturbations chosen by the user. A single group constant, say total cross section, has unique values for each universe, at each burnup point, for each perturbed state, and each energy group. Such a matrix would then contain five dimensions for this case.\n",
    "\n",
    "First, we create the `BranchCollector` from the `BranchingReader` and instruct the reader what perturbations are present in the file. The ordering is not important at this point, as it can be changed later."
   ]
  },
  {
   "cell_type": "code",
   "execution_count": 5,
   "metadata": {},
   "outputs": [],
   "source": [
    "collector = BranchCollector(coe)"
   ]
  },
  {
   "cell_type": "code",
   "execution_count": 6,
   "metadata": {},
   "outputs": [],
   "source": [
    "collector.collect(('BOR', 'TFU'))"
   ]
  },
  {
   "cell_type": "markdown",
   "metadata": {},
   "source": [
    "Now we can inspect the perturbation states, `states`, found by the collector."
   ]
  },
  {
   "cell_type": "code",
   "execution_count": 7,
   "metadata": {},
   "outputs": [
    {
     "data": {
      "text/plain": [
       "(('B1000', 'B750', 'nom'), ('FT1200', 'FT600', 'nom'))"
      ]
     },
     "execution_count": 7,
     "metadata": {},
     "output_type": "execute_result"
    }
   ],
   "source": [
    "collector.states"
   ]
  },
  {
   "cell_type": "markdown",
   "metadata": {},
   "source": [
    "The group constants are stored in the `xsTables` dictionary. Here we select the total cross section, `infTot` for further exploration."
   ]
  },
  {
   "cell_type": "code",
   "execution_count": 8,
   "metadata": {},
   "outputs": [
    {
     "data": {
      "text/plain": [
       "['infTot',\n",
       " 'infFiss',\n",
       " 'infS0',\n",
       " 'infS1',\n",
       " 'infDiffcoef',\n",
       " 'b1Tot',\n",
       " 'b1Fiss',\n",
       " 'b1S0',\n",
       " 'b1S1',\n",
       " 'b1Diffcoef']"
      ]
     },
     "execution_count": 8,
     "metadata": {},
     "output_type": "execute_result"
    }
   ],
   "source": [
    "list(collector.xsTables.keys())"
   ]
  },
  {
   "cell_type": "code",
   "execution_count": 9,
   "metadata": {},
   "outputs": [],
   "source": [
    "infT = collector.xsTables['infTot']"
   ]
  },
  {
   "cell_type": "code",
   "execution_count": 10,
   "metadata": {},
   "outputs": [
    {
     "data": {
      "text/plain": [
       "(5, 3, 3, 3, 2)"
      ]
     },
     "execution_count": 10,
     "metadata": {},
     "output_type": "execute_result"
    }
   ],
   "source": [
    "infT.shape"
   ]
  },
  {
   "cell_type": "markdown",
   "metadata": {},
   "source": [
    "Five dimensions as mentioned above. But how are they ordered? Inspecting the `axis` attribute tells us that the dimensions are universe, boron concentration, fuel temperature, burnup, and energy group."
   ]
  },
  {
   "cell_type": "code",
   "execution_count": 11,
   "metadata": {},
   "outputs": [
    {
     "data": {
      "text/plain": [
       "('Universe', 'BOR', 'TFU', 'Burnup', 'Group')"
      ]
     },
     "execution_count": 11,
     "metadata": {},
     "output_type": "execute_result"
    }
   ],
   "source": [
    "collector.axis"
   ]
  },
  {
   "cell_type": "markdown",
   "metadata": {},
   "source": [
    "The ordering of each of these dimensions is found by examining the `univIndex`, `states`, and `burnups` attributes."
   ]
  },
  {
   "cell_type": "code",
   "execution_count": 12,
   "metadata": {},
   "outputs": [
    {
     "data": {
      "text/plain": [
       "('0', '10', '20', '30', '40')"
      ]
     },
     "execution_count": 12,
     "metadata": {},
     "output_type": "execute_result"
    }
   ],
   "source": [
    "collector.univIndex"
   ]
  },
  {
   "cell_type": "code",
   "execution_count": 13,
   "metadata": {},
   "outputs": [
    {
     "data": {
      "text/plain": [
       "(('B1000', 'B750', 'nom'), ('FT1200', 'FT600', 'nom'))"
      ]
     },
     "execution_count": 13,
     "metadata": {},
     "output_type": "execute_result"
    }
   ],
   "source": [
    "collector.states"
   ]
  },
  {
   "cell_type": "code",
   "execution_count": 14,
   "metadata": {},
   "outputs": [
    {
     "data": {
      "text/plain": [
       "array([ 0.,  1., 10.])"
      ]
     },
     "execution_count": 14,
     "metadata": {},
     "output_type": "execute_result"
    }
   ],
   "source": [
    "collector.burnups"
   ]
  },
  {
   "cell_type": "markdown",
   "metadata": {},
   "source": [
    "For example, if we wanted the total cross section for universe 10, at 1000 ppm boron, nominal fuel temperature, and 10 MWd/kgU burnup, we would request"
   ]
  },
  {
   "cell_type": "code",
   "execution_count": 15,
   "metadata": {},
   "outputs": [
    {
     "data": {
      "text/plain": [
       "array([0.324746, 0.864346])"
      ]
     },
     "execution_count": 15,
     "metadata": {},
     "output_type": "execute_result"
    }
   ],
   "source": [
    "infT[1, 0, 2, 2]"
   ]
  },
  {
   "cell_type": "markdown",
   "metadata": {},
   "source": [
    "For this example, the scattering matrices were not reshaped from vectors to matrices and we would observe slightly different behavior in the `'Group'` dimension."
   ]
  },
  {
   "cell_type": "code",
   "execution_count": 16,
   "metadata": {},
   "outputs": [
    {
     "data": {
      "text/plain": [
       "(5, 3, 3, 3, 4)"
      ]
     },
     "execution_count": 16,
     "metadata": {},
     "output_type": "execute_result"
    }
   ],
   "source": [
    "collector.xsTables['infS1'].shape"
   ]
  },
  {
   "cell_type": "markdown",
   "metadata": {},
   "source": [
    "Four items in the last axis as the vectorized matrix represents fast to fast, fast to thermal, thermal to fast, and thermal to thermal scattering."
   ]
  },
  {
   "cell_type": "code",
   "execution_count": 17,
   "metadata": {},
   "outputs": [
    {
     "data": {
      "text/plain": [
       "array([0.087809  , 0.00023068, 0.00073939, 0.123981  ])"
      ]
     },
     "execution_count": 17,
     "metadata": {},
     "output_type": "execute_result"
    }
   ],
   "source": [
    "collector.xsTables['infS1'][1, 0, 2, 2]"
   ]
  },
  {
   "cell_type": "markdown",
   "metadata": {},
   "source": [
    "Many nodal diffusion codes request group constants on a per universe basis, or per assembly type. As we saw above, the first dimension of the `xsTables` matrices corresponds to universe. One can view group constants for specific universes with the `universes` dictionary. "
   ]
  },
  {
   "cell_type": "code",
   "execution_count": 18,
   "metadata": {},
   "outputs": [
    {
     "data": {
      "text/plain": [
       "{'0': <serpentTools.xs.BranchedUniv at 0x7fefd982acb0>,\n",
       " '10': <serpentTools.xs.BranchedUniv at 0x7fefd982ad10>,\n",
       " '20': <serpentTools.xs.BranchedUniv at 0x7fefd982ad70>,\n",
       " '30': <serpentTools.xs.BranchedUniv at 0x7fefd982add0>,\n",
       " '40': <serpentTools.xs.BranchedUniv at 0x7fefd982ae30>}"
      ]
     },
     "execution_count": 18,
     "metadata": {},
     "output_type": "execute_result"
    }
   ],
   "source": [
    "collector.universes"
   ]
  },
  {
   "cell_type": "code",
   "execution_count": 19,
   "metadata": {},
   "outputs": [
    {
     "data": {
      "text/plain": [
       "{'0': <serpentTools.xs.BranchedUniv at 0x7fefd982acb0>,\n",
       " '10': <serpentTools.xs.BranchedUniv at 0x7fefd982ad10>,\n",
       " '20': <serpentTools.xs.BranchedUniv at 0x7fefd982ad70>,\n",
       " '30': <serpentTools.xs.BranchedUniv at 0x7fefd982add0>,\n",
       " '40': <serpentTools.xs.BranchedUniv at 0x7fefd982ae30>}"
      ]
     },
     "execution_count": 19,
     "metadata": {},
     "output_type": "execute_result"
    }
   ],
   "source": [
    "collector.universes"
   ]
  },
  {
   "cell_type": "code",
   "execution_count": 20,
   "metadata": {},
   "outputs": [],
   "source": [
    "u0 = collector.universes['0']"
   ]
  },
  {
   "cell_type": "markdown",
   "metadata": {},
   "source": [
    "These `BranchedUniv` objects store views into the underlying collectors `xsTables` data corresponding to a single universe. The structuring is identical to that of the collector, with the first axis removed."
   ]
  },
  {
   "cell_type": "code",
   "execution_count": 21,
   "metadata": {},
   "outputs": [
    {
     "data": {
      "text/plain": [
       "('BOR', 'TFU')"
      ]
     },
     "execution_count": 21,
     "metadata": {},
     "output_type": "execute_result"
    }
   ],
   "source": [
    "u0.perturbations"
   ]
  },
  {
   "cell_type": "code",
   "execution_count": 22,
   "metadata": {},
   "outputs": [
    {
     "data": {
      "text/plain": [
       "('BOR', 'TFU', 'Burnup', 'Group')"
      ]
     },
     "execution_count": 22,
     "metadata": {},
     "output_type": "execute_result"
    }
   ],
   "source": [
    "u0.axis"
   ]
  },
  {
   "cell_type": "code",
   "execution_count": 23,
   "metadata": {},
   "outputs": [
    {
     "data": {
      "text/plain": [
       "(('B1000', 'B750', 'nom'), ('FT1200', 'FT600', 'nom'))"
      ]
     },
     "execution_count": 23,
     "metadata": {},
     "output_type": "execute_result"
    }
   ],
   "source": [
    "u0.states"
   ]
  },
  {
   "cell_type": "markdown",
   "metadata": {},
   "source": [
    "The contents of the `xsTables` dictionary are `numpy.array`s, views into the data stored on the ``BranchCollector``."
   ]
  },
  {
   "cell_type": "code",
   "execution_count": 24,
   "metadata": {},
   "outputs": [
    {
     "data": {
      "text/plain": [
       "['infTot',\n",
       " 'infFiss',\n",
       " 'infS0',\n",
       " 'infS1',\n",
       " 'infDiffcoef',\n",
       " 'b1Tot',\n",
       " 'b1Fiss',\n",
       " 'b1S0',\n",
       " 'b1S1',\n",
       " 'b1Diffcoef']"
      ]
     },
     "execution_count": 24,
     "metadata": {},
     "output_type": "execute_result"
    }
   ],
   "source": [
    "list(u0.xsTables.keys())"
   ]
  },
  {
   "cell_type": "code",
   "execution_count": 25,
   "metadata": {},
   "outputs": [],
   "source": [
    "u0Tot = u0.xsTables['infTot']"
   ]
  },
  {
   "cell_type": "code",
   "execution_count": 26,
   "metadata": {},
   "outputs": [
    {
     "data": {
      "text/plain": [
       "(3, 3, 3, 2)"
      ]
     },
     "execution_count": 26,
     "metadata": {},
     "output_type": "execute_result"
    }
   ],
   "source": [
    "u0Tot.shape"
   ]
  },
  {
   "cell_type": "code",
   "execution_count": 27,
   "metadata": {
    "scrolled": true
   },
   "outputs": [
    {
     "data": {
      "text/plain": [
       "array([[[[0.313696, 0.544846],\n",
       "         [0.311024, 0.617734],\n",
       "         [0.313348, 0.614651]],\n",
       "\n",
       "        [[0.313338, 0.54515 ],\n",
       "         [0.310842, 0.618286],\n",
       "         [0.31299 , 0.614391]],\n",
       "\n",
       "        [[0.31673 , 0.548305],\n",
       "         [0.313987, 0.621804],\n",
       "         [0.316273, 0.61812 ]]],\n",
       "\n",
       "\n",
       "       [[[0.313772, 0.541505],\n",
       "         [0.311335, 0.609197],\n",
       "         [0.313311, 0.608837]],\n",
       "\n",
       "        [[0.313437, 0.542373],\n",
       "         [0.310967, 0.609192],\n",
       "         [0.31316 , 0.608756]],\n",
       "\n",
       "        [[0.316688, 0.545294],\n",
       "         [0.314245, 0.612767],\n",
       "         [0.316392, 0.612985]]],\n",
       "\n",
       "\n",
       "       [[[0.20802 , 0.228908],\n",
       "         [0.205774, 0.10707 ],\n",
       "         [0.203646, 0.      ]],\n",
       "\n",
       "        [[0.207432, 0.315208],\n",
       "         [0.205326, 0.      ],\n",
       "         [0.203533, 0.      ]],\n",
       "\n",
       "        [[0.210873, 0.223528],\n",
       "         [0.208646, 0.      ],\n",
       "         [0.206532, 0.      ]]]])"
      ]
     },
     "execution_count": 27,
     "metadata": {},
     "output_type": "execute_result"
    }
   ],
   "source": [
    "u0Tot"
   ]
  },
  {
   "cell_type": "markdown",
   "metadata": {},
   "source": [
    "## Changing perturbation values\n",
    "The values of `states` and `perturbations` can be easily modified, so long as the structures are preserved. For example, as the current `states` are string values, and of equal perturbations (three boron concentrations, three fuel temperatures), we can set the `states` to be a single\n",
    "2x3 array"
   ]
  },
  {
   "cell_type": "code",
   "execution_count": 28,
   "metadata": {},
   "outputs": [
    {
     "data": {
      "text/plain": [
       "array([[1000.,  750.,    0.],\n",
       "       [1200.,  600.,  900.]])"
      ]
     },
     "execution_count": 28,
     "metadata": {},
     "output_type": "execute_result"
    }
   ],
   "source": [
    "collector.states = numpy.array([\n",
    "    [1000, 750, 0], \n",
    "    [1200, 600, 900]], \n",
    "    dtype=float)\n",
    "collector.states"
   ]
  },
  {
   "cell_type": "markdown",
   "metadata": {},
   "source": [
    "Some error checking is performed to make sure the passed perturbations match the structure of the underlying data. Here, we attempt to pass the wrong number of fuel temperature perturbations."
   ]
  },
  {
   "cell_type": "code",
   "execution_count": 29,
   "metadata": {},
   "outputs": [
    {
     "name": "stdout",
     "output_type": "stream",
     "text": [
      "Current number of perturbations for state TFU is 3, not 2\n"
     ]
    }
   ],
   "source": [
    "try:\n",
    "    collector.states = numpy.array([\n",
    "        [1000, 750, 0],\n",
    "        [1200, 600],  # wrong\n",
    "    ])\n",
    "except ValueError as ve:\n",
    "    print(str(ve))"
   ]
  },
  {
   "cell_type": "markdown",
   "metadata": {},
   "source": [
    "If the specific perturbations were not known when creating the collector, the value of `perturbations` can also be changed, with similar error checking."
   ]
  },
  {
   "cell_type": "code",
   "execution_count": 30,
   "metadata": {},
   "outputs": [
    {
     "data": {
      "text/plain": [
       "['boron conc', 'fuel temperature']"
      ]
     },
     "execution_count": 30,
     "metadata": {},
     "output_type": "execute_result"
    }
   ],
   "source": [
    "collector.perturbations = ['boron conc', 'fuel temperature']\n",
    "collector.perturbations"
   ]
  },
  {
   "cell_type": "code",
   "execution_count": 31,
   "metadata": {},
   "outputs": [
    {
     "name": "stdout",
     "output_type": "stream",
     "text": [
      "Current number of perturbations is 2, not 3\n"
     ]
    }
   ],
   "source": [
    "try:\n",
    "    collector.perturbations = ['boron', 'fuel', 'ctrl']  # wrong\n",
    "except ValueError as ve:\n",
    "    print(str(ve))"
   ]
  },
  {
   "cell_type": "markdown",
   "metadata": {},
   "source": [
    "# Example nodal diffusion writer\n",
    "\n",
    "As each nodal diffusion code has it's own required data structure, creating a general writer is a difficult task. The intent with the `BranchCollector` is to provide a framework where the data is readily available, and such a writer can be created with ease. Here, an example writer is demonstrated, one that writes each cross section. The writer first writes a table of the perturbations at the top of the input file, showing the ordering and values of the perturbations. Options are also provided for controlling formatting.\n",
    "\n",
    "The full file is available for download: [`nodal_writer.py`](https://github.com/CORE-GATECH-GROUP/serpent-tools/blob/develop/examples/nodal_writer.py)"
   ]
  },
  {
   "cell_type": "code",
   "execution_count": 32,
   "metadata": {},
   "outputs": [],
   "source": [
    "from nodal_writer import Writer"
   ]
  },
  {
   "cell_type": "code",
   "execution_count": 33,
   "metadata": {},
   "outputs": [
    {
     "name": "stdout",
     "output_type": "stream",
     "text": [
      "Class for writing an example cross section file.\n",
      "\n",
      "    Parameters\n",
      "    ----------\n",
      "    collector: xs.Collector\n",
      "        Object that read the branching file and stored the cross sections\n",
      "        along the perturbation vector\n",
      "    xsPerLine: int\n",
      "        Number of cross sections / group constants to write per line\n",
      "    floatFmt: str\n",
      "        Formattable string used when writing floating point values\n",
      "    strFmt: str\n",
      "        Formattable string used when writing the names of the perturbations\n",
      "    xsRemap: None or dict\n",
      "        Dictionary used to find a replacement name for cross sections when\n",
      "        writing.  Between each cross section block, the name of cross\n",
      "        section and group will be written as ``# {name} group {g}``.\n",
      "        When ``xsRemap`` is ``None``, the names are ``mixedCase`` as\n",
      "        they appear in ``HomogUniv`` objects, e.g.  ``'infTot'``,\n",
      "        ``'diffCoeff'``, etc. If ``xsRemap`` is a dictionary, it can\n",
      "        be used to write a different name. Passing ``{'infTot': 'Total\n",
      "        cross section'}`` would write ``'Total cross seciton'``\n",
      "        instead of ``'infTot'``, but all other names would be unchanged.\n"
     ]
    }
   ],
   "source": [
    "print(Writer.__doc__.strip())"
   ]
  },
  {
   "cell_type": "code",
   "execution_count": 34,
   "metadata": {},
   "outputs": [],
   "source": [
    "writer = Writer(collector)"
   ]
  },
  {
   "cell_type": "code",
   "execution_count": 35,
   "metadata": {},
   "outputs": [
    {
     "name": "stdout",
     "output_type": "stream",
     "text": [
      "Write the contents of a single universe\n",
      "\n",
      "        Parameters\n",
      "        ----------\n",
      "        universe: int or key\n",
      "            Key of universe that exists in ``self.collector``. Typically\n",
      "            integer values of homogenized universes from coefficient file\n",
      "        stream: None or str or writeable\n",
      "            If ``None``, return a string containing what would have been\n",
      "            written to file. If a string, then write to this file. Otherwise,\n",
      "            ensure that the object has a ``write`` method and write to this\n",
      "            object\n",
      "        mode: {'a', 'w'}\n",
      "            Write or append to file. Only needed if stream is a string\n"
     ]
    }
   ],
   "source": [
    "print(writer.write.__doc__.strip())"
   ]
  },
  {
   "cell_type": "code",
   "execution_count": 36,
   "metadata": {},
   "outputs": [],
   "source": [
    "# write to a file \"in memory\"\n",
    "out = writer.write(\"0\")"
   ]
  },
  {
   "cell_type": "code",
   "execution_count": 37,
   "metadata": {},
   "outputs": [
    {
     "name": "stdout",
     "output_type": "stream",
     "text": [
      "# Cross sections for universe 0\n",
      "boron conc           1.00000000E+03 7.50000000E+02 0.00000000E+00\n",
      "fuel temperature     1.20000000E+03 6.00000000E+02 9.00000000E+02\n",
      "Burnup [MWd/kgU]     0.00000000E+00 1.00000000E+00 1.00000000E+01\n",
      "# infTot group 1\n",
      " 3.13696000E-01 3.11024000E-01 3.13348000E-01 3.13338000E-01\n",
      " 3.10842000E-01 3.12990000E-01 3.16730000E-01 3.13987000E-01\n",
      " 3.16273000E-01 3.13772000E-01 3.11335000E-01 3.13311000E-01\n",
      " 3.13437000E-01 3.10967000E-01 3.13160000E-01 3.16688000E-01\n",
      " 3.14245000E-01 3.16392000E-01 2.08020000E-01 2.05774000E-01\n",
      " 2.03646000E-01 2.07432000E-01 2.05326000E-01 2.03533000E-01\n",
      " 2.10873000E-01 2.08646000E-01 2.06532000E-01\n",
      "# infTot group 2\n",
      " 5.44846000E-01 6.17734000E-01 6.14651000E-01 5.45150000E-01\n",
      " 6.18286000E-01 6.14391000E-01 5.48305000E-01 6.21804000E-01\n",
      " 6.18120000E-01 5.41505000E-01 6.09197000E-01 6.08837000E-01\n",
      " 5.42373000E-01 6.09192000E-01 6.08756000E-01 5.45294000E-01\n",
      " 6.12767000E-01 6.12985000E-01 2.28908000E-01 1.07070000E-01\n",
      " 0.00000000E+00 3.1\n"
     ]
    }
   ],
   "source": [
    "print(out[:1000])"
   ]
  },
  {
   "cell_type": "code",
   "execution_count": null,
   "metadata": {},
   "outputs": [],
   "source": []
  }
 ],
 "metadata": {
  "kernelspec": {
   "display_name": "Python 3",
   "language": "python",
   "name": "python3"
  },
  "language_info": {
   "codemirror_mode": {
    "name": "ipython",
    "version": 3
   },
   "file_extension": ".py",
   "mimetype": "text/x-python",
   "name": "python",
   "nbconvert_exporter": "python",
   "pygments_lexer": "ipython3",
   "version": "3.7.6"
  }
 },
 "nbformat": 4,
 "nbformat_minor": 2
}
