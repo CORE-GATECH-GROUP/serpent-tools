{
 "cells": [
  {
   "cell_type": "markdown",
   "metadata": {},
   "source": [
    "Copyright (c) 2017-2019 [Serpent-Tools developers team](https://github.com/CORE-GATECH-GROUP/serpent-tools/graphs/contributors), GTRC\n",
    "\n",
    "THE SOFTWARE IS PROVIDED \"AS IS\", WITHOUT WARRANTY OF ANY KIND, EXPRESS OR IMPLIED, INCLUDING BUT NOT LIMITED TO THE WARRANTIES OF MERCHANTABILITY, FITNESS FOR A PARTICULAR PURPOSE AND NONINFRINGEMENT. IN NO EVENT SHALL THE AUTHORS OR COPYRIGHT HOLDERS BE LIABLE FOR ANY CLAIM, DAMAGES OR OTHER LIABILITY, WHETHER IN AN ACTION OF CONTRACT, TORT OR OTHERWISE, ARISING FROM, OUT OF OR IN CONNECTION WITH THE SOFTWARE OR THE USE OR OTHER DEALINGS IN THE SOFTWARE."
   ]
  },
  {
   "cell_type": "markdown",
   "metadata": {},
   "source": [
    "Data files are not included with the python package, but can be downloaded from the [GitHub repository](https://github.com/CORE-GATECH-GROUP/serpent-tools). For this tutorial, the files are placed in the directory identified with the ``SERPENT_TOOLS_DATA`` environment variable."
   ]
  },
  {
   "cell_type": "code",
   "execution_count": 1,
   "metadata": {},
   "outputs": [],
   "source": [
    "import os\n",
    "mdxFile = os.path.join(\n",
    "    os.environ[\"SERPENT_TOOLS_DATA\"],\n",
    "    \"ref_mdx0.m\",\n",
    ")"
   ]
  },
  {
   "cell_type": "markdown",
   "metadata": {},
   "source": [
    "# `MicroXSReader`"
   ]
  },
  {
   "cell_type": "markdown",
   "metadata": {},
   "source": [
    "## Basic Operation"
   ]
  },
  {
   "cell_type": "markdown",
   "metadata": {},
   "source": [
    "This notebook demonstrates the capabilities of the [`serpentTools`](https://github.com/CORE-GATECH-GROUP/serpent-tools) in regards to reading group micro cross-section files. SERPENT [1] produces a [micro depletion file](http://serpent.vtt.fi/mediawiki/index.php/Description_of_output_files#Micro_depletion_output), containing independent and cumulative fission yields as well as group cross-sections for the isotopes and reactions defined by the user.\n",
    "The `MicroXSReader` is capable of reading this file, and storing the data directly on the reader. The reader has two methods to retrieve the data and ease the analysis. Note: in order to obtain the micro depletion files, the user must set the `mdep` card in the input [file](http://serpent.vtt.fi/mediawiki/index.php/Input_syntax_manual#set_mdep)."
   ]
  },
  {
   "cell_type": "code",
   "execution_count": 2,
   "metadata": {},
   "outputs": [],
   "source": [
    "import serpentTools"
   ]
  },
  {
   "cell_type": "code",
   "execution_count": 3,
   "metadata": {},
   "outputs": [
    {
     "name": "stderr",
     "output_type": "stream",
     "text": [
     ]
    }
   ],
   "source": [
    "mdx = serpentTools.read(mdxFile)"
   ]
  },
  {
   "cell_type": "markdown",
   "metadata": {},
   "source": [
    "The fission yields read in from the file are stored in the `nfy` dictionary, where the keys represent a specific (parent, energy) pair and the corresponding values is a dictionary with fission products ids and corresponding fission yield values. "
   ]
  },
  {
   "cell_type": "code",
   "execution_count": 4,
   "metadata": {},
   "outputs": [
    {
     "data": {
      "text/plain": [
       "[(902270, 2.53e-08),\n",
       " (902280, 2.53e-08),\n",
       " (902280, 0.5),\n",
       " (902280, 14.0),\n",
       " (902290, 2.53e-08)]"
      ]
     },
     "execution_count": 4,
     "metadata": {},
     "output_type": "execute_result"
    }
   ],
   "source": [
    "# All the (parent, energy) pairs can be obtained by using '.keys()'\n",
    "pairs = mdx.nfy.keys()\n",
    "list(pairs)[0:5] # list only the first five pairs"
   ]
  },
  {
   "cell_type": "markdown",
   "metadata": {},
   "source": [
    "Each pair represents the isotope undergoing fission and the impending neutron energy in MeV."
   ]
  },
  {
   "cell_type": "code",
   "execution_count": 5,
   "metadata": {},
   "outputs": [
    {
     "name": "stdout",
     "output_type": "stream",
     "text": [
      "Isotope=  902270\n",
      "Energy= 2.53e-08 MeV\n"
     ]
    }
   ],
   "source": [
    "pair = list(pairs)[0] # obtain the first (isotope, energy) pair\n",
    "print('Isotope= {: 1.0f}'.format(pair[0]))\n",
    "print('Energy= {} MeV'.format(pair[1]))"
   ]
  },
  {
   "cell_type": "markdown",
   "metadata": {},
   "source": [
    "The results for each pair are dictionaries that contain three fields:\n",
    "\n",
    "`fissProd` list of fission products ids\n",
    "\n",
    "`indYield` corresponding list of independent fission yields\n",
    "\n",
    "`cumYield` corresponding list of cumulative fission yields"
   ]
  },
  {
   "cell_type": "code",
   "execution_count": 6,
   "metadata": {},
   "outputs": [
    {
     "data": {
      "text/plain": [
       "dict_keys(['fissProd', 'indYield', 'cumYield'])"
      ]
     },
     "execution_count": 6,
     "metadata": {},
     "output_type": "execute_result"
    }
   ],
   "source": [
    "# Obtain the keys in the nfy dictionary\n",
    "mdx.nfy[pair].keys()"
   ]
  },
  {
   "cell_type": "code",
   "execution_count": 7,
   "metadata": {},
   "outputs": [
    {
     "name": "stdout",
     "output_type": "stream",
     "text": [
      "[250660. 250670. 250680. 260660. 260670.]\n"
     ]
    }
   ],
   "source": [
    "# Print only the five first fission products\n",
    "print(mdx.nfy[pair]['fissProd'][0:5])"
   ]
  },
  {
   "cell_type": "code",
   "execution_count": 8,
   "metadata": {},
   "outputs": [
    {
     "name": "stdout",
     "output_type": "stream",
     "text": [
      "[6.97001e-13 1.35000e-13 1.01000e-14 2.57000e-10 1.13000e-10]\n"
     ]
    }
   ],
   "source": [
    "# Print only the five first fission independent yields\n",
    "print(mdx.nfy[pair]['indYield'][0:5])"
   ]
  },
  {
   "cell_type": "code",
   "execution_count": 9,
   "metadata": {},
   "outputs": [
    {
     "name": "stdout",
     "output_type": "stream",
     "text": [
      "[6.97001e-13 1.35000e-13 1.01000e-14 2.58000e-10 1.13000e-10]\n"
     ]
    }
   ],
   "source": [
    "# Print only the five first fission cumulative yields\n",
    "print(mdx.nfy[pair]['cumYield'][0:5])"
   ]
  },
  {
   "cell_type": "markdown",
   "metadata": {},
   "source": [
    "Fluxes ratios and uncertainties are stored in the `fluxRatio` and `fluxUnc` dictionaries, where the keys represent a specific universe and the corresponding values are group fluxes values."
   ]
  },
  {
   "cell_type": "code",
   "execution_count": 10,
   "metadata": {},
   "outputs": [
    {
     "name": "stdout",
     "output_type": "stream",
     "text": [
      "dict_keys(['0'])\n"
     ]
    }
   ],
   "source": [
    "# obtain the universes\n",
    "print(mdx.fluxRatio.keys())"
   ]
  },
  {
   "cell_type": "markdown",
   "metadata": {},
   "source": [
    "Cross sections and their uncertainties are stored in the `xsVal` and `xsUnc` dictionaries, where the keys represent a specific universe and the corresponding values are dictionaries."
   ]
  },
  {
   "cell_type": "code",
   "execution_count": 11,
   "metadata": {},
   "outputs": [
    {
     "name": "stdout",
     "output_type": "stream",
     "text": [
      "dict_keys([MicroXSTuple(zai=10010, mt=102, metastable=0), MicroXSTuple(zai=982490, mt=18, metastable=0), MicroXSTuple(zai=982510, mt=102, metastable=0), MicroXSTuple(zai=982510, mt=16, metastable=0), MicroXSTuple(zai=982510, mt=17, metastable=0), MicroXSTuple(zai=982510, mt=18, metastable=0), MicroXSTuple(zai=40090, mt=107, metastable=0)])\n"
     ]
    }
   ],
   "source": [
    "# The keys within the nested dictionary describe the isotope, reaction and special flag\n",
    "print(mdx.xsVal['0'].keys())"
   ]
  },
  {
   "cell_type": "markdown",
   "metadata": {},
   "source": [
    "Each key has three entries (isotope, reaction, flag)\n",
    "\n",
    "`isotope` ID of the isotope (ZZAAA0/1), int or float\n",
    "\n",
    "`reaction` MT [reaction](http://serpent.vtt.fi/mediawiki/index.php/ENDF_reaction_MT%27s_and_macroscopic_reaction_numbers), e.g., 102 (n,gamma)\n",
    "\n",
    "`flag` special flag to describe isomeric state or fission yield distribution number"
   ]
  },
  {
   "cell_type": "markdown",
   "metadata": {},
   "source": [
    "For each such key (isotope, reaction, flag) the `xsVal` and `xsVal` store the group-wise flux values and uncertainties respectively.  "
   ]
  },
  {
   "cell_type": "code",
   "execution_count": 12,
   "metadata": {},
   "outputs": [],
   "source": [
    "val = mdx.xsVal['0']\n",
    "unc = mdx.xsUnc['0']"
   ]
  },
  {
   "cell_type": "code",
   "execution_count": 13,
   "metadata": {},
   "outputs": [
    {
     "name": "stdout",
     "output_type": "stream",
     "text": [
      "[3.09753e-05 3.33901e-05 3.57054e-05 3.70926e-05 3.61049e-05 3.39464e-05\n",
      " 3.39767e-05 3.98315e-05 5.38962e-05 7.96923e-05 1.18509e-04 1.73915e-04\n",
      " 2.54571e-04 3.38540e-04 4.52415e-04 5.98190e-04 7.69483e-04 1.04855e-03\n",
      " 1.31149e-03 1.67790e-03 2.15195e-03 2.70125e-03 3.44635e-03 5.04611e-03]\n"
     ]
    }
   ],
   "source": [
    "# Print flux values\n",
    "print(val[(10010, 102, 0)])"
   ]
  },
  {
   "cell_type": "code",
   "execution_count": 14,
   "metadata": {},
   "outputs": [
    {
     "name": "stdout",
     "output_type": "stream",
     "text": [
      "[1.1e-04 2.0e-05 1.0e-05 0.0e+00 0.0e+00 0.0e+00 0.0e+00 1.0e-05 1.0e-05\n",
      " 2.0e-05 2.0e-05 2.0e-05 2.0e-05 1.0e-05 1.0e-05 2.0e-05 2.0e-05 3.0e-05\n",
      " 2.0e-05 3.0e-05 4.0e-05 5.0e-05 1.7e-04 6.9e-04]\n"
     ]
    }
   ],
   "source": [
    "# Print flux uncertainties\n",
    "print(unc[(10010, 102, 0)])"
   ]
  },
  {
   "cell_type": "markdown",
   "metadata": {},
   "source": [
    "## Data Retrieval\n",
    "The `MicroXSReader` object has two `get` methods. \n",
    "\n",
    "`getFY` method obtains the independent and cumulative fission yields for a specific parent (ZZAAA0/1), daughter (ZZAAA0/1), neutron energy (MeV). If no parent or daaughter is found, the method raises an exception. The method also has a special flag that indicates whether the user wants to obtain the value corresponding to the nearest energy. \n",
    "\n",
    "`getXS` method to obtain the group-wise cross-sections for a specific universe, isotope and reaction. "
   ]
  },
  {
   "cell_type": "code",
   "execution_count": 15,
   "metadata": {},
   "outputs": [
    {
     "name": "stdout",
     "output_type": "stream",
     "text": [
      "Independent yield = 0.000785125\n",
      "Cumulative yield = 0.065385\n"
     ]
    }
   ],
   "source": [
    "indYield, cumYield = mdx.getFY(parent=922350, energy=2.53e-08, daughter=541350 )\n",
    "print('Independent yield = {}'.format(indYield))\n",
    "print('Cumulative yield = {}'.format(cumYield))"
   ]
  },
  {
   "cell_type": "markdown",
   "metadata": {},
   "source": [
    "By default, the method includes a flag that allows to obtain the values for the closest energy defined by the user."
   ]
  },
  {
   "cell_type": "code",
   "execution_count": 16,
   "metadata": {},
   "outputs": [
    {
     "name": "stdout",
     "output_type": "stream",
     "text": [
      "Independent yield = 0.000785125\n",
      "Cumulative yield = 0.065385\n"
     ]
    }
   ],
   "source": [
    "indYield, cumYield = mdx.getFY(parent=922350, energy=1e-06, daughter=541350 )\n",
    "print('Independent yield = {}'.format(indYield))\n",
    "print('Cumulative yield = {}'.format(cumYield))"
   ]
  },
  {
   "cell_type": "markdown",
   "metadata": {},
   "source": [
    "The user can set this boolean flag to False if only the values at existing energies are of interest."
   ]
  },
  {
   "cell_type": "code",
   "execution_count": 17,
   "metadata": {},
   "outputs": [],
   "source": [
    "indYield, cumYield = mdx.getFY(parent=922350, energy=2.53e-08, daughter=541350, flagEnergy=False )"
   ]
  },
  {
   "cell_type": "markdown",
   "metadata": {},
   "source": [
    "`getXS` method is used to obtain the group cross-sections for a specific universe, isotope and reaction. The method returns the values and uncertainties. "
   ]
  },
  {
   "cell_type": "code",
   "execution_count": 18,
   "metadata": {},
   "outputs": [],
   "source": [
    "# Obtain the group cross-sections\n",
    "vals, unc = mdx.getXS(universe='0', isotope=10010, reaction=102)"
   ]
  },
  {
   "cell_type": "code",
   "execution_count": 19,
   "metadata": {},
   "outputs": [
    {
     "name": "stdout",
     "output_type": "stream",
     "text": [
      "[3.09753e-05 3.33901e-05 3.57054e-05 3.70926e-05 3.61049e-05 3.39464e-05\n",
      " 3.39767e-05 3.98315e-05 5.38962e-05 7.96923e-05 1.18509e-04 1.73915e-04\n",
      " 2.54571e-04 3.38540e-04 4.52415e-04 5.98190e-04 7.69483e-04 1.04855e-03\n",
      " 1.31149e-03 1.67790e-03 2.15195e-03 2.70125e-03 3.44635e-03 5.04611e-03]\n"
     ]
    }
   ],
   "source": [
    "# Print group flux values\n",
    "print(vals)"
   ]
  },
  {
   "cell_type": "code",
   "execution_count": 20,
   "metadata": {},
   "outputs": [
    {
     "name": "stdout",
     "output_type": "stream",
     "text": [
      "[1.1e-04 2.0e-05 1.0e-05 0.0e+00 0.0e+00 0.0e+00 0.0e+00 1.0e-05 1.0e-05\n",
      " 2.0e-05 2.0e-05 2.0e-05 2.0e-05 1.0e-05 1.0e-05 2.0e-05 2.0e-05 3.0e-05\n",
      " 2.0e-05 3.0e-05 4.0e-05 5.0e-05 1.7e-04 6.9e-04]\n"
     ]
    }
   ],
   "source": [
    "# Print group flux uncertainties values\n",
    "print(unc)"
   ]
  },
  {
   "cell_type": "markdown",
   "metadata": {},
   "source": [
    "The method includes a special flag `isomeric`, which is set to zero by default. \n",
    "The special flag either describes the isomeric state or fission yield distribution number."
   ]
  },
  {
   "cell_type": "code",
   "execution_count": 21,
   "metadata": {},
   "outputs": [],
   "source": [
    "# Example of how to use the isomeric flag\n",
    "vals, unc = mdx.getXS(universe='0', isotope=10010, reaction=102, isomeric=0)"
   ]
  },
  {
   "cell_type": "markdown",
   "metadata": {},
   "source": [
    "If the universe exist, but the isotope or reaction do not exist, the method raises an error."
   ]
  },
  {
   "cell_type": "markdown",
   "metadata": {},
   "source": [
    "## Settings\n",
    "The `MicroXSReader` also has a collection of settings to control what data is stored. If none of these settings are modified, the default is to store all the data from the output file."
   ]
  },
  {
   "cell_type": "code",
   "execution_count": 22,
   "metadata": {},
   "outputs": [],
   "source": [
    "from serpentTools.settings import rc"
   ]
  },
  {
   "cell_type": "code",
   "execution_count": 23,
   "metadata": {},
   "outputs": [],
   "source": [
    "rc['microxs.getFY'] = False # True/False only\n",
    "rc['microxs.getXS'] = True # True/False only\n",
    "rc['microxs.getFlx'] = True # True/False only"
   ]
  },
  {
   "cell_type": "markdown",
   "metadata": {},
   "source": [
    "`microxs.getFY`: True or False, store fission yields\n",
    "\n",
    "`microxs.getXS`: True or False, store group cross-sections and uncertainties\n",
    "\n",
    "`microxs.getFlx`: True or False, store flux ratios and uncertainties"
   ]
  },
  {
   "cell_type": "code",
   "execution_count": 24,
   "metadata": {},
   "outputs": [],
   "source": [
    "mdx = serpentTools.read(mdxFile)"
   ]
  },
  {
   "cell_type": "code",
   "execution_count": 25,
   "metadata": {},
   "outputs": [
    {
     "data": {
      "text/plain": [
       "dict_keys([])"
      ]
     },
     "execution_count": 25,
     "metadata": {},
     "output_type": "execute_result"
    }
   ],
   "source": [
    "# fission yields are not stored on the reader\n",
    "mdx.nfy.keys()"
   ]
  },
  {
   "cell_type": "markdown",
   "metadata": {},
   "source": [
    "## Conclusion\n",
    "The `MicroXSReader` is capable of reading and storing all the data from the SERPENT micro depletion file. Fission yields, cross-sections and flux ratios are stored on the reader. The reader also includes two methods `getFY` and `getXS` to retrieve the data. Use of the `rc` settings control object allows increased control over the data selected from the output file."
   ]
  },
  {
   "cell_type": "markdown",
   "metadata": {},
   "source": [
    "## References\n",
    "1. J. Leppänen, M. Pusa, T. Viitanen, V. Valtavirta, and T. Kaltiaisenaho. \"The Serpent Monte Carlo code: Status, development and applications in 2013.\" Ann. Nucl. Energy, [82 (2015) 142-150](https://www.sciencedirect.com/science/article/pii/S0306454914004095)"
   ]
  }
 ],
 "metadata": {
  "kernelspec": {
   "display_name": "Python 3",
   "language": "python",
   "name": "python3"
  },
  "language_info": {
   "codemirror_mode": {
    "name": "ipython",
    "version": 3
   },
   "file_extension": ".py",
   "mimetype": "text/x-python",
   "name": "python",
   "nbconvert_exporter": "python",
   "pygments_lexer": "ipython3",
   "version": "3.7.6"
  }
 },
 "nbformat": 4,
 "nbformat_minor": 2
}
