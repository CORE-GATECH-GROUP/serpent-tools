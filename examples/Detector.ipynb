{
 "cells": [
  {
   "cell_type": "markdown",
   "metadata": {},
   "source": [
    "Copyright (c) 2017 Andrew Johnson, Dan Kotlyar, GTRC\n",
    "\n",
    "THE SOFTWARE IS PROVIDED \"AS IS\", WITHOUT WARRANTY OF ANY KIND, EXPRESS OR IMPLIED, INCLUDING BUT NOT LIMITED TO THE WARRANTIES OF MERCHANTABILITY, FITNESS FOR A PARTICULAR PURPOSE AND NONINFRINGEMENT. IN NO EVENT SHALL THE AUTHORS OR COPYRIGHT HOLDERS BE LIABLE FOR ANY CLAIM, DAMAGES OR OTHER LIABILITY, WHETHER IN AN ACTION OF CONTRACT, TORT OR OTHERWISE, ARISING FROM, OUT OF OR IN CONNECTION WITH THE SOFTWARE OR THE USE OR OTHER DEALINGS IN THE SOFTWARE."
   ]
  },
  {
   "cell_type": "markdown",
   "metadata": {},
   "source": [
    "## `DetectorReader`"
   ]
  },
  {
   "cell_type": "markdown",
   "metadata": {},
   "source": [
    "### Basic Operation\n",
    "This notebook details how to utilize the [`serpentTools`](https://github.com/CORE-GATECH-GROUP/serpent-tools) package for reading detector files, `[input]_det[N].m` produced by SERPENT [1]. \n",
    "Detectors can be defined with many binning parameters, listed [on the SERPENT Wiki](http://serpent.vtt.fi/mediawiki/index.php/Input_syntax_manual#det_.28detector_definition.29). \n",
    "One could define a detector that has a spatial mesh, `dx/dy/dz/`, but also includes reaction and material bins, `dr, dm`. \n",
    "Detectors are stored on the reader object in the ``detectors`` dictionary as custom ``Detector`` objects. Here, all energy and spatial grid data are stored, including other binning information such as reaction, universe, and lattice bins. "
   ]
  },
  {
   "cell_type": "code",
   "execution_count": 29,
   "metadata": {
    "collapsed": true
   },
   "outputs": [],
   "source": [
    "%matplotlib inline\n",
    "import serpentTools"
   ]
  },
  {
   "cell_type": "code",
   "execution_count": 30,
   "metadata": {},
   "outputs": [
    {
     "name": "stdout",
     "output_type": "stream",
     "text": [
      "INFO    : serpentTools: Inferred reader for demo_det0.m: DetectorReader\n",
      "INFO    : serpentTools: Preparing to read demo_det0.m\n",
      "INFO    : serpentTools: Done\n"
     ]
    }
   ],
   "source": [
    "detFile = 'demo_det0.m'\n",
    "det = serpentTools.read(detFile)"
   ]
  },
  {
   "cell_type": "code",
   "execution_count": 31,
   "metadata": {},
   "outputs": [
    {
     "data": {
      "text/plain": [
       "{'nodeFlx': <serpentTools.objects.containers.Detector at 0x19e3c4f6b70>,\n",
       " 'spectrum': <serpentTools.objects.containers.Detector at 0x19e3c4f6ba8>,\n",
       " 'xyFissionCapt': <serpentTools.objects.containers.Detector at 0x19e3c4f6470>}"
      ]
     },
     "execution_count": 31,
     "metadata": {},
     "output_type": "execute_result"
    }
   ],
   "source": [
    "det.detectors"
   ]
  },
  {
   "cell_type": "markdown",
   "metadata": {
    "collapsed": true
   },
   "source": [
    "These detectors were defined to a single fuel pin, divided into 16 axial segments by unique materials. A description of the detectors provided in the output:\n",
    "\n",
    "|Name| Description|\n",
    "|----|------------|\n",
    "|`nodeFlx`|Flux-share in each axial universe|\n",
    "|`spectrum`|1968 group flux in fuel pin|\n",
    "|`xyFissionCapt`|One-group fission and capture rate for a 5x5 xy grid|"
   ]
  },
  {
   "cell_type": "markdown",
   "metadata": {},
   "source": [
    "For each `Detector` object, the full tally matrix is stored in the `bins` array."
   ]
  },
  {
   "cell_type": "code",
   "execution_count": 32,
   "metadata": {},
   "outputs": [
    {
     "name": "stdout",
     "output_type": "stream",
     "text": [
      "(16, 12)\n"
     ]
    },
    {
     "data": {
      "text/plain": [
       "array([[  1.00000000e+00,   1.00000000e+00,   1.00000000e+00,\n",
       "          1.00000000e+00,   1.00000000e+00,   1.00000000e+00,\n",
       "          1.00000000e+00,   1.00000000e+00,   1.00000000e+00,\n",
       "          1.00000000e+00,   2.34759000e-02,   4.53000000e-03],\n",
       "       [  2.00000000e+00,   1.00000000e+00,   2.00000000e+00,\n",
       "          1.00000000e+00,   1.00000000e+00,   1.00000000e+00,\n",
       "          1.00000000e+00,   1.00000000e+00,   1.00000000e+00,\n",
       "          1.00000000e+00,   5.75300000e-02,   3.38000000e-03],\n",
       "       [  3.00000000e+00,   1.00000000e+00,   3.00000000e+00,\n",
       "          1.00000000e+00,   1.00000000e+00,   1.00000000e+00,\n",
       "          1.00000000e+00,   1.00000000e+00,   1.00000000e+00,\n",
       "          1.00000000e+00,   8.47000000e-02,   2.95000000e-03],\n",
       "       [  4.00000000e+00,   1.00000000e+00,   4.00000000e+00,\n",
       "          1.00000000e+00,   1.00000000e+00,   1.00000000e+00,\n",
       "          1.00000000e+00,   1.00000000e+00,   1.00000000e+00,\n",
       "          1.00000000e+00,   1.02034000e-01,   2.63000000e-03],\n",
       "       [  5.00000000e+00,   1.00000000e+00,   5.00000000e+00,\n",
       "          1.00000000e+00,   1.00000000e+00,   1.00000000e+00,\n",
       "          1.00000000e+00,   1.00000000e+00,   1.00000000e+00,\n",
       "          1.00000000e+00,   1.10384000e-01,   2.31000000e-03]])"
      ]
     },
     "execution_count": 32,
     "metadata": {},
     "output_type": "execute_result"
    }
   ],
   "source": [
    "nodeFlx = det.detectors['nodeFlx']\n",
    "print(nodeFlx.bins.shape)\n",
    "nodeFlx.bins[:5,:]"
   ]
  },
  {
   "cell_type": "markdown",
   "metadata": {},
   "source": [
    "Here, only three columns are changing: \n",
    "\n",
    "* column 0: universe column\n",
    "* column 10: tally column\n",
    "* column 11: errors\n",
    "\n",
    "*Note* For SERPENT-1, there would be an additional column 12 that contained the scores for each bin"
   ]
  },
  {
   "cell_type": "code",
   "execution_count": 33,
   "metadata": {},
   "outputs": [
    {
     "data": {
      "text/plain": [
       "array([  1.,   2.,   3.,   4.,   5.,   6.,   7.,   8.,   9.,  10.,  11.,\n",
       "        12.,  13.,  14.,  15.,  16.])"
      ]
     },
     "execution_count": 33,
     "metadata": {},
     "output_type": "execute_result"
    }
   ],
   "source": [
    "nodeFlx.bins[:, 0]"
   ]
  },
  {
   "cell_type": "markdown",
   "metadata": {},
   "source": [
    "Once each detector is given this binned tally data, the `reshape` method is called to recast the tallies, errors, and, if applicable, the scores columns into individual, multidimensional arrays. For this case, since the only variable bin quantity is that of the universe, these will all be 1D arrays."
   ]
  },
  {
   "cell_type": "code",
   "execution_count": 34,
   "metadata": {},
   "outputs": [
    {
     "data": {
      "text/plain": [
       "array([ 0.0234759 ,  0.05753   ,  0.0847    ,  0.102034  ,  0.110384  ,\n",
       "        0.110174  ,  0.102934  ,  0.0928861 ,  0.0810541 ,  0.067961  ,\n",
       "        0.0550446 ,  0.0422486 ,  0.0310226 ,  0.0211475 ,  0.0125272 ,\n",
       "        0.00487726])"
      ]
     },
     "execution_count": 34,
     "metadata": {},
     "output_type": "execute_result"
    }
   ],
   "source": [
    "assert nodeFlx.tallies.shape == (16, )\n",
    "assert nodeFlx.errors.shape == (16, )\n",
    "nodeFlx.tallies"
   ]
  },
  {
   "cell_type": "code",
   "execution_count": 35,
   "metadata": {},
   "outputs": [
    {
     "data": {
      "text/plain": [
       "array([ 0.00453,  0.00338,  0.00295,  0.00263,  0.00231,  0.00222,\n",
       "        0.00238,  0.00251,  0.00282,  0.00307,  0.00359,  0.00415,\n",
       "        0.00511,  0.00687,  0.00809,  0.01002])"
      ]
     },
     "execution_count": 35,
     "metadata": {},
     "output_type": "execute_result"
    }
   ],
   "source": [
    "nodeFlx.errors"
   ]
  },
  {
   "cell_type": "markdown",
   "metadata": {},
   "source": [
    "Bin information is retained through the `indexes` attribute. This is an OrderedDictionary, as the keys are placed according to their column position. These postions can be found in the SERPENT Manual, and are provided in the `DET_COLS` tuple"
   ]
  },
  {
   "cell_type": "code",
   "execution_count": 36,
   "metadata": {},
   "outputs": [
    {
     "name": "stdout",
     "output_type": "stream",
     "text": [
      "('value', 'energy', 'universe', 'cell', 'material', 'lattice', 'reaction', 'zmesh', 'ymesh', 'xmesh', 'tally', 'error', 'scores')\n"
     ]
    }
   ],
   "source": [
    "from serpentTools.objects.containers import DET_COLS\n",
    "print(DET_COLS)"
   ]
  },
  {
   "cell_type": "code",
   "execution_count": 37,
   "metadata": {},
   "outputs": [
    {
     "data": {
      "text/plain": [
       "OrderedDict([('universe',\n",
       "              array([  1.,   2.,   3.,   4.,   5.,   6.,   7.,   8.,   9.,  10.,  11.,\n",
       "                      12.,  13.,  14.,  15.,  16.]))])"
      ]
     },
     "execution_count": 37,
     "metadata": {},
     "output_type": "execute_result"
    }
   ],
   "source": [
    "nodeFlx.indexes"
   ]
  },
  {
   "cell_type": "markdown",
   "metadata": {},
   "source": [
    "Each item in the `indexes` ordered dictionary corresponds to the unique values of that bin in the original `bin` array.\n",
    "Here, `universe` is the first item and contains an equal number of elements to the size of the first (and only) axis in the nodeFlx tally matrix"
   ]
  },
  {
   "cell_type": "code",
   "execution_count": 38,
   "metadata": {
    "collapsed": true
   },
   "outputs": [],
   "source": [
    "assert nodeFlx.indexes['universe'].size == nodeFlx.tallies.size"
   ]
  },
  {
   "cell_type": "markdown",
   "metadata": {},
   "source": [
    "### Plotting Routines"
   ]
  },
  {
   "cell_type": "markdown",
   "metadata": {},
   "source": [
    "Each `Detector` object is capable of simple 1D and 2D plotting routines. \n",
    "The simplest 1D plot method is simply `plot`, however a wide range of plot options are present.\n",
    "\n",
    "|Option|Description|\n",
    "|-|-|\n",
    "|`what`|What data to plot|\n",
    "|`ax`|Preprepared figure on which to add this plot|\n",
    "|`xdim`|Quantity from `indexes` to use as x-axis|\n",
    "|`sigma`|Confidence interval to place on errors|\n",
    "|`steps`|Draw tally values as constant inside bin|\n",
    "\n",
    "\n",
    "The plot routine also accepts various options, which can be found in the [matplotlib.pyplot.plot documentation](https://matplotlib.org/api/_as_gen/matplotlib.pyplot.plot.html)"
   ]
  },
  {
   "cell_type": "code",
   "execution_count": 39,
   "metadata": {},
   "outputs": [
    {
     "data": {
      "image/png": "[encoded data removed]",
      "text/plain": [
       "<matplotlib.figure.Figure at 0x19e3c4f6630>"
      ]
     },
     "metadata": {},
     "output_type": "display_data"
    }
   ],
   "source": [
    "nodeFlx.plot();"
   ]
  },
  {
   "cell_type": "code",
   "execution_count": 40,
   "metadata": {},
   "outputs": [
    {
     "data": {
      "image/png": "[encoded data removed]",
      "text/plain": [
       "<matplotlib.figure.Figure at 0x19e3c4136a0>"
      ]
     },
     "metadata": {},
     "output_type": "display_data"
    }
   ],
   "source": [
    "ax = nodeFlx.plot(steps=True, label='steps')\n",
    "nodeFlx.plot(sigma=100, ax=ax, marker='x', label='sigma')\n",
    "ax.legend();"
   ]
  },
  {
   "cell_type": "markdown",
   "metadata": {},
   "source": [
    "Passing `what='errors'` to the plot method plots the associated relative errors, rather than the tally data on the y-axis. \n",
    "Similarly, passing a key from `indexes` sets the x-axis to be that specific index."
   ]
  },
  {
   "cell_type": "code",
   "execution_count": 41,
   "metadata": {},
   "outputs": [
    {
     "data": {
      "image/png": "[encoded data removed]",
      "text/plain": [
       "<matplotlib.figure.Figure at 0x19e3c4214a8>"
      ]
     },
     "metadata": {},
     "output_type": "display_data"
    }
   ],
   "source": [
    "nodeFlx.plot(xdim='universe', what='errors');"
   ]
  },
  {
   "cell_type": "markdown",
   "metadata": {},
   "source": [
    "For detectors that include some grid matrices, such as spatial or energy meshes `DET<name>E`, these arrays are stored in the `grids` dictionary"
   ]
  },
  {
   "cell_type": "code",
   "execution_count": 42,
   "metadata": {},
   "outputs": [
    {
     "name": "stdout",
     "output_type": "stream",
     "text": [
      "[[  1.00001000e-11   3.00000000e-09   1.50500000e-09]\n",
      " [  3.00000000e-09   5.00000000e-09   4.00000000e-09]\n",
      " [  5.00000000e-09   6.90000000e-09   5.95000000e-09]\n",
      " [  6.90000000e-09   1.00000000e-08   8.45000000e-09]\n",
      " [  1.00000000e-08   1.50000000e-08   1.25000000e-08]]\n"
     ]
    }
   ],
   "source": [
    "spectrum = det.detectors['spectrum']\n",
    "print(spectrum.grids['E'][:5, :])"
   ]
  },
  {
   "cell_type": "markdown",
   "metadata": {},
   "source": [
    "The `spectrum` plot method is designed to prepare plots of energy spectra. Supported arguments for the `spectrumPlot` method include\n",
    "\n",
    "|Option|Default|Description|\n",
    "|-|-|-|\n",
    "|`normalize`|`True`|Normalize tallies per unit lethargy|\n",
    "|`sigma`|3|Level of confidence for statistical errors|\n",
    "|`xscale`|`'log'`|Set the x scale to be log or linear|\n",
    "|`yscale`|`'linear'`|Set the y scale to be log or linear|"
   ]
  },
  {
   "cell_type": "code",
   "execution_count": 43,
   "metadata": {},
   "outputs": [
    {
     "data": {
      "image/png": "[encoded data removed]",
      "text/plain": [
       "<matplotlib.figure.Figure at 0x19e3ab19320>"
      ]
     },
     "metadata": {},
     "output_type": "display_data"
    }
   ],
   "source": [
    "spectrum.spectrumPlot();"
   ]
  },
  {
   "cell_type": "markdown",
   "metadata": {},
   "source": [
    "## Multi-dimensional Detectors"
   ]
  },
  {
   "cell_type": "markdown",
   "metadata": {},
   "source": [
    "The `Detector` objects are capable of reshaping the detector data into an array where each axis corresponds to a varying bin. In the above examples, the reshaped data was one-dimensional, because the detectors only tallied data against one bin, universe and energy. In the following example, the detector has been configured to tally the fission and capture rates (two `dr` arguments) in an XY mesh."
   ]
  },
  {
   "cell_type": "code",
   "execution_count": 44,
   "metadata": {},
   "outputs": [
    {
     "name": "stdout",
     "output_type": "stream",
     "text": [
      "reaction [ 1.  2.]\n",
      "ymesh [ 1.  2.  3.  4.  5.]\n",
      "xmesh [ 1.  2.  3.  4.  5.]\n"
     ]
    }
   ],
   "source": [
    "xy = det.detectors['xyFissionCapt']\n",
    "for key in xy.indexes:\n",
    "    print(key, xy.indexes[key])"
   ]
  },
  {
   "cell_type": "markdown",
   "metadata": {},
   "source": [
    "Traversing the first axis in the `tallies` array corresponds to changing the value of the `reaction`. The second axis corresponds to changing `ymesh` values, and the final axis reflects changes in `xmesh`."
   ]
  },
  {
   "cell_type": "code",
   "execution_count": 45,
   "metadata": {},
   "outputs": [
    {
     "name": "stdout",
     "output_type": "stream",
     "text": [
      "(50, 12)\n",
      "(2, 5, 5)\n",
      "[ 0.255119  0.255077  0.253685  0.255592  0.25845 ]\n",
      "[ 0.255119  0.255077  0.253685  0.255592  0.25845 ]\n"
     ]
    }
   ],
   "source": [
    "print(xy.bins.shape)\n",
    "print(xy.tallies.shape)\n",
    "print(xy.bins[:5, 10])\n",
    "print(xy.tallies[0, 0, :5])"
   ]
  },
  {
   "cell_type": "markdown",
   "metadata": {},
   "source": [
    "### Slicing\n",
    "As the detectors produced by SERPENT can contain multiple bin types, as seen in `DET_COLS`, obtaining data from the tally data can become complicated. This retrieval can be simplified using the `slice` method. This method takes an argument indicating what bins (keys in `indexes`) to fix at what position.\n",
    "\n",
    "If we want to retrive the tally data for the XY mesh for the fission reactions"
   ]
  },
  {
   "cell_type": "code",
   "execution_count": 46,
   "metadata": {},
   "outputs": [
    {
     "data": {
      "text/plain": [
       "array([[ 0.255119,  0.255077,  0.253685,  0.255592,  0.25845 ],\n",
       "       [ 0.254101,  0.253408,  0.256666,  0.255375,  0.252936],\n",
       "       [ 0.256006,  0.251002,  0.255479,  0.252002,  0.254708],\n",
       "       [ 0.254957,  0.253399,  0.24818 ,  0.252915,  0.253914],\n",
       "       [ 0.258394,  0.250217,  0.259642,  0.254025,  0.257076]])"
      ]
     },
     "execution_count": 46,
     "metadata": {},
     "output_type": "execute_result"
    }
   ],
   "source": [
    "xy.slice({'reaction': 1})"
   ]
  },
  {
   "cell_type": "markdown",
   "metadata": {},
   "source": [
    "As the fission reaction corresponded to reaction tally 1 in the original matrix."
   ]
  },
  {
   "cell_type": "markdown",
   "metadata": {},
   "source": [
    "This method also works for slicing the error, or score, matrix"
   ]
  },
  {
   "cell_type": "code",
   "execution_count": 47,
   "metadata": {},
   "outputs": [
    {
     "data": {
      "text/plain": [
       "array([ 0.01576,  0.01299,  0.01811,  0.01367,  0.01632])"
      ]
     },
     "execution_count": 47,
     "metadata": {},
     "output_type": "execute_result"
    }
   ],
   "source": [
    "xy.slice({'reaction': 2, 'ymesh': 4}, 'errors')"
   ]
  },
  {
   "cell_type": "markdown",
   "metadata": {},
   "source": [
    "The method returned the relative error in the capture rate, along the fourth y-mesh,index 3 in the grid, for all x mesh points."
   ]
  },
  {
   "cell_type": "markdown",
   "metadata": {},
   "source": [
    "### Plotting\n",
    "For data with dimensionality greater than one, the `meshPlot` method can be used to plot some 2D slice of the data."
   ]
  },
  {
   "cell_type": "code",
   "execution_count": 48,
   "metadata": {},
   "outputs": [
    {
     "data": {
      "image/png": "[encoded data removed]",
      "text/plain": [
       "<matplotlib.figure.Figure at 0x19e3b0545c0>"
      ]
     },
     "metadata": {},
     "output_type": "display_data"
    }
   ],
   "source": [
    "xy.meshPlot('x', 'y',fixed={'reaction':1});"
   ]
  },
  {
   "cell_type": "markdown",
   "metadata": {},
   "source": [
    "The `meshPlot` also supports a range of labeling options"
   ]
  },
  {
   "cell_type": "code",
   "execution_count": 49,
   "metadata": {},
   "outputs": [
    {
     "data": {
      "image/png": "[encoded data removed]",
      "text/plain": [
       "<matplotlib.figure.Figure at 0x19e3b00d470>"
      ]
     },
     "metadata": {},
     "output_type": "display_data"
    }
   ],
   "source": [
    "xy.meshPlot('x', 'reaction', what='errors',\n",
    "            fixed={'ymesh': 4}, ylabel='Reaction type');"
   ]
  },
  {
   "cell_type": "markdown",
   "metadata": {},
   "source": [
    "Using the `slicing` arguments allows access to the 1D plot methods from before"
   ]
  },
  {
   "cell_type": "code",
   "execution_count": 50,
   "metadata": {},
   "outputs": [
    {
     "data": {
      "image/png": "[encoded data removed]",
      "text/plain": [
       "<matplotlib.figure.Figure at 0x19e3c2ec048>"
      ]
     },
     "metadata": {},
     "output_type": "display_data"
    }
   ],
   "source": [
    "xy.plot(fixed={'reaction': 2, 'xmesh': 2}, \n",
    "        xlabel='Y position',\n",
    "        ylabel=r'$\\left(n,\\gamma\\right)$ rate');"
   ]
  },
  {
   "cell_type": "markdown",
   "metadata": {},
   "source": [
    "## Conclusion"
   ]
  },
  {
   "cell_type": "markdown",
   "metadata": {},
   "source": [
    "The `DetectorReader` is capable of reading and storing detector data from SERPENT detector files. The data is stored on custom `Detector` objects, capable of reshaping tally and error matrices into arrays with dimensionality reflecting the detector binning. These `Detector` objects have simple methods for retrieving and plotting detector data."
   ]
  },
  {
   "cell_type": "markdown",
   "metadata": {},
   "source": [
    "## References\n",
    "1. J. Leppänen, M. Pusa, T. Viitanen, V. Valtavirta, and T. Kaltiaisenaho. \"The Serpent Monte Carlo code: Status, development and applications in 2013.\" Ann. Nucl. Energy, [82 (2015) 142-150](https://www.sciencedirect.com/science/article/pii/S0306454914004095)"
   ]
  }
 ],
 "metadata": {
  "kernelspec": {
   "display_name": "Python 3",
   "language": "python",
   "name": "python3"
  },
  "language_info": {
   "codemirror_mode": {
    "name": "ipython",
    "version": 3
   },
   "file_extension": ".py",
   "mimetype": "text/x-python",
   "name": "python",
   "nbconvert_exporter": "python",
   "pygments_lexer": "ipython3",
   "version": "3.6.1"
  }
 },
 "nbformat": 4,
 "nbformat_minor": 2
}
