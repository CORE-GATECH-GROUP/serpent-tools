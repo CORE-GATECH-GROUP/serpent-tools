{
 "cells": [
  {
   "cell_type": "markdown",
   "metadata": {},
   "source": [
    "Copyright (c) 2017 Andrew Johnson, Dan Kotlyar, GTRC\n",
    "\n",
    "THE SOFTWARE IS PROVIDED \"AS IS\", WITHOUT WARRANTY OF ANY KIND, EXPRESS OR IMPLIED, INCLUDING BUT NOT LIMITED TO THE WARRANTIES OF MERCHANTABILITY, FITNESS FOR A PARTICULAR PURPOSE AND NONINFRINGEMENT. IN NO EVENT SHALL THE AUTHORS OR COPYRIGHT HOLDERS BE LIABLE FOR ANY CLAIM, DAMAGES OR OTHER LIABILITY, WHETHER IN AN ACTION OF CONTRACT, TORT OR OTHERWISE, ARISING FROM, OUT OF OR IN CONNECTION WITH THE SOFTWARE OR THE USE OR OTHER DEALINGS IN THE SOFTWARE."
   ]
  },
  {
   "cell_type": "markdown",
   "metadata": {},
   "source": [
    "The [`serpentTools`](https://github.com/CORE-GATECH-GROUP/serpent-tools) package is designed to, without intervention, be able to store all the data contained in each of the various output files. However, the `serpentTools.settings` module grants great flexibility to the user over what data is obtained through the [`rc`](https://unix.stackexchange.com/questions/3467/what-does-rc-in-bashrc-stand-for) class. This notebook will provide as an intro into using this class."
   ]
  },
  {
   "cell_type": "markdown",
   "metadata": {},
   "source": [
    "## Basic Usage"
   ]
  },
  {
   "cell_type": "code",
   "execution_count": 1,
   "metadata": {},
   "outputs": [
    {
     "name": "stdout",
     "output_type": "stream",
     "text": [
      "INFO    : serpentTools: Using version 1.0b0+58.g91e7aac.dirty\n"
     ]
    }
   ],
   "source": [
    "import serpentTools\n",
    "from serpentTools.settings import rc, defaultSettings"
   ]
  },
  {
   "cell_type": "markdown",
   "metadata": {},
   "source": [
    "Below are the default values for each setting available"
   ]
  },
  {
   "cell_type": "code",
   "execution_count": 2,
   "metadata": {},
   "outputs": [
    {
     "name": "stdout",
     "output_type": "stream",
     "text": [
      "branching.areUncsPresent\n",
      "\t default - False\n",
      "\t type - <class 'bool'>\n",
      "\t description - True if the values in the .coe file contain uncertainties\n",
      "branching.floatVariables\n",
      "\t default - []\n",
      "\t description - Names of state data variables to convert to floats for each branch\n",
      "\t type - <class 'list'>\n",
      "branching.intVariables\n",
      "\t default - []\n",
      "\t description - Name of state data variables to convert to integers for each branch\n",
      "\t type - <class 'list'>\n",
      "depletion.materialVariables\n",
      "\t default - []\n",
      "\t description - Names of variables to store. Empty list -> all variables.\n",
      "\t type - <class 'list'>\n",
      "depletion.materials\n",
      "\t default - []\n",
      "\t description - Names of materials to store. Empty list -> all materials.\n",
      "\t type - <class 'list'>\n",
      "depletion.metadataKeys\n",
      "\t default - ['ZAI', 'NAMES', 'DAYS', 'BU']\n",
      "\t options - default\n",
      "\t description - Non-material data to store, i.e. zai, isotope names, burnup schedule, etc.\n",
      "\t type - <class 'list'>\n",
      "depletion.processTotal\n",
      "\t default - True\n",
      "\t description - Option to store the depletion data from the TOT block\n",
      "\t type - <class 'bool'>\n",
      "serpentVersion\n",
      "\t default - 2.1.29\n",
      "\t options - ['2.1.29']\n",
      "\t description - Version of SERPENT\n",
      "\t type - <class 'str'>\n",
      "verbosity\n",
      "\t default - info\n",
      "\t options - ['critical', 'error', 'warning', 'info', 'debug']\n",
      "\t type - <class 'str'>\n",
      "\t description - Set the level of errors to be shown.\n",
      "\t updater - <function updateLevel at 0x000001B484C3DF28>\n",
      "xs.getB1XS\n",
      "\t default - True\n",
      "\t description - If true, store the critical leakage cross sections.\n",
      "\t type - <class 'bool'>\n",
      "xs.getInfXS\n",
      "\t default - True\n",
      "\t description - If true, store the infinite medium cross sections.\n",
      "\t type - <class 'bool'>\n",
      "xs.variableExtras\n",
      "\t default - []\n",
      "\t description - Full SERPENT name of variables to be read\n",
      "\t type - <class 'list'>\n",
      "xs.variableGroups\n",
      "\t default - []\n",
      "\t description - Name of variable groups from variables.yaml to be expanded into SERPENT variable to be stored\n",
      "\t type - <class 'list'>\n"
     ]
    }
   ],
   "source": [
    "for setting in sorted(defaultSettings.keys()):\n",
    "    print(setting)\n",
    "    for key in defaultSettings[setting]:\n",
    "        print('\\t', key, '-', defaultSettings[setting][key])"
   ]
  },
  {
   "cell_type": "markdown",
   "metadata": {},
   "source": [
    "Settings such as `depletion.materialVariables` are specific for the `DepletionReader`, while settings that are led with `xs` are sent to the `ResultsReader` and `BranchingReader`, as well as their specific settings. The `rc` class acts as a dictionary, and updating a value is as simple as"
   ]
  },
  {
   "cell_type": "code",
   "execution_count": 3,
   "metadata": {},
   "outputs": [
    {
     "name": "stdout",
     "output_type": "stream",
     "text": [
      "DEBUG   : serpentTools: Updated setting verbosity to debug\n"
     ]
    }
   ],
   "source": [
    "rc['verbosity'] = 'debug'"
   ]
  },
  {
   "cell_type": "markdown",
   "metadata": {},
   "source": [
    "The `rc` object automatically checks to make sure the value is of the correct type, and is an allowable option, if given."
   ]
  },
  {
   "cell_type": "code",
   "execution_count": 4,
   "metadata": {},
   "outputs": [
    {
     "name": "stdout",
     "output_type": "stream",
     "text": [
      "Setting depletion.metadataKeys should be of type <class 'list'>, not <class 'bool'>\n"
     ]
    }
   ],
   "source": [
    "try:\n",
    "    rc['depletion.metadataKeys'] = False\n",
    "except TypeError as te:\n",
    "    print(te)"
   ]
  },
  {
   "cell_type": "code",
   "execution_count": 5,
   "metadata": {},
   "outputs": [
    {
     "name": "stdout",
     "output_type": "stream",
     "text": [
      "'Setting serpentVersion is 1.2.3 and not one of the allowed options: 2.1.29'\n"
     ]
    }
   ],
   "source": [
    "try:\n",
    "    rc['serpentVersion'] = '1.2.3'\n",
    "except KeyError as ke:\n",
    "    print(ke)"
   ]
  },
  {
   "cell_type": "markdown",
   "metadata": {},
   "source": [
    "The `rc` module can also be used inside a context manager to revert changes."
   ]
  },
  {
   "cell_type": "code",
   "execution_count": 8,
   "metadata": {},
   "outputs": [
    {
     "name": "stdout",
     "output_type": "stream",
     "text": [
      "DEBUG   : serpentTools: Updated setting depletion.metadataKeys to ['ZAI', 'BU']\n",
      "DEBUG   : serpentTools: Updated setting depletion.metadataKeys to ['ZAI', 'NAMES', 'DAYS', 'BU']\n"
     ]
    }
   ],
   "source": [
    "with rc:\n",
    "    rc['depletion.metadataKeys'] = ['ZAI', 'BU']\n",
    "    \n",
    "rc['depletion.metadataKeys']\n",
    "rc['verbosity'] = 'info'"
   ]
  },
  {
   "cell_type": "markdown",
   "metadata": {},
   "source": [
    "## Group Constant Variables"
   ]
  },
  {
   "cell_type": "markdown",
   "metadata": {},
   "source": [
    "Two settings control what group constant data and what variables are extracted from the results and coefficient files.\n",
    "\n",
    "1. `xs.variableExtras`: Full `SERPENT_STYLE` variable names, i.e. `INF_TOT`, `FISSION_PRODUCT_DECAY_HEAT`\n",
    "1. `xs.variableGroups`: Select keywords that represent blocks of common variables\n",
    "\n",
    "These variable groups are stored in `serpentTools/variables.yaml` and rely upon the `SERPENT` version to properly expand the groups."
   ]
  },
  {
   "cell_type": "code",
   "execution_count": 7,
   "metadata": {},
   "outputs": [
    {
     "data": {
      "text/plain": [
       "'2.1.29'"
      ]
     },
     "execution_count": 7,
     "metadata": {},
     "output_type": "execute_result"
    }
   ],
   "source": [
    "rc['serpentVersion']"
   ]
  },
  {
   "cell_type": "code",
   "execution_count": 11,
   "metadata": {},
   "outputs": [
    {
     "name": "stdout",
     "output_type": "stream",
     "text": [
      "['ABS', 'ADJ_IFP_ANA_BETA_EFF', 'ADJ_IFP_ANA_LAMBDA', 'ADJ_IFP_GEN_TIME', 'ADJ_IFP_IMP_BETA_EFF', 'ADJ_IFP_IMP_LAMBDA', 'ADJ_IFP_LIFETIME', 'ADJ_IFP_ROSSI_ALPHA', 'ADJ_INV_SPD', 'ADJ_MEULEKAMP_BETA_EFF', 'ADJ_MEULEKAMP_LAMBDA', 'ADJ_NAUCHI_BETA_EFF', 'ADJ_NAUCHI_GEN_TIME', 'ADJ_NAUCHI_LAMBDA', 'ADJ_NAUCHI_LIFETIME', 'ADJ_PERT_BETA_EFF', 'ADJ_PERT_GEN_TIME', 'ADJ_PERT_LIFETIME', 'ADJ_PERT_ROSSI_ALPHA', 'CAPT', 'CHID', 'CHIP', 'CHIT', 'CMM_DIFFCOEF', 'CMM_DIFFCOEF_X', 'CMM_DIFFCOEF_Y', 'CMM_DIFFCOEF_Z', 'CMM_TRANSPXS', 'CMM_TRANSPXS_X', 'CMM_TRANSPXS_Y', 'CMM_TRANSPXS_Z', 'DIFFCOEF', 'FISS', 'FWD_ANA_BETA_ZERO', 'FWD_ANA_LAMBDA', 'INVV', 'KAPPA', 'NSF', 'NUBAR', 'RABSXS', 'REMXS', 'S0', 'S1', 'S2', 'S3', 'S4', 'S5', 'S6', 'S7', 'SCATT0', 'SCATT1', 'SCATT2', 'SCATT3', 'SCATT4', 'SCATT5', 'SCATT6', 'SCATT7', 'TOT', 'TRANSPXS', 'XS_DATA_FILE_PATH']\n"
     ]
    }
   ],
   "source": [
    "rc['xs.variableGroups'] = ['kinetics', 'xs', 'diffusion']\n",
    "rc['xs.variableExtras'] = ['XS_DATA_FILE_PATH']\n",
    "varSet = rc.expandVariables()\n",
    "print(sorted(varSet))"
   ]
  },
  {
   "cell_type": "markdown",
   "metadata": {},
   "source": [
    "However, one might see that the full group constant cross sections are not present in this set"
   ]
  },
  {
   "cell_type": "code",
   "execution_count": 14,
   "metadata": {},
   "outputs": [],
   "source": [
    "assert 'INF_SCATT3' not in varSet"
   ]
  },
  {
   "cell_type": "markdown",
   "metadata": {},
   "source": [
    "This is because two additional settings instruct the `BranchingReader` and `ResultsReader` to obtain infinite medium and leakage-corrected cross sections: `xs.getInfXS` and `xs.getB1XS`, respectively. By default, `xs.getInfXS` and `xs.getB1XS` default to True. This, in conjunction with leaving the `xs.variableGroups` and `xs.variableExtras` settings to empty lists, instructs these readers to obtain all the data present in their respective files."
   ]
  },
  {
   "cell_type": "markdown",
   "metadata": {},
   "source": [
    "See the `BrancingReader` example for more information on using these settings to control scraped data."
   ]
  }
 ],
 "metadata": {
  "kernelspec": {
   "display_name": "Python 3",
   "language": "python",
   "name": "python3"
  },
  "language_info": {
   "codemirror_mode": {
    "name": "ipython",
    "version": 3
   },
   "file_extension": ".py",
   "mimetype": "text/x-python",
   "name": "python",
   "nbconvert_exporter": "python",
   "pygments_lexer": "ipython3",
   "version": "3.6.1"
  }
 },
 "nbformat": 4,
 "nbformat_minor": 2
}
