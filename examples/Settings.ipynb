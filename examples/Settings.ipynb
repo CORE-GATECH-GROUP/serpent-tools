{
 "cells": [
  {
   "cell_type": "markdown",
   "metadata": {},
   "source": [
    "Copyright (c) 2017-2020 [Serpent-Tools developer team](https://github.com/CORE-GATECH-GROUP/serpent-tools/graphs/contributors), GTRC\n",
    "\n",
    "THE SOFTWARE IS PROVIDED \"AS IS\", WITHOUT WARRANTY OF ANY KIND, EXPRESS OR IMPLIED, INCLUDING BUT NOT LIMITED TO THE WARRANTIES OF MERCHANTABILITY, FITNESS FOR A PARTICULAR PURPOSE AND NONINFRINGEMENT. IN NO EVENT SHALL THE AUTHORS OR COPYRIGHT HOLDERS BE LIABLE FOR ANY CLAIM, DAMAGES OR OTHER LIABILITY, WHETHER IN AN ACTION OF CONTRACT, TORT OR OTHERWISE, ARISING FROM, OUT OF OR IN CONNECTION WITH THE SOFTWARE OR THE USE OR OTHER DEALINGS IN THE SOFTWARE."
   ]
  },
  {
   "cell_type": "markdown",
   "metadata": {},
   "source": [
    "The [`serpentTools`](https://github.com/CORE-GATECH-GROUP/serpent-tools) package is designed to, without intervention, be able to store all the data contained in each of the various output files. However, the `serpentTools.settings` module grants great flexibility to the user over what data is obtained through the [`rc`](https://unix.stackexchange.com/questions/3467/what-does-rc-in-bashrc-stand-for) class. This notebook will provide as an intro into using this class.\n",
    "\n",
    "All the settings are given in [Default Settings](http://serpent-tools.readthedocs.io/en/latest/settingsTop.html#default-settings), showing their default values and possible options."
   ]
  },
  {
   "cell_type": "markdown",
   "metadata": {},
   "source": [
    "## Basic Usage"
   ]
  },
  {
   "cell_type": "code",
   "execution_count": 1,
   "metadata": {},
   "outputs": [],
   "source": [
    "import serpentTools\n",
    "from serpentTools.settings import rc"
   ]
  },
  {
   "cell_type": "markdown",
   "metadata": {},
   "source": [
    "The `rc` object can be used like a dictionary, polling all possible settings with the ``keys`` method."
   ]
  },
  {
   "cell_type": "code",
   "execution_count": 13,
   "metadata": {},
   "outputs": [
    {
     "data": {
      "text/plain": [
       "dict_keys(['depletion.processTotal', 'verbosity', 'xs.getInfXS', 'branching.intVariables', 'serpentVersion', 'sampler.raiseErrors', 'xs.getB1XS', 'xs.variableGroups', 'xs.variableExtras', 'depletion.materialVariables', 'depletion.metadataKeys', 'sampler.freeAll', 'sampler.allExist', 'depletion.materials', 'sampler.skipPrecheck', 'xs.reshapeScatter', 'branching.floatVariables', 'detector.names'])"
      ]
     },
     "execution_count": 13,
     "metadata": {},
     "output_type": "execute_result"
    }
   ],
   "source": [
    "rc.keys()"
   ]
  },
  {
   "cell_type": "markdown",
   "metadata": {},
   "source": [
    "Settings such as `depletion.materialVariables` are specific for the `DepletionReader`, while settings that are led with `xs` are sent to the `ResultsReader` and `BranchingReader`, as well as their specific settings. The `rc` class acts as a dictionary, and updating a value is as simple as"
   ]
  },
  {
   "cell_type": "code",
   "execution_count": 3,
   "metadata": {},
   "outputs": [
    {
     "name": "stdout",
     "output_type": "stream",
     "text": [
      "DEBUG   : serpentTools: Updated setting verbosity to debug\n"
     ]
    }
   ],
   "source": [
    "rc['verbosity'] = 'debug'"
   ]
  },
  {
   "cell_type": "markdown",
   "metadata": {},
   "source": [
    "The `rc` object automatically checks to make sure the value is of the correct type, and is an allowable option, if given."
   ]
  },
  {
   "cell_type": "code",
   "execution_count": 4,
   "metadata": {},
   "outputs": [
    {
     "name": "stdout",
     "output_type": "stream",
     "text": [
      "Setting depletion.metadataKeys should be of type <class 'list'>, not <class 'bool'>\n"
     ]
    }
   ],
   "source": [
    "try:\n",
    "    rc['depletion.metadataKeys'] = False\n",
    "except TypeError as te:\n",
    "    print(te)"
   ]
  },
  {
   "cell_type": "code",
   "execution_count": 5,
   "metadata": {},
   "outputs": [
    {
     "name": "stdout",
     "output_type": "stream",
     "text": [
      "'Setting serpentVersion is 1.2.3 and not one of the allowed options: 2.1.29, 2.1.30'\n"
     ]
    }
   ],
   "source": [
    "try:\n",
    "    rc['serpentVersion'] = '1.2.3'\n",
    "except KeyError as ke:\n",
    "    print(ke)"
   ]
  },
  {
   "cell_type": "markdown",
   "metadata": {},
   "source": [
    "The `rc` module can also be used inside a context manager to revert changes."
   ]
  },
  {
   "cell_type": "code",
   "execution_count": 6,
   "metadata": {},
   "outputs": [
    {
     "name": "stdout",
     "output_type": "stream",
     "text": [
      "DEBUG   : serpentTools: Updated setting depletion.metadataKeys to ['ZAI', 'BU']\n",
      "DEBUG   : serpentTools: Updated setting depletion.metadataKeys to ['ZAI', 'NAMES', 'DAYS', 'BU']\n"
     ]
    }
   ],
   "source": [
    "with rc:\n",
    "    rc['depletion.metadataKeys'] = ['ZAI', 'BU']\n",
    "    \n",
    "rc['depletion.metadataKeys']\n",
    "rc['verbosity'] = 'info'"
   ]
  },
  {
   "cell_type": "markdown",
   "metadata": {},
   "source": [
    "## Group Constant Variables"
   ]
  },
  {
   "cell_type": "markdown",
   "metadata": {},
   "source": [
    "Two settings control what group constant data and what variables are extracted from the results and coefficient files.\n",
    "\n",
    "1. `xs.variableExtras`: Full `SERPENT_STYLE` variable names, i.e. `INF_TOT`, `FISSION_PRODUCT_DECAY_HEAT`\n",
    "1. `xs.variableGroups`: Select keywords that represent blocks of common variables\n",
    "\n",
    "These variable groups are described in [Variable Groups](http://serpent-tools.readthedocs.io/en/latest/variableGroupsTop.html#variable-groups) and rely upon the `SERPENT` version to properly expand the groups."
   ]
  },
  {
   "cell_type": "code",
   "execution_count": 7,
   "metadata": {},
   "outputs": [
    {
     "data": {
      "text/plain": [
       "'2.1.29'"
      ]
     },
     "execution_count": 7,
     "metadata": {},
     "output_type": "execute_result"
    }
   ],
   "source": [
    "rc['serpentVersion']"
   ]
  },
  {
   "cell_type": "code",
   "execution_count": 8,
   "metadata": {},
   "outputs": [
    {
     "name": "stdout",
     "output_type": "stream",
     "text": [
      "['ABS', 'ADJ_IFP_ANA_BETA_EFF', 'ADJ_IFP_ANA_LAMBDA', 'ADJ_IFP_GEN_TIME', 'ADJ_IFP_IMP_BETA_EFF', 'ADJ_IFP_IMP_LAMBDA', 'ADJ_IFP_LIFETIME', 'ADJ_IFP_ROSSI_ALPHA', 'ADJ_INV_SPD', 'ADJ_MEULEKAMP_BETA_EFF', 'ADJ_MEULEKAMP_LAMBDA', 'ADJ_NAUCHI_BETA_EFF', 'ADJ_NAUCHI_GEN_TIME', 'ADJ_NAUCHI_LAMBDA', 'ADJ_NAUCHI_LIFETIME', 'ADJ_PERT_BETA_EFF', 'ADJ_PERT_GEN_TIME', 'ADJ_PERT_LIFETIME', 'ADJ_PERT_ROSSI_ALPHA', 'BETA_EFF', 'CAPT', 'CHID', 'CHIP', 'CHIT', 'CMM_DIFFCOEF', 'CMM_DIFFCOEF_X', 'CMM_DIFFCOEF_Y', 'CMM_DIFFCOEF_Z', 'CMM_TRANSPXS', 'CMM_TRANSPXS_X', 'CMM_TRANSPXS_Y', 'CMM_TRANSPXS_Z', 'DIFFCOEF', 'FISS', 'FWD_ANA_BETA_ZERO', 'FWD_ANA_LAMBDA', 'INVV', 'KAPPA', 'LAMBDA', 'NSF', 'NUBAR', 'RABSXS', 'REMXS', 'S0', 'S1', 'S2', 'S3', 'S4', 'S5', 'S6', 'S7', 'SCATT0', 'SCATT1', 'SCATT2', 'SCATT3', 'SCATT4', 'SCATT5', 'SCATT6', 'SCATT7', 'TOT', 'TRANSPXS', 'XS_DATA_FILE_PATH']\n"
     ]
    }
   ],
   "source": [
    "rc['xs.variableGroups'] = ['kinetics', 'xs', 'diffusion']\n",
    "rc['xs.variableExtras'] = ['XS_DATA_FILE_PATH']\n",
    "varSet = rc.expandVariables()\n",
    "print(sorted(varSet))"
   ]
  },
  {
   "cell_type": "markdown",
   "metadata": {},
   "source": [
    "However, one might see that the full group constant cross sections are not present in this set"
   ]
  },
  {
   "cell_type": "code",
   "execution_count": 9,
   "metadata": {},
   "outputs": [],
   "source": [
    "assert 'INF_SCATT3' not in varSet"
   ]
  },
  {
   "cell_type": "markdown",
   "metadata": {},
   "source": [
    "This is because two additional settings instruct the `BranchingReader` and `ResultsReader` to obtain infinite medium and leakage-corrected cross sections: `xs.getInfXS` and `xs.getB1XS`, respectively. By default, `xs.getInfXS` and `xs.getB1XS` default to True. This, in conjunction with leaving the `xs.variableGroups` and `xs.variableExtras` settings to empty lists, instructs these readers to obtain all the data present in their respective files."
   ]
  },
  {
   "cell_type": "markdown",
   "metadata": {},
   "source": [
    "See the [`BrancingReader`](http://serpent-tools.readthedocs.io/en/latest/examples/Branching.html#settings) or [`ResultsReader`](http://serpent-tools.readthedocs.io/en/latest/examples/ResultsReader.html#user-defined-settings) examples for more information on using these settings to control scraped data."
   ]
  },
  {
   "cell_type": "markdown",
   "metadata": {},
   "source": [
    "## Configuration files\n",
    "The `rc` object allows for settings to be updated from a yaml configuration file using the `loadYaml` method. The file contains setting names as keys with the desired variables as values, as\n",
    "```\n",
    "verbosity: warning\n",
    "xs.getInfXS: False\n",
    "```\n",
    "However, the loader can also expand a nested dictionary structure, as\n",
    "```\n",
    "branching:\n",
    "  floatVariables: [Fhi, Blo]\n",
    "depletion:\n",
    "  materials: [fuel*]\n",
    "  materialVariables:\n",
    "    [ADENS, MDENS, VOLUME]\n",
    "```"
   ]
  },
  {
   "cell_type": "code",
   "execution_count": 12,
   "metadata": {},
   "outputs": [
    {
     "name": "stdout",
     "output_type": "stream",
     "text": [
      "xs.getInfXS: False\r\n",
      "xs.getB1XS: True\r\n",
      "xs.variableGroups: [gc-meta, kinetics, xs]\r\n",
      "branching:\r\n",
      "  floatVariables: [Fhi, Blo]\r\n",
      "depletion:\r\n",
      "  materials: [fuel*]\r\n",
      "  metadataKeys: [NAMES, BU]\r\n",
      "  materialVariables:\r\n",
      "    [ADENS, MDENS, VOLUME]\r\n",
      "serpentVersion: 2.1.29\r\n"
     ]
    }
   ],
   "source": [
    "%cat myConfig.yaml"
   ]
  },
  {
   "cell_type": "code",
   "execution_count": 10,
   "metadata": {},
   "outputs": [
    {
     "name": "stdout",
     "output_type": "stream",
     "text": [
      "INFO    : serpentTools: Done\n"
     ]
    },
    {
     "data": {
      "text/plain": [
       "False"
      ]
     },
     "execution_count": 10,
     "metadata": {},
     "output_type": "execute_result"
    }
   ],
   "source": [
    "myConf = 'myConfig.yaml'\n",
    "rc.loadYaml(myConf)\n",
    "rc['xs.getInfXS']"
   ]
  }
 ],
 "metadata": {
  "kernelspec": {
   "display_name": "Python 3",
   "language": "python",
   "name": "python3"
  },
  "language_info": {
   "codemirror_mode": {
    "name": "ipython",
    "version": 3
   },
   "file_extension": ".py",
   "mimetype": "text/x-python",
   "name": "python",
   "nbconvert_exporter": "python",
   "pygments_lexer": "ipython3",
   "version": "3.5.2"
  }
 },
 "nbformat": 4,
 "nbformat_minor": 2
}
