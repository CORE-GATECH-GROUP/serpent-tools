{
 "cells": [
  {
   "cell_type": "markdown",
   "metadata": {},
   "source": [
    "Copyright (c) 2017 Andrew Johnson, Dan Kotlyar, GTRC\n",
    "\n",
    "THE SOFTWARE IS PROVIDED \"AS IS\", WITHOUT WARRANTY OF ANY KIND, EXPRESS OR IMPLIED, INCLUDING BUT NOT LIMITED TO THE WARRANTIES OF MERCHANTABILITY, FITNESS FOR A PARTICULAR PURPOSE AND NONINFRINGEMENT. IN NO EVENT SHALL THE AUTHORS OR COPYRIGHT HOLDERS BE LIABLE FOR ANY CLAIM, DAMAGES OR OTHER LIABILITY, WHETHER IN AN ACTION OF CONTRACT, TORT OR OTHERWISE, ARISING FROM, OUT OF OR IN CONNECTION WITH THE SOFTWARE OR THE USE OR OTHER DEALINGS IN THE SOFTWARE."
   ]
  },
  {
   "cell_type": "markdown",
   "metadata": {},
   "source": [
    "The [`serpentTools`](https://github.com/CORE-GATECH-GROUP/serpent-tools) package is designed to, without intervention, be able to store all the data contained in each of the various output files. However, the `serpentTools.settings` module grants great flexibility to the user over what data is obtained through the [`rc`](https://unix.stackexchange.com/questions/3467/what-does-rc-in-bashrc-stand-for) class. This notebook will provide as an intro into using this class."
   ]
  },
  {
   "cell_type": "markdown",
   "metadata": {},
   "source": [
    "# Basic Usage"
   ]
  },
  {
   "cell_type": "code",
   "execution_count": 1,
   "metadata": {
    "collapsed": false
   },
   "outputs": [
    {
     "name": "stdout",
     "output_type": "stream",
     "text": [
      "INFO    : serpentTools: Using version 1.0b0+24.g23e6eac.dirty\n"
     ]
    }
   ],
   "source": [
    "import serpentTools\n",
    "from serpentTools.settings import rc, defaultSettings"
   ]
  },
  {
   "cell_type": "markdown",
   "metadata": {},
   "source": [
    "Below are the default values for each setting available"
   ]
  },
  {
   "cell_type": "code",
   "execution_count": 2,
   "metadata": {
    "collapsed": false
   },
   "outputs": [
    {
     "name": "stdout",
     "output_type": "stream",
     "text": [
      "depletion.materialVariables\n",
      "\t default - []\n",
      "\t description - Names of variables to store. Empty list -> all variables.\n",
      "\t type - <class 'list'>\n",
      "depletion.materials\n",
      "\t default - []\n",
      "\t description - Names of materials to store. Empty list -> all materials.\n",
      "\t type - <class 'list'>\n",
      "depletion.metadataKeys\n",
      "\t default - ['ZAI', 'NAMES', 'DAYS', 'BU']\n",
      "\t description - Non-material data to store, i.e. zai, isotope names, burnup schedule, etc.\n",
      "\t type - <class 'list'>\n",
      "\t options - default\n",
      "depletion.processTotal\n",
      "\t default - True\n",
      "\t description - Option to store the depletion data from the TOT block\n",
      "\t type - <class 'bool'>\n",
      "serpentVersion\n",
      "\t default - 2.1.29\n",
      "\t description - Version of SERPENT\n",
      "\t type - <class 'str'>\n",
      "\t options - ['2.1.29']\n",
      "verbosity\n",
      "\t default - warning\n",
      "\t type - <class 'str'>\n",
      "\t description - Set the level of errors to be shown.\n",
      "\t updater - <function updateLevel at 0x000001B7F3DD6598>\n",
      "\t options - ['critical', 'error', 'warning', 'info', 'debug']\n",
      "xs.variableExtras\n",
      "\t default - []\n",
      "\t description - Full SERPENT name of variables to be read\n",
      "\t type - <class 'list'>\n",
      "xs.variableGroups\n",
      "\t default - []\n",
      "\t description - Name of variable groups from variables.yaml to be expanded into SERPENT variable to be stored\n",
      "\t type - <class 'list'>\n"
     ]
    }
   ],
   "source": [
    "for setting in sorted(defaultSettings.keys()):\n",
    "    print(setting)\n",
    "    for key in defaultSettings[setting]:\n",
    "        print('\\t', key, '-', defaultSettings[setting][key])"
   ]
  },
  {
   "cell_type": "markdown",
   "metadata": {},
   "source": [
    "Settings such as `depletion.materialVariables` are specific for the `DepletionReader`, while settings that are led with `xs` are sent to the `ResultsReader` and `BranchingReader`, as well as their specific settings. The `rc` class acts as a dictionary, and updating a value is as simple as"
   ]
  },
  {
   "cell_type": "code",
   "execution_count": 3,
   "metadata": {
    "collapsed": false
   },
   "outputs": [
    {
     "name": "stdout",
     "output_type": "stream",
     "text": [
      "DEBUG   : serpentTools: Updated setting verbosity to debug\n"
     ]
    }
   ],
   "source": [
    "rc['verbosity'] = 'debug'"
   ]
  },
  {
   "cell_type": "markdown",
   "metadata": {},
   "source": [
    "The `rc` object automatically checks to make sure the value is of the correct type, and is an allowable option, if given."
   ]
  },
  {
   "cell_type": "code",
   "execution_count": 4,
   "metadata": {
    "collapsed": false
   },
   "outputs": [
    {
     "name": "stdout",
     "output_type": "stream",
     "text": [
      "Setting depletion.metadataKeys should be of type <class 'list'>, not <class 'bool'>\n"
     ]
    }
   ],
   "source": [
    "try:\n",
    "    rc['depletion.metadataKeys'] = False\n",
    "except TypeError as te:\n",
    "    print(te)"
   ]
  },
  {
   "cell_type": "code",
   "execution_count": 5,
   "metadata": {
    "collapsed": false
   },
   "outputs": [
    {
     "name": "stdout",
     "output_type": "stream",
     "text": [
      "\"Setting serpentVersion is\\n1.2.3\\nand not one of the allowed options:\\n['2.1.29']\"\n"
     ]
    }
   ],
   "source": [
    "try:\n",
    "    rc['serpentVersion'] = '1.2.3'\n",
    "except KeyError as ke:\n",
    "    print(ke)"
   ]
  },
  {
   "cell_type": "markdown",
   "metadata": {},
   "source": [
    "The `rc` module can also be used inside a context manager to revert changes."
   ]
  },
  {
   "cell_type": "code",
   "execution_count": 8,
   "metadata": {
    "collapsed": false
   },
   "outputs": [
    {
     "name": "stdout",
     "output_type": "stream",
     "text": [
      "DEBUG   : serpentTools: Updated setting depletion.metadataKeys to ['ZAI', 'BU']\n",
      "DEBUG   : serpentTools: Updated setting depletion.metadataKeys to ['ZAI', 'NAMES', 'DAYS', 'BU']\n"
     ]
    },
    {
     "data": {
      "text/plain": [
       "['ZAI', 'NAMES', 'DAYS', 'BU']"
      ]
     },
     "execution_count": 8,
     "metadata": {},
     "output_type": "execute_result"
    }
   ],
   "source": [
    "with rc:\n",
    "    rc['depletion.metadataKeys'] = ['ZAI', 'BU']\n",
    "    \n",
    "rc['depletion.metadataKeys']"
   ]
  }
 ],
 "metadata": {
  "kernelspec": {
   "display_name": "Python [default]",
   "language": "python",
   "name": "python3"
  },
  "language_info": {
   "codemirror_mode": {
    "name": "ipython",
    "version": 3
   },
   "file_extension": ".py",
   "mimetype": "text/x-python",
   "name": "python",
   "nbconvert_exporter": "python",
   "pygments_lexer": "ipython3",
   "version": "3.5.4"
  }
 },
 "nbformat": 4,
 "nbformat_minor": 2
}
