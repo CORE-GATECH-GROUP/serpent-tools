{
 "cells": [
  {
   "cell_type": "markdown",
   "metadata": {},
   "source": [
    "Copyright (c) 2017-2018 [Serpent-Tools developer team](https://github.com/CORE-GATECH-GROUP/serpent-tools/graphs/contributors), GTRC\n",
    "\n",
    "THE SOFTWARE IS PROVIDED \"AS IS\", WITHOUT WARRANTY OF ANY KIND, EXPRESS OR IMPLIED, INCLUDING BUT NOT LIMITED TO THE WARRANTIES OF MERCHANTABILITY, FITNESS FOR A PARTICULAR PURPOSE AND NONINFRINGEMENT. IN NO EVENT SHALL THE AUTHORS OR COPYRIGHT HOLDERS BE LIABLE FOR ANY CLAIM, DAMAGES OR OTHER LIABILITY, WHETHER IN AN ACTION OF CONTRACT, TORT OR OTHERWISE, ARISING FROM, OUT OF OR IN CONNECTION WITH THE SOFTWARE OR THE USE OR OTHER DEALINGS IN THE SOFTWARE."
   ]
  },
  {
   "cell_type": "markdown",
   "metadata": {},
   "source": [
    "# FissionMatrixReader"
   ]
  },
  {
   "cell_type": "markdown",
   "metadata": {},
   "source": [
    "## Basic Operation\n",
    "This notebook details how to utilize the [`serpentTools`](https://github.com/CORE-GATECH-GROUP/serpent-tools) package for reading fission matrix files, `[input]_fmtx[N].m` produced by SERPENT [1]. \n",
    "The fission matrix can be defined using the fmtx card on a Cartesian mesh, as explained in the [ SERPENT user forum ](https://goo.gl/r3T2Cp). The syntax is:\n",
    "\n",
    "set fmtx 4 < xmin>  < xmax> < nx> < ymin> < ymax> < ny> < zmin> < zmax> < nz>"
   ]
  },
  {
   "cell_type": "code",
   "execution_count": 88,
   "metadata": {},
   "outputs": [],
   "source": [
    "%matplotlib inline\n",
    "import matplotlib.pyplot as plt\n",
    "import os\n",
    "import serpentTools"
   ]
  },
  {
   "cell_type": "code",
   "execution_count": 93,
   "metadata": {},
   "outputs": [],
   "source": [
    "# Initialize class instance and read file\n",
    "filePath = 'ref_fmtx0.m'\n",
    "r = serpentTools.read(filePath)"
   ]
  },
  {
   "cell_type": "markdown",
   "metadata": {},
   "source": [
    "## Obtain Fission Matrix and Uncertainties"
   ]
  },
  {
   "cell_type": "markdown",
   "metadata": {},
   "source": [
    "Obtain Fission Matrix:"
   ]
  },
  {
   "cell_type": "code",
   "execution_count": 94,
   "metadata": {},
   "outputs": [
    {
     "name": "stdout",
     "output_type": "stream",
     "text": [
      "[[  1.03565000e+00   2.25556000e-01   1.31814000e-03   0.00000000e+00\n",
      "    0.00000000e+00   0.00000000e+00   0.00000000e+00   0.00000000e+00\n",
      "    0.00000000e+00   0.00000000e+00]\n",
      " [  1.21141000e-01   1.06634000e+00   1.73144000e-01   1.01131000e-03\n",
      "    0.00000000e+00   0.00000000e+00   0.00000000e+00   0.00000000e+00\n",
      "    0.00000000e+00   0.00000000e+00]\n",
      " [  7.90319000e-04   1.34305000e-01   1.06641000e+00   1.60297000e-01\n",
      "    9.41014000e-04   9.57339000e-06   0.00000000e+00   0.00000000e+00\n",
      "    0.00000000e+00   0.00000000e+00]\n",
      " [  8.59638000e-06   8.44001000e-04   1.40774000e-01   1.06641000e+00\n",
      "    1.53712000e-01   9.11945000e-04   1.13159000e-05   0.00000000e+00\n",
      "    0.00000000e+00   0.00000000e+00]\n",
      " [  0.00000000e+00   1.00202000e-05   8.69914000e-04   1.45725000e-01\n",
      "    1.06611000e+00   1.49256000e-01   8.79727000e-04   1.01589000e-05\n",
      "    0.00000000e+00   0.00000000e+00]\n",
      " [  0.00000000e+00   0.00000000e+00   9.41223000e-06   8.82379000e-04\n",
      "    1.49646000e-01   1.06616000e+00   1.45135000e-01   8.69657000e-04\n",
      "    9.81936000e-06   0.00000000e+00]\n",
      " [  0.00000000e+00   0.00000000e+00   0.00000000e+00   1.02592000e-05\n",
      "    9.09242000e-04   1.54569000e-01   1.06562000e+00   1.40434000e-01\n",
      "    8.27211000e-04   9.88088000e-06]\n",
      " [  0.00000000e+00   0.00000000e+00   0.00000000e+00   0.00000000e+00\n",
      "    9.98250000e-06   9.50846000e-04   1.60865000e-01   1.06558000e+00\n",
      "    1.34156000e-01   7.89549000e-04]\n",
      " [  0.00000000e+00   0.00000000e+00   0.00000000e+00   0.00000000e+00\n",
      "    0.00000000e+00   0.00000000e+00   1.01842000e-03   1.72929000e-01\n",
      "    1.06631000e+00   1.21304000e-01]\n",
      " [  0.00000000e+00   0.00000000e+00   0.00000000e+00   0.00000000e+00\n",
      "    0.00000000e+00   0.00000000e+00   0.00000000e+00   1.27734000e-03\n",
      "    2.25160000e-01   1.03687000e+00]]\n"
     ]
    }
   ],
   "source": [
    "FissMtx = r.fMat\n",
    "print(FissMtx)"
   ]
  },
  {
   "cell_type": "markdown",
   "metadata": {},
   "source": [
    "Same procedure for uncertainty matrix"
   ]
  },
  {
   "cell_type": "code",
   "execution_count": 95,
   "metadata": {},
   "outputs": [
    {
     "name": "stdout",
     "output_type": "stream",
     "text": [
      "[[ 0.00045615  0.00121818  0.0181398   0.          0.          0.          0.\n",
      "   0.          0.          0.        ]\n",
      " [ 0.00115886  0.00028015  0.00092341  0.0120657   0.          0.          0.\n",
      "   0.          0.          0.        ]\n",
      " [ 0.0111279   0.00092806  0.00021495  0.0008004   0.00898881  0.0942335\n",
      "   0.          0.          0.          0.        ]\n",
      " [ 0.0926119   0.00943784  0.00073553  0.0001915   0.00071406  0.00910074\n",
      "   0.0827339   0.          0.          0.        ]\n",
      " [ 0.          0.0832101   0.00908811  0.00067972  0.00018045  0.00064569\n",
      "   0.00835152  0.0787173   0.          0.        ]\n",
      " [ 0.          0.          0.0783537   0.00883504  0.0007079   0.00019116\n",
      "   0.0006979   0.00865997  0.0889029   0.        ]\n",
      " [ 0.          0.          0.          0.0857217   0.00931878  0.00076019\n",
      "   0.00018609  0.00075122  0.00942279  0.0849569 ]\n",
      " [ 0.          0.          0.          0.          0.0935977   0.00862418\n",
      "   0.00078246  0.00021536  0.00083853  0.0106983 ]\n",
      " [ 0.          0.          0.          0.          0.          0.\n",
      "   0.0121988   0.00091982  0.00026795  0.00115123]\n",
      " [ 0.          0.          0.          0.          0.          0.          0.\n",
      "   0.0160677   0.00123419  0.00044029]]\n"
     ]
    }
   ],
   "source": [
    "FissMtxUnc = r.fMatU\n",
    "print(FissMtxUnc)"
   ]
  },
  {
   "cell_type": "markdown",
   "metadata": {},
   "source": [
    "## Dominant Eigen-Pair Calculation"
   ]
  },
  {
   "cell_type": "markdown",
   "metadata": {},
   "source": [
    "One line is sufficient to compute the dominant eigenpair, i.e. k-eff and the asymptical fission source distribution:"
   ]
  },
  {
   "cell_type": "code",
   "execution_count": 96,
   "metadata": {},
   "outputs": [
    {
     "name": "stdout",
     "output_type": "stream",
     "text": [
      "keff =  1.35692329863\n",
      "Fission Source Distribution:\n",
      "[ 0.06442703  0.09114091  0.10720017  0.11688294  0.12149769  0.12128671\n",
      "  0.11634971  0.10651745  0.09056153  0.06413586]\n"
     ]
    }
   ],
   "source": [
    "[keff, powDis] = r.fMatEig()\n",
    "print('keff = ', keff)\n",
    "print('Fission Source Distribution:')\n",
    "print(powDis)"
   ]
  },
  {
   "cell_type": "markdown",
   "metadata": {},
   "source": [
    "## Spectrum and Higher Modes Calculation"
   ]
  },
  {
   "cell_type": "markdown",
   "metadata": {},
   "source": [
    "The spectrum of the matrix is stored in the array:"
   ]
  },
  {
   "cell_type": "code",
   "execution_count": 97,
   "metadata": {},
   "outputs": [
    {
     "data": {
      "text/plain": [
       "array([ 1.3569233 ,  1.32347351,  1.26546606,  1.18854703,  1.10034521,\n",
       "        1.00966372,  0.92478466,  0.77583612,  0.802674  ,  0.85374639])"
      ]
     },
     "execution_count": 97,
     "metadata": {},
     "output_type": "execute_result"
    }
   ],
   "source": [
    "# Spectrum\n",
    "r.eigValVec"
   ]
  },
  {
   "cell_type": "markdown",
   "metadata": {},
   "source": [
    "The modes constitute the column vector of the matrix:"
   ]
  },
  {
   "cell_type": "code",
   "execution_count": 98,
   "metadata": {},
   "outputs": [
    {
     "data": {
      "text/plain": [
       "array([[ 0.06442703,  0.10374802, -0.13267992,  0.15329651, -0.16542129,\n",
       "         0.16962206,  0.16478371, -0.08296942,  0.12684499, -0.15106176],\n",
       "       [ 0.09114091,  0.13167328, -0.134821  ,  0.1041082 , -0.04806606,\n",
       "        -0.01888286, -0.08070255,  0.0961785 , -0.13167347,  0.12208327],\n",
       "       [ 0.10720017,  0.12245954, -0.06242939, -0.03311462,  0.10592386,\n",
       "        -0.11281376, -0.0499626 , -0.10395612,  0.11220491, -0.04395206],\n",
       "       [ 0.11688294,  0.08537582,  0.03547724, -0.11286401,  0.06399909,\n",
       "         0.05443456,  0.11127932,  0.1089194 , -0.0750707 , -0.04381804],\n",
       "       [ 0.12149769,  0.03009348,  0.10324889, -0.06029852, -0.08212219,\n",
       "         0.08381825, -0.05601428, -0.11187543,  0.02661071,  0.10080784],\n",
       "       [ 0.12128671, -0.03166725,  0.10343445,  0.06024505, -0.08232174,\n",
       "        -0.08387159, -0.05596833,  0.11247933,  0.02611663, -0.10066029],\n",
       "       [ 0.11634971, -0.08694627,  0.03575694,  0.11346656,  0.06424877,\n",
       "        -0.05478   ,  0.11190442, -0.11093412, -0.07506691,  0.04338673],\n",
       "       [ 0.10651745, -0.12419547, -0.06281911,  0.0340369 ,  0.10731394,\n",
       "         0.11348837, -0.04979374,  0.10639867,  0.1124057 ,  0.04540384],\n",
       "       [ 0.09056153, -0.13364627, -0.13642115, -0.10437073, -0.04765883,\n",
       "         0.01997668, -0.08250324, -0.09805862, -0.13119576, -0.12390647],\n",
       "       [ 0.06413586, -0.10554802, -0.1347216 , -0.15464859, -0.16689642,\n",
       "        -0.17065591,  0.16630215,  0.08406177,  0.12552075,  0.15203274]])"
      ]
     },
     "execution_count": 98,
     "metadata": {},
     "output_type": "execute_result"
    }
   ],
   "source": [
    "# Eigenmodes\n",
    "r.eigVecMat"
   ]
  },
  {
   "cell_type": "markdown",
   "metadata": {},
   "source": [
    "The dominant eigenvalue, the dominant eigenmode, and the dominance ratio can be accessed with the following shortcuts:"
   ]
  },
  {
   "cell_type": "code",
   "execution_count": 99,
   "metadata": {},
   "outputs": [
    {
     "name": "stdout",
     "output_type": "stream",
     "text": [
      "keff =  1.35692329863\n",
      "Fission Source Distribution:\n",
      "[ 0.06442703  0.09114091  0.10720017  0.11688294  0.12149769  0.12128671\n",
      "  0.11634971  0.10651745  0.09056153  0.06413586]\n",
      "Dominance Ratio: 0.9753487992\n"
     ]
    }
   ],
   "source": [
    "# Dominant eigenvalue\n",
    "keff = r.domEigVal\n",
    "print('keff = ', keff)\n",
    "# Dominant eigenmode\n",
    "powSource = r.domEigVec\n",
    "print('Fission Source Distribution:')\n",
    "print(powSource)\n",
    "# Dominance ratio\n",
    "domRatio = r.domRatio\n",
    "print('Dominance Ratio:',domRatio)"
   ]
  },
  {
   "cell_type": "markdown",
   "metadata": {},
   "source": [
    "## Plotting Routines"
   ]
  },
  {
   "cell_type": "markdown",
   "metadata": {},
   "source": [
    "Simple 1D and 2D routines were implemented to plot the sparsity patterns of the matrices, the matrix spectrum, and the eigenmodes spatial distribution,.  "
   ]
  },
  {
   "cell_type": "markdown",
   "metadata": {},
   "source": [
    "## Sparsity Patterns"
   ]
  },
  {
   "cell_type": "code",
   "execution_count": 100,
   "metadata": {},
   "outputs": [
    {
     "data": {
      "image/png": "[encoded data removed]",
      "text/plain": [
       "<matplotlib.figure.Figure at 0x20998c11320>"
      ]
     },
     "metadata": {},
     "output_type": "display_data"
    }
   ],
   "source": [
    "# Fission Matrix Sparsity Pattern\n",
    "r.fMatPlot()"
   ]
  },
  {
   "cell_type": "code",
   "execution_count": 101,
   "metadata": {},
   "outputs": [
    {
     "data": {
      "image/png": "[encoded data removed]",
      "text/plain": [
       "<matplotlib.figure.Figure at 0x20998d47fd0>"
      ]
     },
     "metadata": {},
     "output_type": "display_data"
    }
   ],
   "source": [
    "# Uncertainty associated to fission matrix entries\n",
    "r.fMatUPlot()"
   ]
  },
  {
   "cell_type": "markdown",
   "metadata": {},
   "source": [
    "## Fission Matrix Spectrum"
   ]
  },
  {
   "cell_type": "markdown",
   "metadata": {},
   "source": [
    "The function accepts the following additional arguments to customize the plot.\n",
    "\n",
    "|Option|Description|\n",
    "|-|-|\n",
    "|`ax`|Preprepared figure on which to add this plot|\n",
    "|`linewidth`|Line width|\n",
    "|`color`|Line color|\n",
    "|`title`|Title of the plot|\n",
    "|`xlabel`|Label to apply to x-axis|\n",
    "|`ylabel`|Label to apply to y-axis|\n",
    "|`cmap`|Color-map|\n",
    "|`grid`|Grid (True), no Grid (False)|"
   ]
  },
  {
   "cell_type": "code",
   "execution_count": 102,
   "metadata": {},
   "outputs": [
    {
     "data": {
      "text/plain": [
       "<matplotlib.axes._subplots.AxesSubplot at 0x20998cde438>"
      ]
     },
     "execution_count": 102,
     "metadata": {},
     "output_type": "execute_result"
    },
    {
     "data": {
      "image/png": "[encoded data removed]",
      "text/plain": [
       "<matplotlib.figure.Figure at 0x20998db38d0>"
      ]
     },
     "metadata": {},
     "output_type": "display_data"
    }
   ],
   "source": [
    "# Plot on the Argand-Gauss plane\n",
    "r.eigValPlot()"
   ]
  },
  {
   "cell_type": "markdown",
   "metadata": {},
   "source": [
    "## Eigenmodes Spatial Distribution"
   ]
  },
  {
   "cell_type": "markdown",
   "metadata": {},
   "source": [
    "The function r.eigVecPlot requires one argument specifying the mode number. The mode number must be in the range $1-N_{max}$, where 1 corresponds to the dominant eigenvalue, and $N_{max}$ to the fission matrix's number of lines/columns. "
   ]
  },
  {
   "cell_type": "code",
   "execution_count": 103,
   "metadata": {},
   "outputs": [
    {
     "data": {
      "text/plain": [
       "<matplotlib.axes._subplots.AxesSubplot at 0x20998d040f0>"
      ]
     },
     "execution_count": 103,
     "metadata": {},
     "output_type": "execute_result"
    },
    {
     "data": {
      "image/png": "[encoded data removed]",
      "text/plain": [
       "<matplotlib.figure.Figure at 0x20998c6af28>"
      ]
     },
     "metadata": {},
     "output_type": "display_data"
    }
   ],
   "source": [
    "# Plot the n-th eigenmode spatial distribution (dominant eigenmode, n = 1)\n",
    "r.eigVecPlot(1)"
   ]
  },
  {
   "cell_type": "markdown",
   "metadata": {},
   "source": [
    "The function accepts the following additional arguments to customize the plot.\n",
    "\n",
    "|Option|Description|\n",
    "|-|-|\n",
    "|`xdata`|Array of data to use as x-axis|\n",
    "|`ax`|Preprepared figure on which to add this plot|\n",
    "|`linewidth`|Line width|\n",
    "|`color`|Line color|\n",
    "|`title`|Title of the plot|\n",
    "|`xlabel`|Label to apply to x-axis|\n",
    "|`ylabel`|Label to apply to y-axis|"
   ]
  },
  {
   "cell_type": "code",
   "execution_count": 104,
   "metadata": {
    "scrolled": true
   },
   "outputs": [
    {
     "data": {
      "text/plain": [
       "<matplotlib.axes._subplots.AxesSubplot at 0x20998e24e80>"
      ]
     },
     "execution_count": 104,
     "metadata": {},
     "output_type": "execute_result"
    },
    {
     "data": {
      "image/png": "[encoded data removed]",
      "text/plain": [
       "<matplotlib.figure.Figure at 0x20998e91390>"
      ]
     },
     "metadata": {},
     "output_type": "display_data"
    }
   ],
   "source": [
    "# Example of customization\n",
    "r.eigVecPlot(2, title='Fission Source', xlabel='x', ylabel='S(x)', color='r', linewidth=2)"
   ]
  }
 ],
 "metadata": {
  "kernelspec": {
   "display_name": "Python 3",
   "language": "python",
   "name": "python3"
  },
  "language_info": {
   "codemirror_mode": {
    "name": "ipython",
    "version": 3
   },
   "file_extension": ".py",
   "mimetype": "text/x-python",
   "name": "python",
   "nbconvert_exporter": "python",
   "pygments_lexer": "ipython3",
   "version": "3.6.2"
  }
 },
 "nbformat": 4,
 "nbformat_minor": 2
}
