{
 "cells": [
  {
   "cell_type": "markdown",
   "metadata": {},
   "source": [
    "Copyright (c) 2017-2018 [Serpent-Tools developer team](https://github.com/CORE-GATECH-GROUP/serpent-tools/graphs/contributors), GTRC\n",
    "\n",
    "THE SOFTWARE IS PROVIDED \"AS IS\", WITHOUT WARRANTY OF ANY KIND, EXPRESS OR IMPLIED, INCLUDING BUT NOT LIMITED TO THE WARRANTIES OF MERCHANTABILITY, FITNESS FOR A PARTICULAR PURPOSE AND NONINFRINGEMENT. IN NO EVENT SHALL THE AUTHORS OR COPYRIGHT HOLDERS BE LIABLE FOR ANY CLAIM, DAMAGES OR OTHER LIABILITY, WHETHER IN AN ACTION OF CONTRACT, TORT OR OTHERWISE, ARISING FROM, OUT OF OR IN CONNECTION WITH THE SOFTWARE OR THE USE OR OTHER DEALINGS IN THE SOFTWARE."
   ]
  },
  {
   "cell_type": "markdown",
   "metadata": {},
   "source": [
    "# `DepletionReader`"
   ]
  },
  {
   "cell_type": "markdown",
   "metadata": {},
   "source": [
    "## Basic Operation"
   ]
  },
  {
   "cell_type": "markdown",
   "metadata": {},
   "source": [
    "This notebook demonstrates the capabilities of the [`serpentTools`](https://github.com/CORE-GATECH-GROUP/serpent-tools) in regards to reading depleted material files. SERPENT [1] produces a [burned material file](http://serpent.vtt.fi/mediawiki/index.php/Description_of_output_files#Burnup_calculation_output), containing the evolution of material properties through burnup for all burned materials present in the problem. \n",
    "The `DepletionReader` is capable of reading this file, and storing the data inside `DepletedMaterial` objects.\n",
    "Each such object has methods and attributes that should ease analysis."
   ]
  },
  {
   "cell_type": "code",
   "execution_count": 1,
   "metadata": {},
   "outputs": [],
   "source": [
    "%matplotlib inline\n",
    "import six\n",
    "import serpentTools\n",
    "from serpentTools.settings import rc"
   ]
  },
  {
   "cell_type": "code",
   "execution_count": 2,
   "metadata": {},
   "outputs": [],
   "source": [
    "depFile = 'demo_dep.m'\n",
    "dep = serpentTools.read(depFile)"
   ]
  },
  {
   "cell_type": "markdown",
   "metadata": {},
   "source": [
    "The materials read in from the file are stored in the `materials` dictionary, where the keys represent the name of specific materials, and the corresponding values are the depleted material."
   ]
  },
  {
   "cell_type": "code",
   "execution_count": 3,
   "metadata": {},
   "outputs": [
    {
     "data": {
      "text/plain": [
       "{'fuel0': <serpentTools.objects.materials.DepletedMaterial at 0x7f8f8dccde80>,\n",
       " 'bglass0': <serpentTools.objects.materials.DepletedMaterial at 0x7f8f8f42f518>,\n",
       " 'total': <serpentTools.objects.materials.DepletedMaterial at 0x7f8f8dce7940>}"
      ]
     },
     "execution_count": 3,
     "metadata": {},
     "output_type": "execute_result"
    }
   ],
   "source": [
    "dep.materials"
   ]
  },
  {
   "cell_type": "markdown",
   "metadata": {},
   "source": [
    "Metadata, such as the isotopic vector and depletion schedule are also present inside the reader"
   ]
  },
  {
   "cell_type": "code",
   "execution_count": 4,
   "metadata": {},
   "outputs": [
    {
     "data": {
      "text/plain": [
       "dict_keys(['zai', 'names', 'burnup', 'days'])"
      ]
     },
     "execution_count": 4,
     "metadata": {},
     "output_type": "execute_result"
    }
   ],
   "source": [
    "dep.metadata.keys()"
   ]
  },
  {
   "cell_type": "code",
   "execution_count": 5,
   "metadata": {},
   "outputs": [
    {
     "data": {
      "text/plain": [
       "array([0.  , 0.02, 0.04, 0.06, 0.08, 0.1 , 0.12, 0.14, 0.16, 0.18, 0.2 ,\n",
       "       0.22, 0.24, 0.26, 0.28, 0.3 , 0.32, 0.34, 0.36, 0.38, 0.4 , 0.42,\n",
       "       0.44, 0.46, 0.48, 0.5 , 0.52, 0.54, 0.56, 0.58, 0.6 , 0.62, 0.64,\n",
       "       0.66, 0.68, 0.7 , 0.72, 0.74, 0.76, 0.78, 0.8 , 0.82, 0.84, 0.86,\n",
       "       0.88, 0.9 , 0.92, 0.94, 0.96, 0.98, 1.  , 1.02, 1.04, 1.06, 1.08,\n",
       "       1.1 , 1.12, 1.14, 1.16, 1.18, 1.2 , 1.22, 1.24, 1.26, 1.28, 1.3 ,\n",
       "       1.32, 1.34, 1.36, 1.38, 1.4 , 1.42])"
      ]
     },
     "execution_count": 5,
     "metadata": {},
     "output_type": "execute_result"
    }
   ],
   "source": [
    "dep.metadata['burnup']"
   ]
  },
  {
   "cell_type": "code",
   "execution_count": 6,
   "metadata": {
    "scrolled": true
   },
   "outputs": [
    {
     "data": {
      "text/plain": [
       "['Xe135',\n",
       " 'I135',\n",
       " 'U234',\n",
       " 'U235',\n",
       " 'U236',\n",
       " 'U238',\n",
       " 'Pu238',\n",
       " 'Pu239',\n",
       " 'Pu240',\n",
       " 'Pu241',\n",
       " 'Pu242',\n",
       " 'Np237',\n",
       " 'Am241',\n",
       " 'Am243',\n",
       " 'Cm243',\n",
       " 'Cm244',\n",
       " 'Cm245',\n",
       " 'Cs133',\n",
       " 'Nd143',\n",
       " 'Sm147',\n",
       " 'Sm149',\n",
       " 'Sm150',\n",
       " 'Sm151',\n",
       " 'Sm152',\n",
       " 'Eu153',\n",
       " 'Gd155',\n",
       " 'Mo95',\n",
       " 'Tc99',\n",
       " 'Ru101',\n",
       " 'Rh103',\n",
       " 'Ag109',\n",
       " 'Cd113',\n",
       " 'lost',\n",
       " 'total']"
      ]
     },
     "execution_count": 6,
     "metadata": {},
     "output_type": "execute_result"
    }
   ],
   "source": [
    "dep.metadata['names']"
   ]
  },
  {
   "cell_type": "markdown",
   "metadata": {},
   "source": [
    "## DepletedMaterial\n",
    "As mentioned before, all the material data is stored inside these `DepletedMaterial` objects. These objects share access to the metadata as well."
   ]
  },
  {
   "cell_type": "code",
   "execution_count": 7,
   "metadata": {},
   "outputs": [
    {
     "name": "stdout",
     "output_type": "stream",
     "text": [
      "[0.         0.00702676 0.0144405  0.0218803  0.0297245  0.0370823\n",
      " 0.0447201  0.0513465  0.0590267  0.0671439  0.073392   0.0802637\n",
      " 0.0887954  0.0974604  0.104807   0.111528   0.119688   0.128006\n",
      " 0.135704   0.143491   0.150545   0.157608   0.165391   0.172872\n",
      " 0.180039   0.188011   0.195215   0.202291   0.20963    0.216895\n",
      " 0.224651   0.232139   0.23904    0.246076   0.25422    0.262011\n",
      " 0.269681   0.276981   0.284588   0.291835   0.299661   0.30727\n",
      " 0.314781   0.322364   0.329404   0.336926   0.34438    0.352246\n",
      " 0.360913   0.367336   0.37415    0.381556   0.388951   0.396286\n",
      " 0.404159   0.412113   0.419194   0.426587   0.43425    0.442316\n",
      " 0.449562   0.456538   0.465128   0.472592   0.479882   0.487348\n",
      " 0.494634   0.502167   0.508326   0.515086   0.522826   0.530643  ]\n",
      "True\n"
     ]
    }
   ],
   "source": [
    "fuel = dep.materials['fuel0']\n",
    "print(fuel.burnup)\n",
    "print(fuel.days is dep.metadata['days'])"
   ]
  },
  {
   "cell_type": "markdown",
   "metadata": {},
   "source": [
    "All of the variables present in the depletion file for this material are present, stored in the `data` dictionary.\n",
    "A few properties commonly used are accessible as attributes as well."
   ]
  },
  {
   "cell_type": "code",
   "execution_count": 8,
   "metadata": {},
   "outputs": [
    {
     "data": {
      "text/plain": [
       "dict_keys(['volume', 'burnup', 'adens', 'mdens', 'a', 'h', 'sf', 'gsrc', 'ingTox', 'inhTox'])"
      ]
     },
     "execution_count": 8,
     "metadata": {},
     "output_type": "execute_result"
    }
   ],
   "source": [
    "fuel.data.keys()"
   ]
  },
  {
   "cell_type": "code",
   "execution_count": 9,
   "metadata": {},
   "outputs": [
    {
     "name": "stdout",
     "output_type": "stream",
     "text": [
      "[[0.00000e+00 2.43591e-09 4.03796e-09 ... 4.70133e-09 4.70023e-09\n",
      "  4.88855e-09]\n",
      " [0.00000e+00 6.06880e-09 8.11783e-09 ... 8.05991e-09 8.96359e-09\n",
      "  9.28554e-09]\n",
      " [4.48538e-06 4.48486e-06 4.48432e-06 ... 4.44726e-06 4.44668e-06\n",
      "  4.44611e-06]\n",
      " ...\n",
      " [0.00000e+00 3.03589e-11 7.38022e-11 ... 1.62829e-09 1.63566e-09\n",
      "  1.64477e-09]\n",
      " [0.00000e+00 1.15541e-14 2.38378e-14 ... 8.60736e-13 8.73669e-13\n",
      "  8.86782e-13]\n",
      " [6.88332e-02 6.88334e-02 6.88336e-02 ... 6.88455e-02 6.88457e-02\n",
      "  6.88459e-02]]\n",
      "True\n"
     ]
    }
   ],
   "source": [
    "print(fuel.adens)\n",
    "print(fuel.adens is fuel.data['adens'])"
   ]
  },
  {
   "cell_type": "markdown",
   "metadata": {},
   "source": [
    "Similar to the original file, the rows of the matrix correspond to positions in the isotopic vector, and the columns correspond to positions in burnup/day vectors."
   ]
  },
  {
   "cell_type": "code",
   "execution_count": 10,
   "metadata": {},
   "outputs": [
    {
     "name": "stdout",
     "output_type": "stream",
     "text": [
      "(34, 72)\n",
      "(72,)\n",
      "34\n"
     ]
    }
   ],
   "source": [
    "print(fuel.mdens.shape)  # rows, columns\n",
    "print(fuel.burnup.shape)\n",
    "print(len(fuel.names))"
   ]
  },
  {
   "cell_type": "markdown",
   "metadata": {},
   "source": [
    "## Data Retrieval\n",
    "At the heart of the `DepletedMaterial` object is the `getValues` method. This method acts as an slicing mechanism that returns data for a select number of isotopes at select points in time. `getValues` requires two arguments for the units of time requested, e.g. `days` or `burnup`, and the name of the data requested. This second value must be a key in the `data` dictionary. \n",
    "\n",
    "Specific days or values of burnup can be passed with the `timePoints` keyword. This will instruct the slicing tool to retrieve data that corresponds to values of `days` or `burnup` in the `timePoints` list. By default the method returns data for every time point on the material unless `timePoints` is given. Similarly, one can pass a string or list of strings as the `names` argument and obtain data for those specific isotopes. Data for every isotope is given if `names` is not given."
   ]
  },
  {
   "cell_type": "code",
   "execution_count": 11,
   "metadata": {},
   "outputs": [
    {
     "name": "stdout",
     "output_type": "stream",
     "text": [
      "(2, 4)\n",
      "[[0.00000e+00 3.28067e+14 3.24606e+14 3.27144e+14]\n",
      " [0.00000e+00 0.00000e+00 0.00000e+00 0.00000e+00]]\n"
     ]
    }
   ],
   "source": [
    "dayPoints = [0, 5, 10, 30]\n",
    "iso = ['Xe135', 'Sm149']\n",
    "vals = fuel.getValues('days', 'a', dayPoints, iso)\n",
    "print(vals.shape)\n",
    "print(vals)"
   ]
  },
  {
   "cell_type": "markdown",
   "metadata": {},
   "source": [
    "The `DepletedMaterial` uses this slicing for the built in `plot` routine. `plot` takes the same slicing arguments as `getValues`, and includes some optional formatting arguments.\n",
    "\n",
    "In addition, the `labelFmt` argument can be used to apply a consistent label to each unique plot. This argument supports [brace-delimited formatting](https://docs.python.org/3/library/stdtypes.html?#str.format), and will automatically replace strings like `{mat}` with the name of the material. The table below contains the special strings and their replacements\n",
    "\n",
    "|String|Replacement|\n",
    "|-|-|\n",
    "|`'mat'`|Name of the material|\n",
    "|`'iso'`|Name of the isotope, e.g. `'U235'`|\n",
    "|`'zai'`|ZZAAAI of the isotope, e.g. 922350|"
   ]
  },
  {
   "cell_type": "code",
   "execution_count": 19,
   "metadata": {},
   "outputs": [
    {
     "data": {
      "image/png": "[encoded data removed]",
      "text/plain": [
       "<Figure size 432x288 with 1 Axes>"
      ]
     },
     "metadata": {},
     "output_type": "display_data"
    }
   ],
   "source": [
    "fuel.plot('days', 'adens', dayPoints, iso, \n",
    "          ylabel='Atomic Density [#/cc]');"
   ]
  },
  {
   "cell_type": "code",
   "execution_count": 13,
   "metadata": {},
   "outputs": [
    {
     "data": {
      "image/png": "[encoded data removed]",
      "text/plain": [
       "<Figure size 432x288 with 1 Axes>"
      ]
     },
     "metadata": {},
     "output_type": "display_data"
    }
   ],
   "source": [
    "fuel.plot('burnup', 'ingTox', names='Xe135', logy=True,\n",
    "                 labelFmt=\"{iso}\");"
   ]
  },
  {
   "cell_type": "markdown",
   "metadata": {},
   "source": [
    "This type of plotting can also be applied to the `DepletedMaterial` level, with similar options for formatting and retrieving data. The materials to be plotted can be filtered using the `materials` argument."
   ]
  },
  {
   "cell_type": "code",
   "execution_count": 21,
   "metadata": {},
   "outputs": [
    {
     "data": {
      "image/png": "[encoded data removed]",
      "text/plain": [
       "<Figure size 432x288 with 1 Axes>"
      ]
     },
     "metadata": {},
     "output_type": "display_data"
    }
   ],
   "source": [
    "dep.plot('burnup', 'adens', names=iso, \n",
    "         materials=['fuel0', 'total'],\n",
    "         labelFmt=\"{mat}: {iso}\", loglog=True);"
   ]
  },
  {
   "cell_type": "markdown",
   "metadata": {},
   "source": [
    "## Limitations\n",
    "Currently, the `DepletionReader` cannot catch materials with underscore in the name, due to variables like `ING_TOX` also containing underscore. This is currently an open issue [#58](https://github.com/CORE-GATECH-GROUP/serpent-tools/issues/58)"
   ]
  },
  {
   "cell_type": "markdown",
   "metadata": {},
   "source": [
    "## Settings\n",
    "The `DepletionReader` also has a collection of settings to control what data is stored. If none of these settings are modified, the default is to store all the data from the output file."
   ]
  },
  {
   "cell_type": "markdown",
   "metadata": {},
   "source": [
    "1. [`depletion.materialVariables`](http://serpent-tools.readthedocs.io/en/latest/settingsTop.html#depletion-materialvariables) - Control what data is stored for each material\n",
    "1. [`depletion.materials`](http://serpent-tools.readthedocs.io/en/latest/settingsTop.html#depletion-materials) - Control what materials are stored\n",
    "1. [`depletion.metadataKeys`](http://serpent-tools.readthedocs.io/en/latest/settingsTop.html#depletion-metadatakeys) - Control what non-material data is stored\n",
    "1. [`depletion.processTotal`](http://serpent-tools.readthedocs.io/en/latest/settingsTop.html#depletion-processtotal) - If `True`, store the block contain data for all depleted materials"
   ]
  },
  {
   "cell_type": "markdown",
   "metadata": {},
   "source": [
    "Below is an example of configuring a `DepletionReader` that only stores the burnup days, and atomic density for all materials that begin with `bglass` followed by at least one integer.\n",
    "\n",
    "Note: Creating the ``DepletionReader`` in this manner is functionally equivalent to serpentTools.read(depFile)"
   ]
  },
  {
   "cell_type": "code",
   "execution_count": 16,
   "metadata": {},
   "outputs": [],
   "source": [
    "rc['depletion.processTotal'] = False\n",
    "rc['depletion.metadataKeys'] = ['BU']\n",
    "rc['depletion.materialVariables'] = ['ADENS']\n",
    "rc['depletion.materials'] = [r'bglass\\d+']\n",
    "\n",
    "bgReader = serpentTools.parsers.DepletionReader(depFile)\n",
    "bgReader.read()"
   ]
  },
  {
   "cell_type": "code",
   "execution_count": 17,
   "metadata": {},
   "outputs": [
    {
     "data": {
      "text/plain": [
       "dict_keys(['bglass0'])"
      ]
     },
     "execution_count": 17,
     "metadata": {},
     "output_type": "execute_result"
    }
   ],
   "source": [
    "bgReader.materials.keys()"
   ]
  },
  {
   "cell_type": "code",
   "execution_count": 18,
   "metadata": {},
   "outputs": [
    {
     "data": {
      "text/plain": [
       "dict_keys(['adens'])"
      ]
     },
     "execution_count": 18,
     "metadata": {},
     "output_type": "execute_result"
    }
   ],
   "source": [
    "bglass = bgReader.materials['bglass0']\n",
    "bglass.data.keys()"
   ]
  },
  {
   "cell_type": "markdown",
   "metadata": {},
   "source": [
    "## Conclusion\n",
    "The `DepletionReader` is capable of reading and storing all the data from the SERPENT burned materials file. Upon reading, the reader creates custom `DepletedMaterial` objects that are responsible for storing and retrieving the data. These objects also have a handy `plot` method for quick analysis. Use of the `rc` settings control object allows increased control over the data selected from the output file."
   ]
  },
  {
   "cell_type": "markdown",
   "metadata": {},
   "source": [
    "## References\n",
    "1. J. Leppänen, M. Pusa, T. Viitanen, V. Valtavirta, and T. Kaltiaisenaho. \"The Serpent Monte Carlo code: Status, development and applications in 2013.\" Ann. Nucl. Energy, [82 (2015) 142-150](https://www.sciencedirect.com/science/article/pii/S0306454914004095)"
   ]
  }
 ],
 "metadata": {
  "kernelspec": {
   "display_name": "Python 3",
   "language": "python",
   "name": "python3"
  },
  "language_info": {
   "codemirror_mode": {
    "name": "ipython",
    "version": 3
   },
   "file_extension": ".py",
   "mimetype": "text/x-python",
   "name": "python",
   "nbconvert_exporter": "python",
   "pygments_lexer": "ipython3",
   "version": "3.6.5"
  }
 },
 "nbformat": 4,
 "nbformat_minor": 2
}
