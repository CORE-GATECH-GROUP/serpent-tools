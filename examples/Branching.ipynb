{
 "cells": [
  {
   "cell_type": "markdown",
   "metadata": {},
   "source": [
    "Copyright (c) 2017 Andrew Johnson, Dan Kotlyar, GTRC\n",
    "\n",
    "THE SOFTWARE IS PROVIDED \"AS IS\", WITHOUT WARRANTY OF ANY KIND, EXPRESS OR IMPLIED, INCLUDING BUT NOT LIMITED TO THE WARRANTIES OF MERCHANTABILITY, FITNESS FOR A PARTICULAR PURPOSE AND NONINFRINGEMENT. IN NO EVENT SHALL THE AUTHORS OR COPYRIGHT HOLDERS BE LIABLE FOR ANY CLAIM, DAMAGES OR OTHER LIABILITY, WHETHER IN AN ACTION OF CONTRACT, TORT OR OTHERWISE, ARISING FROM, OUT OF OR IN CONNECTION WITH THE SOFTWARE OR THE USE OR OTHER DEALINGS IN THE SOFTWARE."
   ]
  },
  {
   "cell_type": "markdown",
   "metadata": {},
   "source": [
    "# `Branching Reader`\n",
    "## Basic Operation"
   ]
  },
  {
   "cell_type": "markdown",
   "metadata": {},
   "source": [
    "This notebook demonstrates the capability of the [`serpentTools`](https://github.com/CORE-GATECH-GROUP/serpent-tools) package to read branching coefficient files. The format of these files is structured to iterate over:\n",
    "\n",
    "1. Branch states, e.g. burnup, material properties\n",
    "1. Homogenized universes\n",
    "1. Group constant data\n",
    "\n",
    "The output files are described in more detail on the [SERPENT Wiki](http://serpent.vtt.fi/mediawiki/index.php/Automated_burnup_sequence#Output_format)"
   ]
  },
  {
   "cell_type": "markdown",
   "metadata": {},
   "source": [
    "The simplest way to read these files is using the `serpentTools.read` method"
   ]
  },
  {
   "cell_type": "code",
   "execution_count": 1,
   "metadata": {},
   "outputs": [
    {
     "name": "stdout",
     "output_type": "stream",
     "text": [
      "INFO    : serpentTools: Using version 1.0b0+58.g91e7aac.dirty\n"
     ]
    }
   ],
   "source": [
    "import serpentTools\n",
    "branchFile = 'demo.coe'"
   ]
  },
  {
   "cell_type": "markdown",
   "metadata": {},
   "source": [
    "**Note**\n",
    "\n",
    "Without modifying the settings, the `BranchingReader` assumes that all group constant data is presented without the associated uncertainties. See below for examples on the various ways to adjust the UserSettings"
   ]
  },
  {
   "cell_type": "code",
   "execution_count": 7,
   "metadata": {},
   "outputs": [
    {
     "name": "stdout",
     "output_type": "stream",
     "text": [
      "INFO    : serpentTools: Inferred reader for demo.coe: BranchingReader\n",
      "INFO    : serpentTools: Preparing to read demo.coe\n",
      "INFO    : serpentTools: Done reading branching file\n"
     ]
    }
   ],
   "source": [
    "r0 = serpentTools.read(branchFile)"
   ]
  },
  {
   "cell_type": "markdown",
   "metadata": {},
   "source": [
    "The branches are stored in custom `BranchContainer` objects in the `branches` dictionary"
   ]
  },
  {
   "cell_type": "code",
   "execution_count": 8,
   "metadata": {},
   "outputs": [
    {
     "data": {
      "text/plain": [
       "{('Fhi',\n",
       "  'Bhi',\n",
       "  'His'): <serpentTools.objects.containers.BranchContainer at 0x14d0106c0f0>,\n",
       " ('Fhi',\n",
       "  'Blo',\n",
       "  'His'): <serpentTools.objects.containers.BranchContainer at 0x14d01063d30>,\n",
       " ('Fhi',\n",
       "  'nom',\n",
       "  'His'): <serpentTools.objects.containers.BranchContainer at 0x14d0105e908>,\n",
       " ('nom',\n",
       "  'Bhi',\n",
       "  'His'): <serpentTools.objects.containers.BranchContainer at 0x14d01068748>,\n",
       " ('nom',\n",
       "  'Blo',\n",
       "  'His'): <serpentTools.objects.containers.BranchContainer at 0x14d01063320>,\n",
       " ('nom',\n",
       "  'nom',\n",
       "  'His'): <serpentTools.objects.containers.BranchContainer at 0x14d01053ef0>}"
      ]
     },
     "execution_count": 8,
     "metadata": {},
     "output_type": "execute_result"
    }
   ],
   "source": [
    "r0.branches"
   ]
  },
  {
   "cell_type": "markdown",
   "metadata": {},
   "source": [
    "Here, the keys are tuples of strings indicating what perturbations/branch states were applied for each `SERPENT` solution. Examining a particular case"
   ]
  },
  {
   "cell_type": "code",
   "execution_count": 9,
   "metadata": {},
   "outputs": [
    {
     "name": "stdout",
     "output_type": "stream",
     "text": [
      "<BranchContainer for Fhi, Bhi, His from demo.coe>\n"
     ]
    }
   ],
   "source": [
    "b0 = r0.branches['Fhi', 'Bhi', 'His']\n",
    "print(b0)"
   ]
  },
  {
   "cell_type": "markdown",
   "metadata": {},
   "source": [
    "`SERPENT` allows the user to define variables for each branch through:\n",
    "```\n",
    "var V1_name V1_value\n",
    "```\n",
    "cards. These are stored in the `stateData` attribute"
   ]
  },
  {
   "cell_type": "code",
   "execution_count": 10,
   "metadata": {},
   "outputs": [
    {
     "data": {
      "text/plain": [
       "{'BOR': '1000',\n",
       " 'DATE': '17/10/18',\n",
       " 'TFU': '1200',\n",
       " 'TIME': '10:26:48',\n",
       " 'VERSION': '2.1.29'}"
      ]
     },
     "execution_count": 10,
     "metadata": {},
     "output_type": "execute_result"
    }
   ],
   "source": [
    "b0.stateData"
   ]
  },
  {
   "cell_type": "markdown",
   "metadata": {},
   "source": [
    "The keys `'DATE'`, `'TIME'`, and `'VERSION'` are included by default in the output, while the `'BOR'` and `'TFU'` have been defined for this branch. Branch name `'Fhi'` $\\rightarrow$ higher fuel temperature $\\rightarrow$ `'TFU'` = 1200 K"
   ]
  },
  {
   "cell_type": "markdown",
   "metadata": {},
   "source": [
    "### Group Constant Data\n",
    "**Note**: Group constants are converted from `SERPENT_STYLE` to `mixedCase` to fit the overall style of the project."
   ]
  },
  {
   "cell_type": "markdown",
   "metadata": {},
   "source": [
    "The `BranchContainer` stores group constant data in `HomogUniv` objects in the `universes` dictionary"
   ]
  },
  {
   "cell_type": "code",
   "execution_count": 11,
   "metadata": {},
   "outputs": [
    {
     "data": {
      "text/plain": [
       "{(0, 0.0, 1): <serpentTools.objects.containers.HomogUniv at 0x14d010689e8>,\n",
       " (0, 1.0, 2): <serpentTools.objects.containers.HomogUniv at 0x14d0106c320>,\n",
       " (0, 5.0, 3): <serpentTools.objects.containers.HomogUniv at 0x14d0106c4a8>,\n",
       " (0, 10.0, 4): <serpentTools.objects.containers.HomogUniv at 0x14d0106c630>,\n",
       " (0, 50.0, 5): <serpentTools.objects.containers.HomogUniv at 0x14d0106c668>}"
      ]
     },
     "execution_count": 11,
     "metadata": {},
     "output_type": "execute_result"
    }
   ],
   "source": [
    "b0.universes"
   ]
  },
  {
   "cell_type": "markdown",
   "metadata": {},
   "source": [
    "The keys here are vectors indicating the universe ID, burnup [MWd/kgU], and burnup index corresponding to the point in the burnup schedule. These universes can be obtained by indexing this dictionary, or by using the `getUniv` method"
   ]
  },
  {
   "cell_type": "code",
   "execution_count": 12,
   "metadata": {},
   "outputs": [
    {
     "name": "stdout",
     "output_type": "stream",
     "text": [
      "<HomogUniv from demo.coe>\n",
      "0\n",
      "1.0\n",
      "2\n",
      "0\n"
     ]
    }
   ],
   "source": [
    "univ0 = b0.universes[0, 1, 2]\n",
    "print(univ0)\n",
    "print(univ0.name)\n",
    "print(univ0.bu)\n",
    "print(univ0.step)\n",
    "print(univ0.day)"
   ]
  },
  {
   "cell_type": "markdown",
   "metadata": {},
   "source": [
    "Since the coefficient files do not store the day value of burnup, all `HomogUniv` objects created by the `BranchContainers` default to day zero."
   ]
  },
  {
   "cell_type": "code",
   "execution_count": 13,
   "metadata": {
    "collapsed": true
   },
   "outputs": [],
   "source": [
    "univ1 = b0.getUniv(0, burnup=1)"
   ]
  },
  {
   "cell_type": "code",
   "execution_count": 14,
   "metadata": {
    "collapsed": true
   },
   "outputs": [],
   "source": [
    "univ2 = b0.getUniv(0, index=2)"
   ]
  },
  {
   "cell_type": "code",
   "execution_count": 15,
   "metadata": {
    "collapsed": true
   },
   "outputs": [],
   "source": [
    "assert univ0 is univ1 is univ2"
   ]
  },
  {
   "cell_type": "markdown",
   "metadata": {},
   "source": [
    "Group constant data is stored in five dictionaries:\n",
    "\n",
    "1. `infExp`: Expected values for infinite medium group constants\n",
    "1. `infUnc`: Relative uncertainties for infinite medium group constants\n",
    "1. `b1Exp`: Expected values for leakge-corrected group constants\n",
    "1. `b1Unc`: Relative uncertainties for leakge-corrected group constants\n",
    "1. `metaData`: items that do not fit the in the above categories"
   ]
  },
  {
   "cell_type": "code",
   "execution_count": 16,
   "metadata": {},
   "outputs": [
    {
     "data": {
      "text/plain": [
       "{'infFiss': array([ 0.00286484,  0.0577559 ]),\n",
       " 'infS0': array([ 0.501168  ,  0.0180394 ,  0.00155388,  1.2875    ]),\n",
       " 'infS1': array([ 0.247105  ,  0.00535317,  0.00073696,  0.352806  ]),\n",
       " 'infScatt0': array([ 0.519208,  1.28905 ]),\n",
       " 'infScatt1': array([ 0.252459,  0.353543]),\n",
       " 'infTot': array([ 0.529552,  1.38805 ])}"
      ]
     },
     "execution_count": 16,
     "metadata": {},
     "output_type": "execute_result"
    }
   ],
   "source": [
    "univ0.infExp"
   ]
  },
  {
   "cell_type": "code",
   "execution_count": 17,
   "metadata": {},
   "outputs": [
    {
     "data": {
      "text/plain": [
       "{}"
      ]
     },
     "execution_count": 17,
     "metadata": {},
     "output_type": "execute_result"
    }
   ],
   "source": [
    "univ0.infUnc"
   ]
  },
  {
   "cell_type": "code",
   "execution_count": 18,
   "metadata": {},
   "outputs": [
    {
     "data": {
      "text/plain": [
       "{}"
      ]
     },
     "execution_count": 18,
     "metadata": {},
     "output_type": "execute_result"
    }
   ],
   "source": [
    "univ0.b1Exp"
   ]
  },
  {
   "cell_type": "code",
   "execution_count": 19,
   "metadata": {},
   "outputs": [
    {
     "data": {
      "text/plain": [
       "{'macroE': array([], dtype=float64), 'macroNg': array([], dtype=float64)}"
      ]
     },
     "execution_count": 19,
     "metadata": {},
     "output_type": "execute_result"
    }
   ],
   "source": [
    "univ0.metaData"
   ]
  },
  {
   "cell_type": "markdown",
   "metadata": {},
   "source": [
    "Group constants and their associated uncertainties can be obtained using the `HomogUniv.get` method."
   ]
  },
  {
   "cell_type": "code",
   "execution_count": 20,
   "metadata": {},
   "outputs": [
    {
     "data": {
      "text/plain": [
       "array([ 0.00286484,  0.0577559 ])"
      ]
     },
     "execution_count": 20,
     "metadata": {},
     "output_type": "execute_result"
    }
   ],
   "source": [
    "univ0.get('infFiss')"
   ]
  },
  {
   "cell_type": "code",
   "execution_count": 21,
   "metadata": {},
   "outputs": [
    {
     "name": "stdout",
     "output_type": "stream",
     "text": [
      "'Variable infS0 absent from uncertainty dictionary'\n"
     ]
    }
   ],
   "source": [
    "try:\n",
    "    univ0.get('infS0', uncertainty=True)\n",
    "except KeyError as ke:  # no uncertainties here\n",
    "    print(str(ke))"
   ]
  },
  {
   "cell_type": "code",
   "execution_count": 22,
   "metadata": {},
   "outputs": [
    {
     "data": {
      "text/plain": [
       "array([], dtype=float64)"
      ]
     },
     "execution_count": 22,
     "metadata": {},
     "output_type": "execute_result"
    }
   ],
   "source": [
    "univ0.get('macroE')"
   ]
  },
  {
   "cell_type": "markdown",
   "metadata": {},
   "source": [
    "## Iteration\n",
    "The branching reader has a `iterBranches` method that works to yield branch names and their associated `BranchContainer` objects. This can be used to efficiently iterate over all the branches presented in the file."
   ]
  },
  {
   "cell_type": "code",
   "execution_count": 23,
   "metadata": {},
   "outputs": [
    {
     "name": "stdout",
     "output_type": "stream",
     "text": [
      "('nom', 'nom', 'His') <BranchContainer for nom, nom, His from demo.coe>\n",
      "('Fhi', 'nom', 'His') <BranchContainer for Fhi, nom, His from demo.coe>\n",
      "('nom', 'Blo', 'His') <BranchContainer for nom, Blo, His from demo.coe>\n",
      "('Fhi', 'Blo', 'His') <BranchContainer for Fhi, Blo, His from demo.coe>\n",
      "('nom', 'Bhi', 'His') <BranchContainer for nom, Bhi, His from demo.coe>\n",
      "('Fhi', 'Bhi', 'His') <BranchContainer for Fhi, Bhi, His from demo.coe>\n"
     ]
    }
   ],
   "source": [
    "for names, branch in r0.iterBranches():\n",
    "    print(names, branch)"
   ]
  },
  {
   "cell_type": "markdown",
   "metadata": {},
   "source": [
    "## User Control\n",
    "The `SERPENT` [`set coefpara`](http://serpent.vtt.fi/mediawiki/index.php/Input_syntax_manual#set_coefpara) card already restricts the data present in the coeffient file to user control, and the `BranchingReader` includes similar control.\n",
    "Below are the various settings that the `BranchingReader` uses to read and process coefficient files."
   ]
  },
  {
   "cell_type": "code",
   "execution_count": 30,
   "metadata": {
    "collapsed": true
   },
   "outputs": [],
   "source": [
    "import six\n",
    "from serpentTools.settings import rc"
   ]
  },
  {
   "cell_type": "code",
   "execution_count": 25,
   "metadata": {},
   "outputs": [
    {
     "name": "stdout",
     "output_type": "stream",
     "text": [
      "branching.areUncsPresent\n",
      "\t default: False\n",
      "\t type: <class 'bool'>\n",
      "\t description: True if the values in the .coe file contain uncertainties\n",
      "branching.intVariables\n",
      "\t default: []\n",
      "\t description: Name of state data variables to convert to integers for each branch\n",
      "\t type: <class 'list'>\n",
      "branching.floatVariables\n",
      "\t default: []\n",
      "\t description: Names of state data variables to convert to floats for each branch\n",
      "\t type: <class 'list'>\n",
      "xs.getInfXS\n",
      "\t default: True\n",
      "\t description: If true, store the infinite medium cross sections.\n",
      "\t type: <class 'bool'>\n",
      "xs.getB1XS\n",
      "\t default: True\n",
      "\t description: If true, store the critical leakage cross sections.\n",
      "\t type: <class 'bool'>\n",
      "xs.variableGroups\n",
      "\t default: []\n",
      "\t description: Name of variable groups from variables.yaml to be expanded into SERPENT variable to be stored\n",
      "\t type: <class 'list'>\n",
      "xs.variableExtras\n",
      "\t default: []\n",
      "\t description: Full SERPENT name of variables to be read\n",
      "\t type: <class 'list'>\n"
     ]
    }
   ],
   "source": [
    "from serpentTools.settings import rc, defaultSettings\n",
    "for setting in defaultSettings:\n",
    "    if 'xs' in setting or 'branching' in setting:\n",
    "        print(setting)\n",
    "        for k, v in six.iteritems(defaultSettings[setting]):\n",
    "            print('\\t', k+':', v)"
   ]
  },
  {
   "cell_type": "markdown",
   "metadata": {},
   "source": [
    "In our example above, the `BOR` and `TFU` variables represented boron concentration and fuel temperature, and can easily be cast into numeric values using the `branching.intVariables` and `brancing.floatVariables` settings. From the previous example, we see that the default action is to store all state data variables as strings."
   ]
  },
  {
   "cell_type": "code",
   "execution_count": 27,
   "metadata": {
    "collapsed": true
   },
   "outputs": [],
   "source": [
    "assert isinstance(b0.stateData['BOR'], str)"
   ]
  },
  {
   "cell_type": "markdown",
   "metadata": {},
   "source": [
    "As demonstrated in the `Settings` example, use of `xs.variableGroups` and `xs.variableExtras` controls what data is stored on the `HomogUniv` objects. By default, all variables present in the coefficient file are stored."
   ]
  },
  {
   "cell_type": "code",
   "execution_count": 33,
   "metadata": {
    "collapsed": true
   },
   "outputs": [],
   "source": [
    "rc['branching.floatVariables'] = ['BOR']\n",
    "rc['branching.intVariables'] = ['TFU']"
   ]
  },
  {
   "cell_type": "code",
   "execution_count": 34,
   "metadata": {},
   "outputs": [
    {
     "name": "stdout",
     "output_type": "stream",
     "text": [
      "INFO    : serpentTools: Inferred reader for demo.coe: BranchingReader\n",
      "INFO    : serpentTools: Preparing to read demo.coe\n",
      "INFO    : serpentTools: Done reading branching file\n"
     ]
    }
   ],
   "source": [
    "with rc:\n",
    "    rc['xs.variableExtras'] = ['INF_TOT', 'INF_SCATT0']\n",
    "    r1 = serpentTools.read(branchFile)"
   ]
  },
  {
   "cell_type": "code",
   "execution_count": 35,
   "metadata": {
    "collapsed": true
   },
   "outputs": [],
   "source": [
    "b1 = r1.branches['Fhi', 'Bhi', 'His']"
   ]
  },
  {
   "cell_type": "code",
   "execution_count": 36,
   "metadata": {},
   "outputs": [
    {
     "data": {
      "text/plain": [
       "{'BOR': 1000.0,\n",
       " 'DATE': '17/10/18',\n",
       " 'TFU': 1200,\n",
       " 'TIME': '10:26:48',\n",
       " 'VERSION': '2.1.29'}"
      ]
     },
     "execution_count": 36,
     "metadata": {},
     "output_type": "execute_result"
    }
   ],
   "source": [
    "b1.stateData"
   ]
  },
  {
   "cell_type": "code",
   "execution_count": 37,
   "metadata": {
    "collapsed": true
   },
   "outputs": [],
   "source": [
    "assert isinstance(b1.stateData['BOR'], float)\n",
    "assert isinstance(b1.stateData['TFU'], int)"
   ]
  },
  {
   "cell_type": "markdown",
   "metadata": {},
   "source": [
    "Inspecting the data stored on the homogenized universes reveals only the variables explicitly requested are present "
   ]
  },
  {
   "cell_type": "code",
   "execution_count": 40,
   "metadata": {},
   "outputs": [
    {
     "data": {
      "text/plain": [
       "{'infScatt0': array([ 0.519337,  1.28894 ]),\n",
       " 'infTot': array([ 0.529682,  1.38649 ])}"
      ]
     },
     "execution_count": 40,
     "metadata": {},
     "output_type": "execute_result"
    }
   ],
   "source": [
    "univ4 = b1.getUniv(0, 0)\n",
    "univ4.infExp"
   ]
  },
  {
   "cell_type": "markdown",
   "metadata": {},
   "source": [
    "## Conclusion\n",
    "The `BranchingReader` is capable of reading coefficient files created by the `SERPENT` automated branching process. The data is stored according to the branch parameters, universe information, and burnup. This reader also supports user control of the processing by selecting what state parameters should be converted from strings to numeric types, and further down-selection of data.\n",
    "\n",
    "A more complicated coefficient file, with multiple universes and more varied coefficients, will be coming shortly - Issue [#64](https://github.com/CORE-GATECH-GROUP/serpent-tools/issues/64)"
   ]
  },
  {
   "cell_type": "code",
   "execution_count": null,
   "metadata": {
    "collapsed": true
   },
   "outputs": [],
   "source": []
  }
 ],
 "metadata": {
  "kernelspec": {
   "display_name": "Python 3",
   "language": "python",
   "name": "python3"
  },
  "language_info": {
   "codemirror_mode": {
    "name": "ipython",
    "version": 3
   },
   "file_extension": ".py",
   "mimetype": "text/x-python",
   "name": "python",
   "nbconvert_exporter": "python",
   "pygments_lexer": "ipython3",
   "version": "3.6.1"
  }
 },
 "nbformat": 4,
 "nbformat_minor": 2
}
