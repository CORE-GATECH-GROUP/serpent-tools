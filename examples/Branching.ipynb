{
 "cells": [
  {
   "cell_type": "markdown",
   "metadata": {},
   "source": [
    "Copyright (c) 2017-2018 Andrew Johnson, Dan Kotlyar, Stefano Terlizzi, Gavin Ridley, GTRC\n",
    "\n",
    "THE SOFTWARE IS PROVIDED \"AS IS\", WITHOUT WARRANTY OF ANY KIND, EXPRESS OR IMPLIED, INCLUDING BUT NOT LIMITED TO THE WARRANTIES OF MERCHANTABILITY, FITNESS FOR A PARTICULAR PURPOSE AND NONINFRINGEMENT. IN NO EVENT SHALL THE AUTHORS OR COPYRIGHT HOLDERS BE LIABLE FOR ANY CLAIM, DAMAGES OR OTHER LIABILITY, WHETHER IN AN ACTION OF CONTRACT, TORT OR OTHERWISE, ARISING FROM, OUT OF OR IN CONNECTION WITH THE SOFTWARE OR THE USE OR OTHER DEALINGS IN THE SOFTWARE."
   ]
  },
  {
   "cell_type": "markdown",
   "metadata": {},
   "source": [
    "# `Branching Reader`\n",
    "## Basic Operation"
   ]
  },
  {
   "cell_type": "markdown",
   "metadata": {},
   "source": [
    "This notebook demonstrates the capability of the [`serpentTools`](https://github.com/CORE-GATECH-GROUP/serpent-tools) package to read branching coefficient files. The format of these files is structured to iterate over:\n",
    "\n",
    "1. Branch states, e.g. burnup, material properties\n",
    "1. Homogenized universes\n",
    "1. Group constant data\n",
    "\n",
    "The output files are described in more detail on the [SERPENT Wiki](http://serpent.vtt.fi/mediawiki/index.php/Automated_burnup_sequence#Output_format)"
   ]
  },
  {
   "cell_type": "markdown",
   "metadata": {},
   "source": [
    "The simplest way to read these files is using the `serpentTools.read` method"
   ]
  },
  {
   "cell_type": "code",
   "execution_count": 1,
   "metadata": {},
   "outputs": [],
   "source": [
    "import serpentTools\n",
    "branchFile = 'demo.coe'"
   ]
  },
  {
   "cell_type": "markdown",
   "metadata": {},
   "source": [
    "**Note**\n",
    "\n",
    "Without modifying the settings, the `BranchingReader` assumes that all group constant data is presented without the associated uncertainties. See below for examples on the various ways to adjust the UserSettings"
   ]
  },
  {
   "cell_type": "code",
   "execution_count": 2,
   "metadata": {},
   "outputs": [
    {
     "name": "stdout",
     "output_type": "stream",
     "text": [
      "INFO    : serpentTools: Inferred reader for demo.coe: BranchingReader\n",
      "INFO    : serpentTools: Preparing to read demo.coe\n",
      "INFO    : serpentTools: Done reading branching file\n"
     ]
    }
   ],
   "source": [
    "r0 = serpentTools.read(branchFile)"
   ]
  },
  {
   "cell_type": "markdown",
   "metadata": {},
   "source": [
    "The branches are stored in custom `BranchContainer` objects in the `branches` dictionary"
   ]
  },
  {
   "cell_type": "code",
   "execution_count": 3,
   "metadata": {},
   "outputs": [
    {
     "data": {
      "text/plain": [
       "{('B1000',\n",
       "  'FT1200'): <serpentTools.objects.containers.BranchContainer at 0x7f17971f6ef0>,\n",
       " ('B1000',\n",
       "  'FT600'): <serpentTools.objects.containers.BranchContainer at 0x7f1796951400>,\n",
       " ('B1000',\n",
       "  'nom'): <serpentTools.objects.containers.BranchContainer at 0x7f17971de9e8>,\n",
       " ('B750',\n",
       "  'FT1200'): <serpentTools.objects.containers.BranchContainer at 0x7f17971ee7f0>,\n",
       " ('B750',\n",
       "  'FT600'): <serpentTools.objects.containers.BranchContainer at 0x7f1796947cc0>,\n",
       " ('B750',\n",
       "  'nom'): <serpentTools.objects.containers.BranchContainer at 0x7f17971d7358>,\n",
       " ('nom',\n",
       "  'FT1200'): <serpentTools.objects.containers.BranchContainer at 0x7f17971e80f0>,\n",
       " ('nom',\n",
       "  'FT600'): <serpentTools.objects.containers.BranchContainer at 0x7f17969405c0>,\n",
       " ('nom',\n",
       "  'nom'): <serpentTools.objects.containers.BranchContainer at 0x7f17971bfcc0>}"
      ]
     },
     "execution_count": 3,
     "metadata": {},
     "output_type": "execute_result"
    }
   ],
   "source": [
    "r0.branches"
   ]
  },
  {
   "cell_type": "markdown",
   "metadata": {},
   "source": [
    "Here, the keys are tuples of strings indicating what perturbations/branch states were applied for each `SERPENT` solution. Examining a particular case"
   ]
  },
  {
   "cell_type": "code",
   "execution_count": 4,
   "metadata": {},
   "outputs": [
    {
     "name": "stdout",
     "output_type": "stream",
     "text": [
      "<BranchContainer for B1000, FT600 from demo.coe>\n"
     ]
    }
   ],
   "source": [
    "b0 = r0.branches['B1000', 'FT600']\n",
    "print(b0)"
   ]
  },
  {
   "cell_type": "markdown",
   "metadata": {},
   "source": [
    "`SERPENT` allows the user to define variables for each branch through:\n",
    "\n",
    "`\n",
    "var V1_name V1_value\n",
    "`\n",
    "\n",
    "cards. These are stored in the `stateData` attribute"
   ]
  },
  {
   "cell_type": "code",
   "execution_count": 5,
   "metadata": {},
   "outputs": [
    {
     "data": {
      "text/plain": [
       "{'BOR': '1000',\n",
       " 'DATE': '17/12/19',\n",
       " 'TFU': '600',\n",
       " 'TIME': '09:48:54',\n",
       " 'VERSION': '2.1.29'}"
      ]
     },
     "execution_count": 5,
     "metadata": {},
     "output_type": "execute_result"
    }
   ],
   "source": [
    "b0.stateData"
   ]
  },
  {
   "cell_type": "markdown",
   "metadata": {},
   "source": [
    "The keys `'DATE'`, `'TIME'`, and `'VERSION'` are included by default in the output, while the `'BOR'` and `'TFU'` have been defined for this branch."
   ]
  },
  {
   "cell_type": "markdown",
   "metadata": {},
   "source": [
    "### Group Constant Data\n",
    "**Note**: Group constants are converted from `SERPENT_STYLE` to `mixedCase` to fit the overall style of the project."
   ]
  },
  {
   "cell_type": "markdown",
   "metadata": {},
   "source": [
    "The `BranchContainer` stores group constant data in `HomogUniv` objects in the `universes` dictionary. "
   ]
  },
  {
   "cell_type": "code",
   "execution_count": 6,
   "metadata": {},
   "outputs": [
    {
     "name": "stdout",
     "output_type": "stream",
     "text": [
      "(40, 1.0, 2)\n",
      "(0, 10.0, 3)\n",
      "(40, 0.0, 1)\n",
      "(0, 1.0, 2)\n",
      "(0, 0.0, 1)\n",
      "(10, 10.0, 3)\n",
      "(20, 1.0, 2)\n",
      "(30, 1.0, 2)\n",
      "(10, 1.0, 2)\n",
      "(20, 0.0, 1)\n",
      "(30, 0.0, 1)\n",
      "(10, 0.0, 1)\n",
      "(30, 10.0, 3)\n",
      "(40, 10.0, 3)\n",
      "(20, 10.0, 3)\n"
     ]
    }
   ],
   "source": [
    "for key in b0.universes:\n",
    "    print(key)"
   ]
  },
  {
   "cell_type": "markdown",
   "metadata": {},
   "source": [
    "The keys here are vectors indicating the universe ID, burnup, and burnup index corresponding to the point in the burnup schedule. `SERPENT` prints negative values of burnup to indicate units of days, which is reflected in the `hasDays` attribute. `hasDays-> True` indicates that the values of burnup, second item in the above tuple, are in terms of days, not MWd/kgU.\n",
    "\n",
    "These universes can be obtained by indexing this dictionary, or by using the `getUniv` method."
   ]
  },
  {
   "cell_type": "code",
   "execution_count": 7,
   "metadata": {},
   "outputs": [
    {
     "name": "stdout",
     "output_type": "stream",
     "text": [
      "<HomogUniv 0>\n",
      "0\n",
      "1.0\n",
      "2\n",
      "None\n",
      "False\n"
     ]
    }
   ],
   "source": [
    "univ0 = b0.universes[0, 1, 2]\n",
    "print(univ0)\n",
    "print(univ0.name)\n",
    "print(univ0.bu)\n",
    "print(univ0.step)\n",
    "print(univ0.day)\n",
    "print(b0.hasDays)"
   ]
  },
  {
   "cell_type": "markdown",
   "metadata": {},
   "source": [
    "Since the coefficient files do not store the day value of burnup, all `HomogUniv` objects created by the `BranchContainers` default to day zero."
   ]
  },
  {
   "cell_type": "code",
   "execution_count": 8,
   "metadata": {},
   "outputs": [],
   "source": [
    "univ1 = b0.getUniv(0, burnup=1)\n",
    "univ2 = b0.getUniv(0, index=2)\n",
    "assert univ0 is univ1 is univ2"
   ]
  },
  {
   "cell_type": "markdown",
   "metadata": {},
   "source": [
    "Group constant data is stored in five dictionaries:\n",
    "\n",
    "1. `infExp`: Expected values for infinite medium group constants\n",
    "1. `infUnc`: Relative uncertainties for infinite medium group constants\n",
    "1. `b1Exp`: Expected values for leakge-corrected group constants\n",
    "1. `b1Unc`: Relative uncertainties for leakge-corrected group constants\n",
    "1. `metaData`: items that do not fit the in the above categories, such as energy group structure, k-infinity, etc.\n",
    "\n",
    "For this problem, the coefficient file does not have uncertainties, nor these metadata arguments. For this reason, the `infUnc`, `b1Unc`, and `metaData` dictionaries are emtpy."
   ]
  },
  {
   "cell_type": "code",
   "execution_count": 9,
   "metadata": {},
   "outputs": [
    {
     "data": {
      "text/plain": [
       "{'infDiffcoef': array([ 1.83961 ,  0.682022]),\n",
       " 'infFiss': array([ 0.00271604,  0.059773  ]),\n",
       " 'infRem': array([], dtype=float64),\n",
       " 'infS0': array([ 0.298689  ,  0.00197521,  0.00284247,  0.470054  ]),\n",
       " 'infS1': array([ 0.0847372 ,  0.00047366,  0.00062865,  0.106232  ]),\n",
       " 'infTot': array([ 0.310842,  0.618286])}"
      ]
     },
     "execution_count": 9,
     "metadata": {},
     "output_type": "execute_result"
    }
   ],
   "source": [
    "univ0.infExp"
   ]
  },
  {
   "cell_type": "code",
   "execution_count": 10,
   "metadata": {},
   "outputs": [
    {
     "data": {
      "text/plain": [
       "{}"
      ]
     },
     "execution_count": 10,
     "metadata": {},
     "output_type": "execute_result"
    }
   ],
   "source": [
    "univ0.infUnc"
   ]
  },
  {
   "cell_type": "code",
   "execution_count": 11,
   "metadata": {},
   "outputs": [
    {
     "data": {
      "text/plain": [
       "{'b1Diffcoef': array([ 1.79892 ,  0.765665]),\n",
       " 'b1Fiss': array([ 0.00278366,  0.0597712 ]),\n",
       " 'b1Rem': array([], dtype=float64),\n",
       " 'b1S0': array([ 0.301766  ,  0.0021261 ,  0.00283866,  0.470114  ]),\n",
       " 'b1S1': array([ 0.0856397 ,  0.00051071,  0.00062781,  0.106232  ]),\n",
       " 'b1Tot': array([ 0.314521,  0.618361])}"
      ]
     },
     "execution_count": 11,
     "metadata": {},
     "output_type": "execute_result"
    }
   ],
   "source": [
    "univ0.b1Exp"
   ]
  },
  {
   "cell_type": "code",
   "execution_count": 12,
   "metadata": {},
   "outputs": [
    {
     "data": {
      "text/plain": [
       "{}"
      ]
     },
     "execution_count": 12,
     "metadata": {},
     "output_type": "execute_result"
    }
   ],
   "source": [
    "univ0.metadata"
   ]
  },
  {
   "cell_type": "markdown",
   "metadata": {},
   "source": [
    "Group constants and their associated uncertainties can be obtained using the `HomogUniv.get` method."
   ]
  },
  {
   "cell_type": "code",
   "execution_count": 13,
   "metadata": {},
   "outputs": [
    {
     "data": {
      "text/plain": [
       "array([ 0.00271604,  0.059773  ])"
      ]
     },
     "execution_count": 13,
     "metadata": {},
     "output_type": "execute_result"
    }
   ],
   "source": [
    "univ0.get('infFiss')"
   ]
  },
  {
   "cell_type": "code",
   "execution_count": 14,
   "metadata": {},
   "outputs": [
    {
     "name": "stdout",
     "output_type": "stream",
     "text": [
      "'Variable infS0 absent from uncertainty dictionary'\n"
     ]
    }
   ],
   "source": [
    "try:\n",
    "    univ0.get('infS0', uncertainty=True)\n",
    "except KeyError as ke:  # no uncertainties here\n",
    "    print(str(ke))"
   ]
  },
  {
   "cell_type": "markdown",
   "metadata": {},
   "source": [
    "## Iteration\n",
    "The branching reader has a `iterBranches` method that works to yield branch names and their associated `BranchContainer` objects. This can be used to efficiently iterate over all the branches presented in the file."
   ]
  },
  {
   "cell_type": "code",
   "execution_count": 15,
   "metadata": {},
   "outputs": [
    {
     "name": "stdout",
     "output_type": "stream",
     "text": [
      "('B750', 'FT600') <BranchContainer for B750, FT600 from demo.coe>\n",
      "('B1000', 'nom') <BranchContainer for B1000, nom from demo.coe>\n",
      "('nom', 'FT600') <BranchContainer for nom, FT600 from demo.coe>\n",
      "('B1000', 'FT600') <BranchContainer for B1000, FT600 from demo.coe>\n",
      "('B1000', 'FT1200') <BranchContainer for B1000, FT1200 from demo.coe>\n",
      "('B750', 'FT1200') <BranchContainer for B750, FT1200 from demo.coe>\n",
      "('nom', 'FT1200') <BranchContainer for nom, FT1200 from demo.coe>\n",
      "('nom', 'nom') <BranchContainer for nom, nom from demo.coe>\n",
      "('B750', 'nom') <BranchContainer for B750, nom from demo.coe>\n"
     ]
    }
   ],
   "source": [
    "for names, branch in r0.iterBranches():\n",
    "    print(names, branch)"
   ]
  },
  {
   "cell_type": "markdown",
   "metadata": {},
   "source": [
    "## User Control\n",
    "The `SERPENT` [`set coefpara`](http://serpent.vtt.fi/mediawiki/index.php/Input_syntax_manual#set_coefpara) card already restricts the data present in the coeffient file to user control, and the `BranchingReader` includes similar control.\n",
    "Below are the various settings that the `BranchingReader` uses to read and process coefficient files."
   ]
  },
  {
   "cell_type": "code",
   "execution_count": 16,
   "metadata": {},
   "outputs": [],
   "source": [
    "import six\n",
    "from serpentTools.settings import rc"
   ]
  },
  {
   "cell_type": "code",
   "execution_count": 17,
   "metadata": {},
   "outputs": [
    {
     "name": "stdout",
     "output_type": "stream",
     "text": [
      "branching.floatVariables\n",
      "\t description: Names of state data variables to convert to floats for each branch\n",
      "\t type: <class 'list'>\n",
      "\t default: []\n",
      "xs.variableGroups\n",
      "\t description: Name of variable groups from variables.yaml to be expanded into SERPENT variable to be stored\n",
      "\t type: <class 'list'>\n",
      "\t default: []\n",
      "branching.intVariables\n",
      "\t description: Name of state data variables to convert to integers for each branch\n",
      "\t type: <class 'list'>\n",
      "\t default: []\n",
      "xs.getInfXS\n",
      "\t description: If true, store the infinite medium cross sections.\n",
      "\t type: <class 'bool'>\n",
      "\t default: True\n",
      "branching.areUncsPresent\n",
      "\t description: True if the values in the .coe file contain uncertainties\n",
      "\t type: <class 'bool'>\n",
      "\t default: False\n",
      "xs.variableExtras\n",
      "\t description: Full SERPENT name of variables to be read\n",
      "\t type: <class 'list'>\n",
      "\t default: []\n",
      "xs.getB1XS\n",
      "\t description: If true, store the critical leakage cross sections.\n",
      "\t type: <class 'bool'>\n",
      "\t default: True\n"
     ]
    }
   ],
   "source": [
    "from serpentTools.settings import rc, defaultSettings\n",
    "for setting in defaultSettings:\n",
    "    if 'xs' in setting or 'branching' in setting:\n",
    "        print(setting)\n",
    "        for k, v in six.iteritems(defaultSettings[setting]):\n",
    "            print('\\t', k+':', v)"
   ]
  },
  {
   "cell_type": "markdown",
   "metadata": {},
   "source": [
    "In our example above, the `BOR` and `TFU` variables represented boron concentration and fuel temperature, and can easily be cast into numeric values using the `branching.intVariables` and `brancing.floatVariables` settings. From the previous example, we see that the default action is to store all state data variables as strings."
   ]
  },
  {
   "cell_type": "code",
   "execution_count": 18,
   "metadata": {},
   "outputs": [],
   "source": [
    "assert isinstance(b0.stateData['BOR'], str)"
   ]
  },
  {
   "cell_type": "markdown",
   "metadata": {},
   "source": [
    "As demonstrated in the [Settings example](https://github.com/CORE-GATECH-GROUP/serpent-tools/blob/master/examples/Settings.ipynb), use of `xs.variableGroups` and `xs.variableExtras` controls what data is stored on the `HomogUniv` objects. By default, all variables present in the coefficient file are stored."
   ]
  },
  {
   "cell_type": "code",
   "execution_count": 19,
   "metadata": {},
   "outputs": [
    {
     "name": "stdout",
     "output_type": "stream",
     "text": [
      "INFO    : serpentTools: Inferred reader for demo.coe: BranchingReader\n",
      "INFO    : serpentTools: Preparing to read demo.coe\n",
      "INFO    : serpentTools: Done reading branching file\n"
     ]
    }
   ],
   "source": [
    "rc['branching.floatVariables'] = ['BOR']\n",
    "rc['branching.intVariables'] = ['TFU']\n",
    "rc['xs.getB1XS'] = False\n",
    "rc['xs.variableExtras'] = ['INF_TOT', 'INF_SCATT0']\n",
    "r1 = serpentTools.read(branchFile)"
   ]
  },
  {
   "cell_type": "code",
   "execution_count": 20,
   "metadata": {},
   "outputs": [],
   "source": [
    "b1 = r1.branches['B1000', 'FT600']"
   ]
  },
  {
   "cell_type": "code",
   "execution_count": 21,
   "metadata": {},
   "outputs": [
    {
     "data": {
      "text/plain": [
       "{'BOR': 1000.0,\n",
       " 'DATE': '17/12/19',\n",
       " 'TFU': 600,\n",
       " 'TIME': '09:48:54',\n",
       " 'VERSION': '2.1.29'}"
      ]
     },
     "execution_count": 21,
     "metadata": {},
     "output_type": "execute_result"
    }
   ],
   "source": [
    "b1.stateData"
   ]
  },
  {
   "cell_type": "code",
   "execution_count": 22,
   "metadata": {},
   "outputs": [],
   "source": [
    "assert isinstance(b1.stateData['BOR'], float)\n",
    "assert isinstance(b1.stateData['TFU'], int)"
   ]
  },
  {
   "cell_type": "markdown",
   "metadata": {},
   "source": [
    "Inspecting the data stored on the homogenized universes reveals only the variables explicitly requested are present "
   ]
  },
  {
   "cell_type": "code",
   "execution_count": 23,
   "metadata": {},
   "outputs": [
    {
     "data": {
      "text/plain": [
       "{'infTot': array([ 0.313338,  0.54515 ])}"
      ]
     },
     "execution_count": 23,
     "metadata": {},
     "output_type": "execute_result"
    }
   ],
   "source": [
    "univ4 = b1.getUniv(0, 0)\n",
    "univ4.infExp"
   ]
  },
  {
   "cell_type": "code",
   "execution_count": 24,
   "metadata": {},
   "outputs": [
    {
     "data": {
      "text/plain": [
       "{}"
      ]
     },
     "execution_count": 24,
     "metadata": {},
     "output_type": "execute_result"
    }
   ],
   "source": [
    "univ4.b1Exp"
   ]
  },
  {
   "cell_type": "markdown",
   "metadata": {},
   "source": [
    "## Conclusion\n",
    "The `BranchingReader` is capable of reading coefficient files created by the `SERPENT` automated branching process. The data is stored according to the branch parameters, universe information, and burnup. This reader also supports user control of the processing by selecting what state parameters should be converted from strings to numeric types, and further down-selection of data."
   ]
  }
 ],
 "metadata": {
  "kernelspec": {
   "display_name": "Python 3",
   "language": "python",
   "name": "python3"
  },
  "language_info": {
   "codemirror_mode": {
    "name": "ipython",
    "version": 3
   },
   "file_extension": ".py",
   "mimetype": "text/x-python",
   "name": "python",
   "nbconvert_exporter": "python",
   "pygments_lexer": "ipython3",
   "version": "3.5.2"
  }
 },
 "nbformat": 4,
 "nbformat_minor": 2
}
