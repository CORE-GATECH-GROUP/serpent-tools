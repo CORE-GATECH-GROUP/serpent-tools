{
 "cells": [
  {
   "cell_type": "markdown",
   "metadata": {},
   "source": [
    "Copyright (c) 2017-2020 [Serpent-Tools developer team](https://github.com/CORE-GATECH-GROUP/serpent-tools/graphs/contributors), GTRC\n",
    "\n",
    "THE SOFTWARE IS PROVIDED \"AS IS\", WITHOUT WARRANTY OF ANY KIND, EXPRESS OR IMPLIED, INCLUDING BUT NOT LIMITED TO THE WARRANTIES OF MERCHANTABILITY, FITNESS FOR A PARTICULAR PURPOSE AND NONINFRINGEMENT. IN NO EVENT SHALL THE AUTHORS OR COPYRIGHT HOLDERS BE LIABLE FOR ANY CLAIM, DAMAGES OR OTHER LIABILITY, WHETHER IN AN ACTION OF CONTRACT, TORT OR OTHERWISE, ARISING FROM, OUT OF OR IN CONNECTION WITH THE SOFTWARE OR THE USE OR OTHER DEALINGS IN THE SOFTWARE."
   ]
  },
  {
   "cell_type": "markdown",
   "metadata": {},
   "source": [
    "# Results Reader"
   ]
  },
  {
   "cell_type": "markdown",
   "metadata": {},
   "source": [
    "##  Basic operations"
   ]
  },
  {
   "cell_type": "markdown",
   "metadata": {},
   "source": [
    "This notebook demonstrates the capabilities of the serpentTools to read Serpent results files. SERPENT [1] produces a result file (i.e. `_res.m`), containing general results (e.g. `k-eff`), metadata (e.g. `title`) and homogenized cross-sections. The homogenized cross-section sets are printed in the results file for all the requested universes. The ResultsReader is capable of reading this file, and storing the data inside univ objects. Each such object has methods and attributes that should ease the analyses."
   ]
  },
  {
   "cell_type": "code",
   "execution_count": 1,
   "metadata": {},
   "outputs": [],
   "source": [
    "import numpy as np\n",
    "import serpentTools\n",
    "from serpentTools.settings import rc\n",
    "rc['serpentVersion'] = '2.1.30'"
   ]
  },
  {
   "cell_type": "code",
   "execution_count": 2,
   "metadata": {},
   "outputs": [],
   "source": [
    "resFile = 'InnerAssembly_res.m'\n",
    "res = serpentTools.readDataFile(resFile)"
   ]
  },
  {
   "cell_type": "markdown",
   "metadata": {},
   "source": [
    "# Metadata"
   ]
  },
  {
   "cell_type": "markdown",
   "metadata": {},
   "source": [
    "`metadata` is a collective data that describes the problem. These are values that do not change over burnup and across homogenized universes. The following data is included: titles, data paths, and other descriptive data exist on the reader."
   ]
  },
  {
   "cell_type": "code",
   "execution_count": 3,
   "metadata": {},
   "outputs": [
    {
     "name": "stdout",
     "output_type": "stream",
     "text": [
      "Serpent 2.1.30\n",
      "/nv/hp22/dkotlyar6/data/Codes/DATA/endfb7/sss_endfb7.dec\n",
      "InnerAssembly\n"
     ]
    }
   ],
   "source": [
    "print(res.metadata['version'])  # Serpent version used for the execution\n",
    "print(res.metadata['decayDataFilePath'])  # Directory path for data libraries\n",
    "print(res.metadata['inputFileName'])  # Directory path for data libraries"
   ]
  },
  {
   "cell_type": "code",
   "execution_count": 4,
   "metadata": {},
   "outputs": [
    {
     "data": {
      "text/plain": [
       "dict_keys(['version', 'compileDate', 'debug', 'title', 'confidentialData', 'inputFileName', 'workingDirectory', 'hostname', 'cpuType', 'cpuMhz', 'startDate', 'completeDate', 'pop', 'cycles', 'skip', 'batchInterval', 'srcNormMode', 'seed', 'ufsMode', 'ufsOrder', 'neutronTransportMode', 'photonTransportMode', 'groupConstantGeneration', 'b1Calculation', 'b1BurnupCorrection', 'implicitReactionRates', 'optimizationMode', 'reconstructMicroxs', 'reconstructMacroxs', 'doubleIndexing', 'mgMajorantMode', 'spectrumCollapse', 'mpiTasks', 'ompThreads', 'mpiReproducibility', 'ompReproducibility', 'ompHistoryProfile', 'shareBufArray', 'shareRes2Array', 'xsDataFilePath', 'decayDataFilePath', 'sfyDataFilePath', 'nfyDataFilePath', 'braDataFilePath'])"
      ]
     },
     "execution_count": 4,
     "metadata": {},
     "output_type": "execute_result"
    }
   ],
   "source": [
    "res.metadata.keys()"
   ]
  },
  {
   "cell_type": "code",
   "execution_count": 5,
   "metadata": {},
   "outputs": [
    {
     "data": {
      "text/plain": [
       "'Sat Apr 28 06:09:54 2018'"
      ]
     },
     "execution_count": 5,
     "metadata": {},
     "output_type": "execute_result"
    }
   ],
   "source": [
    "res.metadata['startDate']"
   ]
  },
  {
   "cell_type": "code",
   "execution_count": 6,
   "metadata": {},
   "outputs": [
    {
     "data": {
      "text/plain": [
       "(5000, 10, 50)"
      ]
     },
     "execution_count": 6,
     "metadata": {},
     "output_type": "execute_result"
    }
   ],
   "source": [
    "res.metadata['pop'], res.metadata['skip']  , res.metadata['cycles']"
   ]
  },
  {
   "cell_type": "markdown",
   "metadata": {},
   "source": [
    "# Results Data"
   ]
  },
  {
   "cell_type": "markdown",
   "metadata": {},
   "source": [
    "Results are stored as a function of time/burnup/index and include integral parameters of the system.\n",
    "Results, such as `k-eff`, total `flux`, and execution times are included in `.resdata`. Some results include values and uncertainities (e.g. criticality) and some just the values (e.g. CPU resources). "
   ]
  },
  {
   "cell_type": "code",
   "execution_count": 7,
   "metadata": {},
   "outputs": [
    {
     "data": {
      "text/plain": [
       "['absKeff',\n",
       " 'absKinf',\n",
       " 'actinideActivity',\n",
       " 'actinideDecayHeat',\n",
       " 'actinideIngTox']"
      ]
     },
     "execution_count": 7,
     "metadata": {},
     "output_type": "execute_result"
    }
   ],
   "source": [
    "sorted(res.resdata.keys())[0:5]"
   ]
  },
  {
   "cell_type": "markdown",
   "metadata": {},
   "source": [
    "Values are presented in similar fashion as if they were read in to Matlab, with one exception. Serpent currently appends a new row for each burnup step, but also for each homogenized universe. This results in repetition of many quantities as Serpent loops over group constant data. The `ResultsReader` understands Serpent outputs and knows when to append \"new\" result data to avoid repetition. \n",
    "\n",
    "The structure of the data is otherwise identical to Matlab. For many quantities, the first column indicates expected value, while the second column contains relative uncertainties. For a better reference, please consult the Serpent wiki on structure of the main output file."
   ]
  },
  {
   "cell_type": "code",
   "execution_count": 8,
   "metadata": {},
   "outputs": [
    {
     "data": {
      "text/plain": [
       "array([[1.29160e+00, 9.00000e-04],\n",
       "       [1.29500e+00, 9.30000e-04],\n",
       "       [1.29172e+00, 9.10000e-04],\n",
       "       [1.29172e+00, 7.80000e-04],\n",
       "       [1.29312e+00, 6.80000e-04],\n",
       "       [1.29140e+00, 7.80000e-04]])"
      ]
     },
     "execution_count": 8,
     "metadata": {},
     "output_type": "execute_result"
    }
   ],
   "source": [
    "res.resdata['absKeff']"
   ]
  },
  {
   "cell_type": "code",
   "execution_count": 9,
   "metadata": {},
   "outputs": [
    {
     "data": {
      "text/plain": [
       "array([1.2916 , 1.295  , 1.29172, 1.29172, 1.29312, 1.2914 ])"
      ]
     },
     "execution_count": 9,
     "metadata": {},
     "output_type": "execute_result"
    }
   ],
   "source": [
    "res.resdata['absKeff'][:,0]"
   ]
  },
  {
   "cell_type": "code",
   "execution_count": 10,
   "metadata": {},
   "outputs": [
    {
     "data": {
      "text/plain": [
       "array([[0.      , 0.      ],\n",
       "       [0.1     , 0.100001],\n",
       "       [1.      , 1.00001 ],\n",
       "       [2.      , 2.00001 ],\n",
       "       [3.      , 3.00003 ],\n",
       "       [4.      , 4.00004 ]])"
      ]
     },
     "execution_count": 10,
     "metadata": {},
     "output_type": "execute_result"
    }
   ],
   "source": [
    "res.resdata['burnup']"
   ]
  },
  {
   "cell_type": "code",
   "execution_count": 11,
   "metadata": {},
   "outputs": [
    {
     "data": {
      "text/plain": [
       "array([[ 0.     ],\n",
       "       [ 1.20048],\n",
       "       [12.0048 ],\n",
       "       [24.0096 ],\n",
       "       [36.0144 ],\n",
       "       [48.0192 ]])"
      ]
     },
     "execution_count": 11,
     "metadata": {},
     "output_type": "execute_result"
    }
   ],
   "source": [
    "res.resdata['burnDays']"
   ]
  },
  {
   "cell_type": "code",
   "execution_count": 12,
   "metadata": {},
   "outputs": [
    {
     "data": {
      "text/plain": [
       "array([[10.814 ],\n",
       "       [20.3573],\n",
       "       [30.0783],\n",
       "       [39.4965],\n",
       "       [48.919 ],\n",
       "       [58.6448]])"
      ]
     },
     "execution_count": 12,
     "metadata": {},
     "output_type": "execute_result"
    }
   ],
   "source": [
    "res.resdata['totCpuTime']"
   ]
  },
  {
   "cell_type": "markdown",
   "metadata": {},
   "source": [
    "Data in the `resdata` dictionary can be obtained by indexing directly into the reader with"
   ]
  },
  {
   "cell_type": "code",
   "execution_count": 13,
   "metadata": {},
   "outputs": [
    {
     "data": {
      "text/plain": [
       "array([[0.      , 0.      ],\n",
       "       [0.1     , 0.100001],\n",
       "       [1.      , 1.00001 ],\n",
       "       [2.      , 2.00001 ],\n",
       "       [3.      , 3.00003 ],\n",
       "       [4.      , 4.00004 ]])"
      ]
     },
     "execution_count": 13,
     "metadata": {},
     "output_type": "execute_result"
    }
   ],
   "source": [
    "res[\"burnup\"]"
   ]
  },
  {
   "cell_type": "code",
   "execution_count": 15,
   "metadata": {},
   "outputs": [
    {
     "data": {
      "text/plain": [
       "array([[1.29160e+00, 9.00000e-04],\n",
       "       [1.29500e+00, 9.30000e-04],\n",
       "       [1.29172e+00, 9.10000e-04],\n",
       "       [1.29172e+00, 7.80000e-04],\n",
       "       [1.29312e+00, 6.80000e-04],\n",
       "       [1.29140e+00, 7.80000e-04]])"
      ]
     },
     "execution_count": 15,
     "metadata": {},
     "output_type": "execute_result"
    }
   ],
   "source": [
    "res.get(\"absKeff\")"
   ]
  },
  {
   "cell_type": "markdown",
   "metadata": {},
   "source": [
    "## Plotting Results Data\n",
    "The `ResultsReader` has a versatile plot method, used to plot primary time-dependent data from the result file. With it, one can plot\n",
    "data from one or more quanties against various metrics of time. Control over formatting axis, legend placement, and label formatting is easily yielded to the user."
   ]
  },
  {
   "cell_type": "code",
   "execution_count": 17,
   "metadata": {},
   "outputs": [
    {
     "data": {
      "text/plain": [
       "<matplotlib.axes._subplots.AxesSubplot at 0x7f26dccf3d90>"
      ]
     },
     "execution_count": 17,
     "metadata": {},
     "output_type": "execute_result"
    },
    {
     "data": {
      "image/png": "[encoded data removed]",
      "text/plain": [
       "<Figure size 640x480 with 1 Axes>"
      ]
     },
     "metadata": {},
     "output_type": "display_data"
    }
   ],
   "source": [
    "res.plot('absKeff')"
   ]
  },
  {
   "cell_type": "code",
   "execution_count": 18,
   "metadata": {},
   "outputs": [
    {
     "data": {
      "text/plain": [
       "<matplotlib.axes._subplots.AxesSubplot at 0x7f26dcc90610>"
      ]
     },
     "execution_count": 18,
     "metadata": {},
     "output_type": "execute_result"
    },
    {
     "data": {
      "image/png": "[encoded data removed]",
      "text/plain": [
       "<Figure size 640x480 with 1 Axes>"
      ]
     },
     "metadata": {},
     "output_type": "display_data"
    }
   ],
   "source": [
    "res.plot('burnup', ['absKeff', 'colKeff'])"
   ]
  },
  {
   "cell_type": "markdown",
   "metadata": {},
   "source": [
    "Pass a dictionary of ``{variable: label}`` pairs to set plot labels"
   ]
  },
  {
   "cell_type": "code",
   "execution_count": 19,
   "metadata": {},
   "outputs": [
    {
     "data": {
      "text/plain": [
       "<matplotlib.axes._subplots.AxesSubplot at 0x7f26dcb77700>"
      ]
     },
     "execution_count": 19,
     "metadata": {},
     "output_type": "execute_result"
    },
    {
     "data": {
      "image/png": "[encoded data removed]",
      "text/plain": [
       "<Figure size 640x480 with 1 Axes>"
      ]
     },
     "metadata": {},
     "output_type": "display_data"
    }
   ],
   "source": [
    "# plot multiple values with better labels and formatting\n",
    "res.plot(\n",
    "    'burnup', {'absKeff': '$k_{eff}^{abs}$', 'colKeff': '$k_{eff}^{col}$'},\n",
    "    ylabel=r'Criticality $\\pm 3\\sigma$',\n",
    "    legend='above', ncol=2)"
   ]
  },
  {
   "cell_type": "markdown",
   "metadata": {},
   "source": [
    "Using the `right` argument, quantities can be plotted on the left and right y-axis. Similar formatting options are available"
   ]
  },
  {
   "cell_type": "code",
   "execution_count": 20,
   "metadata": {},
   "outputs": [
    {
     "data": {
      "text/plain": [
       "(<matplotlib.axes._subplots.AxesSubplot at 0x7f26dcae8a00>,\n",
       " <matplotlib.axes._subplots.AxesSubplot at 0x7f26dca85790>)"
      ]
     },
     "execution_count": 20,
     "metadata": {},
     "output_type": "execute_result"
    },
    {
     "data": {
      "image/png": "[encoded data removed]",
      "text/plain": [
       "<Figure size 640x480 with 2 Axes>"
      ]
     },
     "metadata": {},
     "output_type": "display_data"
    }
   ],
   "source": [
    "res.plot(\n",
    "    'burnStep', {'actinideIngTox': 'Actinide Ingestion Tox'},\n",
    "    right={'totCpuTime': \"CPU Time [right]\"}, sigma=0, rightlabel='CPU Time', \n",
    "    logy=[False, True])"
   ]
  },
  {
   "cell_type": "markdown",
   "metadata": {},
   "source": [
    "# Homogenized Universes"
   ]
  },
  {
   "cell_type": "markdown",
   "metadata": {},
   "source": [
    "Universe data is stored for each state point in the `universes` dictionary. Keys are `UnivTuple` representing `('univ',burnup, step, time)`\n",
    "\n",
    "* `'univ'`: universe ID (e.g., `'0'`)\n",
    "* `burnup`: in MWd/kg\n",
    "* `step`: step index, \n",
    "* `time`: in days.  \n",
    "and can be indexes by attribute or by position."
   ]
  },
  {
   "cell_type": "code",
   "execution_count": 21,
   "metadata": {},
   "outputs": [
    {
     "data": {
      "text/plain": [
       "UnivTuple(universe='0', burnup=0.0, step=0, days=0.0)"
      ]
     },
     "execution_count": 21,
     "metadata": {},
     "output_type": "execute_result"
    }
   ],
   "source": [
    "for key in sorted(res.universes):\n",
    "    break\n",
    "key"
   ]
  },
  {
   "cell_type": "code",
   "execution_count": 22,
   "metadata": {},
   "outputs": [
    {
     "data": {
      "text/plain": [
       "'0'"
      ]
     },
     "execution_count": 22,
     "metadata": {},
     "output_type": "execute_result"
    }
   ],
   "source": [
    "key[0]"
   ]
  },
  {
   "cell_type": "code",
   "execution_count": 23,
   "metadata": {},
   "outputs": [],
   "source": [
    "assert key.burnup == key[1]"
   ]
  },
  {
   "cell_type": "markdown",
   "metadata": {},
   "source": [
    "Results, such as infinite cross-sections, b1-leakage corrected cross-sections, kinetic parameters, are included in `.universes`. All the results include values and uncertainties. "
   ]
  },
  {
   "cell_type": "code",
   "execution_count": 24,
   "metadata": {},
   "outputs": [
    {
     "data": {
      "text/plain": [
       "[UnivTuple(universe='0', burnup=0.0, step=0, days=0.0),\n",
       " UnivTuple(universe='0', burnup=0.1, step=1, days=1.20048),\n",
       " UnivTuple(universe='0', burnup=1.0, step=2, days=12.0048),\n",
       " UnivTuple(universe='0', burnup=2.0, step=3, days=24.0096),\n",
       " UnivTuple(universe='0', burnup=3.0, step=4, days=36.0144),\n",
       " UnivTuple(universe='0', burnup=4.0, step=5, days=48.0192),\n",
       " UnivTuple(universe='3101', burnup=0.0, step=0, days=0.0),\n",
       " UnivTuple(universe='3101', burnup=0.1, step=1, days=1.20048),\n",
       " UnivTuple(universe='3101', burnup=1.0, step=2, days=12.0048),\n",
       " UnivTuple(universe='3101', burnup=2.0, step=3, days=24.0096)]"
      ]
     },
     "execution_count": 24,
     "metadata": {},
     "output_type": "execute_result"
    }
   ],
   "source": [
    "sorted(res.universes)[:10]"
   ]
  },
  {
   "cell_type": "markdown",
   "metadata": {},
   "source": [
    "One can directly index into the `universes` dictionary to obtain data for a specific universe."
   ]
  },
  {
   "cell_type": "code",
   "execution_count": 25,
   "metadata": {},
   "outputs": [
    {
     "name": "stdout",
     "output_type": "stream",
     "text": [
      "<HomogUniv 0: burnup: 0.00000E+00 MWd/kgU, 0.00000E+00 days>\n"
     ]
    }
   ],
   "source": [
    "print(res.universes['0', 0, 0, 0])"
   ]
  },
  {
   "cell_type": "markdown",
   "metadata": {},
   "source": [
    "However this requires knowledge of all four parameters which may be difficult. The `getUniv` method retrieves a specific universe that matches universe id and time of interest. \n",
    "While all four identifers, (universe id, burnup, step, and time) can be provided, the latter three are usually redundant."
   ]
  },
  {
   "cell_type": "code",
   "execution_count": 26,
   "metadata": {},
   "outputs": [
    {
     "name": "stdout",
     "output_type": "stream",
     "text": [
      "<HomogUniv 0: burnup: 0.00000E+00 MWd/kgU, 0.00000E+00 days>\n"
     ]
    }
   ],
   "source": [
    "univ0 = res.getUniv('0', index=0)  \n",
    "print(univ0)"
   ]
  },
  {
   "cell_type": "code",
   "execution_count": 27,
   "metadata": {},
   "outputs": [
    {
     "name": "stdout",
     "output_type": "stream",
     "text": [
      "<HomogUniv 3101: burnup: 2.00000E+00 MWd/kgU, 2.40096E+01 days>\n"
     ]
    }
   ],
   "source": [
    "univ3101 = res.getUniv('3101', index=3)\n",
    "print(univ3101)"
   ]
  },
  {
   "cell_type": "code",
   "execution_count": 28,
   "metadata": {
    "scrolled": true
   },
   "outputs": [
    {
     "name": "stdout",
     "output_type": "stream",
     "text": [
      "<HomogUniv 3102: burnup: 1.00000E-01 MWd/kgU, 1.20048E+00 days>\n"
     ]
    }
   ],
   "source": [
    "univ3102 = res.getUniv('3102', burnup=0.1)\n",
    "print(univ3102)"
   ]
  },
  {
   "cell_type": "code",
   "execution_count": 29,
   "metadata": {},
   "outputs": [
    {
     "name": "stdout",
     "output_type": "stream",
     "text": [
      "<HomogUniv 0: burnup: 2.00000E+00 MWd/kgU, 2.40096E+01 days>\n"
     ]
    }
   ],
   "source": [
    "print(res.getUniv('0', timeDays=24.0096))"
   ]
  },
  {
   "cell_type": "markdown",
   "metadata": {},
   "source": [
    "## Working with homogenized universe data\n",
    "Each state contains the same data fields, which can be obatined by using the following attributes on the `HomogUniv` objects: \n",
    "\n",
    "* `infExp`: infinite values, e.g. `INF_ABS`, \n",
    "\n",
    "* `infUnc`: infinite uncertainties, \n",
    "\n",
    "* `b1Exp`:  b1 (leakage corrected) values, e.g. `B1_ABS`,  \n",
    "\n",
    "* `b1Exp`:  b1 (leakage corrected) uncertainties, \n",
    "\n",
    "* `gc`: variables that are not included in 'inf' or 'b1', e.g. `BETA`\n",
    "\n",
    "* `gcUnc`: group uncertainties\n",
    "\n",
    "* `groups`: macro energy group structure, MeV\n",
    "\n",
    "* `microGroups`: micro energy group structure, MeV"
   ]
  },
  {
   "cell_type": "markdown",
   "metadata": {},
   "source": [
    "The parser reads all variables by default, and the `HomogUniv` objects stores data in various dictionaries. Data are energy dependent, exactly as they would appear in Serpent outputs."
   ]
  },
  {
   "cell_type": "code",
   "execution_count": 30,
   "metadata": {},
   "outputs": [
    {
     "data": {
      "text/plain": [
       "['infAbs',\n",
       " 'infCapt',\n",
       " 'infChid',\n",
       " 'infChip',\n",
       " 'infChit',\n",
       " 'infDiffcoef',\n",
       " 'infFiss',\n",
       " 'infFissFlx',\n",
       " 'infFlx',\n",
       " 'infI135MicroAbs']"
      ]
     },
     "execution_count": 30,
     "metadata": {},
     "output_type": "execute_result"
    }
   ],
   "source": [
    "sorted(univ0.infExp)[:10]"
   ]
  },
  {
   "cell_type": "code",
   "execution_count": 31,
   "metadata": {},
   "outputs": [
    {
     "data": {
      "text/plain": [
       "array([0.0170306 , 0.0124957 , 0.00777066, 0.00773255, 0.00699608,\n",
       "       0.00410746, 0.00334604, 0.00296948, 0.0030725 , 0.00335412,\n",
       "       0.00403133, 0.00506587, 0.00651475, 0.00737292, 0.00907442,\n",
       "       0.0113446 , 0.0125896 , 0.0164987 , 0.0181642 , 0.0266464 ,\n",
       "       0.0292439 , 0.0315338 , 0.0463069 , 0.0807952 ])"
      ]
     },
     "execution_count": 31,
     "metadata": {},
     "output_type": "execute_result"
    }
   ],
   "source": [
    "univ0.infExp['infAbs']"
   ]
  },
  {
   "cell_type": "code",
   "execution_count": 32,
   "metadata": {},
   "outputs": [
    {
     "data": {
      "text/plain": [
       "array([0.0170306 , 0.0124957 , 0.00777066, 0.00773255, 0.00699608,\n",
       "       0.00410746, 0.00334604, 0.00296948, 0.0030725 , 0.00335412,\n",
       "       0.00403133, 0.00506587, 0.00651475, 0.00737292, 0.00907442,\n",
       "       0.0113446 , 0.0125896 , 0.0164987 , 0.0181642 , 0.0266464 ,\n",
       "       0.0292439 , 0.0315338 , 0.0463069 , 0.0807952 ])"
      ]
     },
     "execution_count": 32,
     "metadata": {},
     "output_type": "execute_result"
    }
   ],
   "source": [
    "univ0[\"infAbs\"]"
   ]
  },
  {
   "cell_type": "code",
   "execution_count": 34,
   "metadata": {},
   "outputs": [
    {
     "data": {
      "text/plain": [
       "array([1.10460e+15, 1.72386e+16, 7.78465e+16, 1.70307e+17, 2.85783e+17,\n",
       "       4.61226e+17, 8.04999e+17, 1.17536e+18, 1.17488e+18, 1.26626e+18,\n",
       "       1.03476e+18, 7.58885e+17, 4.95687e+17, 5.85369e+17, 2.81921e+17,\n",
       "       1.16665e+17, 8.06833e+16, 2.26450e+16, 6.51541e+16, 2.79929e+16,\n",
       "       8.87468e+15, 1.70822e+15, 8.87055e+14, 6.22266e+13])"
      ]
     },
     "execution_count": 34,
     "metadata": {},
     "output_type": "execute_result"
    }
   ],
   "source": [
    "univ0.infExp['infFlx']"
   ]
  },
  {
   "cell_type": "markdown",
   "metadata": {},
   "source": [
    "Uncertainties can be obtained by using the `infUnc`, `b1Unc`, and `gcUnc` dictionaries. Uncertainties are relative, as they appear in the output files."
   ]
  },
  {
   "cell_type": "code",
   "execution_count": 35,
   "metadata": {},
   "outputs": [
    {
     "data": {
      "text/plain": [
       "array([0.02125, 0.0287 , 0.00901, 0.00721, 0.00441, 0.00434, 0.00448,\n",
       "       0.0007 , 0.00369, 0.00071, 0.00045, 0.00133, 0.00061, 0.00341,\n",
       "       0.00674, 0.00197, 0.00802, 0.00368, 0.00127, 0.00046, 0.02806,\n",
       "       0.0491 , 0.19529, 0.16476])"
      ]
     },
     "execution_count": 35,
     "metadata": {},
     "output_type": "execute_result"
    }
   ],
   "source": [
    "univ0.infUnc['infFlx']"
   ]
  },
  {
   "cell_type": "markdown",
   "metadata": {},
   "source": [
    "Serpent also outputs the `B1` cross-sections. However, the user must enable the `B1` option by setting the [`fum` card](http://serpent.vtt.fi/mediawiki/index.php/Input_syntax_manual#set_fum). If this card is not enabled by the user, the `B1_` variables will all be zeros. "
   ]
  },
  {
   "cell_type": "code",
   "execution_count": 36,
   "metadata": {},
   "outputs": [
    {
     "data": {
      "text/plain": [
       "['b1Abs',\n",
       " 'b1B2',\n",
       " 'b1Capt',\n",
       " 'b1Chid',\n",
       " 'b1Chip',\n",
       " 'b1Chit',\n",
       " 'b1Diffcoef',\n",
       " 'b1Err',\n",
       " 'b1Fiss',\n",
       " 'b1FissFlx']"
      ]
     },
     "execution_count": 36,
     "metadata": {},
     "output_type": "execute_result"
    }
   ],
   "source": [
    "sorted(univ0.b1Exp)[:10]"
   ]
  },
  {
   "cell_type": "code",
   "execution_count": 37,
   "metadata": {},
   "outputs": [
    {
     "data": {
      "text/plain": [
       "array([1.39800e+15, 2.22121e+16, 1.00380e+17, 2.19050e+17, 3.61071e+17,\n",
       "       5.61244e+17, 9.33086e+17, 1.28335e+18, 1.21094e+18, 1.24502e+18,\n",
       "       9.62426e+17, 6.70263e+17, 4.23191e+17, 4.69164e+17, 2.14577e+17,\n",
       "       8.77042e+16, 5.98583e+16, 1.67291e+16, 4.72542e+16, 1.96319e+16,\n",
       "       6.00800e+15, 1.12777e+15, 5.79412e+14, 3.93280e+13])"
      ]
     },
     "execution_count": 37,
     "metadata": {},
     "output_type": "execute_result"
    }
   ],
   "source": [
    "univ0.b1Exp['b1Flx']"
   ]
  },
  {
   "cell_type": "code",
   "execution_count": 38,
   "metadata": {},
   "outputs": [
    {
     "data": {
      "text/plain": [
       "array([1.39800e+15, 2.22121e+16, 1.00380e+17, 2.19050e+17, 3.61071e+17,\n",
       "       5.61244e+17, 9.33086e+17, 1.28335e+18, 1.21094e+18, 1.24502e+18,\n",
       "       9.62426e+17, 6.70263e+17, 4.23191e+17, 4.69164e+17, 2.14577e+17,\n",
       "       8.77042e+16, 5.98583e+16, 1.67291e+16, 4.72542e+16, 1.96319e+16,\n",
       "       6.00800e+15, 1.12777e+15, 5.79412e+14, 3.93280e+13])"
      ]
     },
     "execution_count": 38,
     "metadata": {},
     "output_type": "execute_result"
    }
   ],
   "source": [
    "univ0[\"b1Flx\"]"
   ]
  },
  {
   "cell_type": "code",
   "execution_count": 40,
   "metadata": {},
   "outputs": [
    {
     "data": {
      "text/plain": [
       "array([0.0170306 , 0.0124977 , 0.00777041, 0.00773244, 0.00700272,\n",
       "       0.00410942, 0.00335046, 0.00296957, 0.00307219, 0.00335169,\n",
       "       0.00402825, 0.00506175, 0.00651283, 0.00736592, 0.00907107,\n",
       "       0.0113432 , 0.012588  , 0.0165002 , 0.018157  , 0.0266812 ,\n",
       "       0.029204  , 0.0315299 , 0.0462994 , 0.0807952 ])"
      ]
     },
     "execution_count": 40,
     "metadata": {},
     "output_type": "execute_result"
    }
   ],
   "source": [
    "univ0.b1Exp['b1Abs']"
   ]
  },
  {
   "cell_type": "markdown",
   "metadata": {},
   "source": [
    "Data that does not contain the prefix `INF_` or `B1_` is stored under the `gc` and `gcUnc` fields. Criticality, kinetic, and other variables are stored under this field.  "
   ]
  },
  {
   "cell_type": "code",
   "execution_count": 41,
   "metadata": {},
   "outputs": [
    {
     "data": {
      "text/plain": [
       "['betaEff', 'cmmDiffcoef', 'cmmDiffcoefX', 'cmmDiffcoefY', 'cmmDiffcoefZ']"
      ]
     },
     "execution_count": 41,
     "metadata": {},
     "output_type": "execute_result"
    }
   ],
   "source": [
    "sorted(univ0.gc)[:5]"
   ]
  },
  {
   "cell_type": "code",
   "execution_count": 42,
   "metadata": {},
   "outputs": [
    {
     "data": {
      "text/plain": [
       "array([3.04272e-03, 8.93131e-05, 6.59324e-04, 5.62858e-04, 1.04108e-03,\n",
       "       5.67326e-04, 1.22822e-04])"
      ]
     },
     "execution_count": 42,
     "metadata": {},
     "output_type": "execute_result"
    }
   ],
   "source": [
    "univ3101.gc['betaEff']"
   ]
  },
  {
   "cell_type": "code",
   "execution_count": 43,
   "metadata": {},
   "outputs": [
    {
     "data": {
      "text/plain": [
       "array([3.04272e-03, 8.93131e-05, 6.59324e-04, 5.62858e-04, 1.04108e-03,\n",
       "       5.67326e-04, 1.22822e-04])"
      ]
     },
     "execution_count": 43,
     "metadata": {},
     "output_type": "execute_result"
    }
   ],
   "source": [
    "univ3101[\"betaEff\"]"
   ]
  },
  {
   "cell_type": "markdown",
   "metadata": {},
   "source": [
    "Macro- and micro-group structures are stored directly in the universe in MeV as they appear in the Serpent output files. This means that the macro-group structure is in order of descending energy, while micro-group are in order of increasing energy."
   ]
  },
  {
   "cell_type": "code",
   "execution_count": 45,
   "metadata": {},
   "outputs": [
    {
     "data": {
      "text/plain": [
       "array([1.0000e+37, 1.0000e+01, 6.0653e+00, 3.6788e+00, 2.2313e+00,\n",
       "       1.3534e+00, 8.2085e-01, 4.9787e-01, 3.0197e-01, 1.8316e-01,\n",
       "       1.1109e-01, 6.7380e-02, 4.0868e-02, 2.4788e-02, 1.5034e-02,\n",
       "       9.1188e-03, 5.5309e-03, 3.3546e-03, 2.0347e-03, 1.2341e-03,\n",
       "       7.4852e-04, 4.5400e-04, 3.1203e-04, 1.4894e-04, 0.0000e+00])"
      ]
     },
     "execution_count": 45,
     "metadata": {},
     "output_type": "execute_result"
    }
   ],
   "source": [
    "univ3101.groups"
   ]
  },
  {
   "cell_type": "code",
   "execution_count": 46,
   "metadata": {},
   "outputs": [
    {
     "data": {
      "text/plain": [
       "array([1.0000e-10, 1.4894e-04, 1.6525e-04, 1.8156e-04, 1.9787e-04])"
      ]
     },
     "execution_count": 46,
     "metadata": {},
     "output_type": "execute_result"
    }
   ],
   "source": [
    "univ3101.microGroups[:5:]"
   ]
  },
  {
   "cell_type": "markdown",
   "metadata": {},
   "source": [
    "## Plotting universes\n",
    "\n",
    "``HomogUniv`` objects can plot group constants using their ``plot`` method. This method has a range of formatting options, with defaults corresponding to plotting macroscopic cross sections. This is manifested in the default y axis label, but can be easily adjusted. "
   ]
  },
  {
   "cell_type": "code",
   "execution_count": 47,
   "metadata": {},
   "outputs": [
    {
     "data": {
      "image/png": "[encoded data removed]",
      "text/plain": [
       "<Figure size 640x480 with 1 Axes>"
      ]
     },
     "metadata": {},
     "output_type": "display_data"
    }
   ],
   "source": [
    "univ0.plot(['infAbs', 'b1Abs']);"
   ]
  },
  {
   "cell_type": "markdown",
   "metadata": {},
   "source": [
    "Macroscopic and microscopic quantities, such as micro-group flux, can be plotted on the same figure.\n",
    "**Note** The units and presentation of the micro- and macro-group fluxes are dissimilar, and the units do not agree with that of the assumed group constants. This will adjust the default y-label, as demonstrated below."
   ]
  },
  {
   "cell_type": "code",
   "execution_count": 48,
   "metadata": {},
   "outputs": [
    {
     "data": {
      "image/png": "[encoded data removed]",
      "text/plain": [
       "<Figure size 640x480 with 1 Axes>"
      ]
     },
     "metadata": {},
     "output_type": "display_data"
    }
   ],
   "source": [
    "univ0.plot(['infTot', 'infFlx', 'infMicroFlx'], legend='right');"
   ]
  },
  {
   "cell_type": "markdown",
   "metadata": {},
   "source": [
    "For plotting data from multiple universes, pass the returned [`matplotlib.axes.Axes`](https://matplotlib.org/api/axes_api.html#matplotlib.axes.Axes) object, on which the plot was drawn, into the plot method for the next universe. The `labelFmt` argument can be used to differentiate between plotted data. The following strings are replaced when creating the labels:\n",
    "\n",
    "|String|Replaced value|\n",
    "|-|-|\n",
    "|`{k}`|Name of variable plotted|\n",
    "|`{u}`| Name of this universe|\n",
    "|`{b}`| Value of burnup in MWd/kgU|\n",
    "|`{d}`| Value of burnup in days|\n",
    "|`{i}`| Burnup index"
   ]
  },
  {
   "cell_type": "markdown",
   "metadata": {},
   "source": [
    "These can be used in conjunction with the [`matplotlib` $\\LaTeX$ rendering](https://matplotlib.org/users/usetex.html) system."
   ]
  },
  {
   "cell_type": "code",
   "execution_count": 49,
   "metadata": {},
   "outputs": [
    {
     "data": {
      "image/png": "[encoded data removed]",
      "text/plain": [
       "<Figure size 640x480 with 1 Axes>"
      ]
     },
     "metadata": {},
     "output_type": "display_data"
    }
   ],
   "source": [
    "fmt = r\"Universe {u} - $\\Sigma_{abs}^\\infty$\"\n",
    "ax = univ3101.plot('infFiss', labelFmt=fmt)\n",
    "univ3102.plot('infFiss', ax=ax, labelFmt=fmt, legend='above', ncol=2);"
   ]
  },
  {
   "cell_type": "markdown",
   "metadata": {},
   "source": [
    "##  User Defined Settings"
   ]
  },
  {
   "cell_type": "markdown",
   "metadata": {},
   "source": [
    "The user is able to filter the required information by using the settings option.\n",
    "\n",
    "A detailed description on how to use the settings can be found on:\n",
    "http://serpent-tools.readthedocs.io/en/latest/settingsTop.html"
   ]
  },
  {
   "cell_type": "code",
   "execution_count": 50,
   "metadata": {},
   "outputs": [],
   "source": [
    "from serpentTools.settings import rc"
   ]
  },
  {
   "cell_type": "code",
   "execution_count": 51,
   "metadata": {},
   "outputs": [
    {
     "data": {
      "text/plain": [
       "dict_keys(['branching.intVariables', 'branching.floatVariables', 'depletion.metadataKeys', 'depletion.materialVariables', 'depletion.materials', 'depletion.processTotal', 'detector.names', 'verbosity', 'sampler.allExist', 'sampler.freeAll', 'sampler.raiseErrors', 'sampler.skipPrecheck', 'serpentVersion', 'xs.getInfXS', 'xs.getB1XS', 'xs.reshapeScatter', 'xs.variableGroups', 'xs.variableExtras', 'microxs.getFlx', 'microxs.getXS', 'microxs.getFY'])"
      ]
     },
     "execution_count": 51,
     "metadata": {},
     "output_type": "execute_result"
    }
   ],
   "source": [
    "rc.keys()"
   ]
  },
  {
   "cell_type": "markdown",
   "metadata": {},
   "source": [
    "The `rc` object and various `xs.*` settings can be used to control the `ResultsReader`. Specifically, these settings can be used to store only specific bits of information. Here, we will store the version of Serpent, various cross sections, eigenvalues, and burnup data."
   ]
  },
  {
   "cell_type": "code",
   "execution_count": 52,
   "metadata": {},
   "outputs": [],
   "source": [
    "rc['xs.variableGroups'] = ['versions', 'xs', 'eig', 'burnup-coeff']"
   ]
  },
  {
   "cell_type": "markdown",
   "metadata": {},
   "source": [
    "Further, instruct the reader to only read infinite medium cross sections, not critical spectrum B1 cross sections."
   ]
  },
  {
   "cell_type": "code",
   "execution_count": 53,
   "metadata": {},
   "outputs": [],
   "source": [
    "rc['xs.getB1XS'] = False"
   ]
  },
  {
   "cell_type": "code",
   "execution_count": 54,
   "metadata": {},
   "outputs": [],
   "source": [
    "resFilt = serpentTools.readDataFile(resFile)"
   ]
  },
  {
   "cell_type": "code",
   "execution_count": 55,
   "metadata": {},
   "outputs": [
    {
     "data": {
      "text/plain": [
       "dict_keys(['version', 'compileDate', 'debug', 'title', 'confidentialData', 'inputFileName', 'workingDirectory', 'hostname', 'cpuType', 'cpuMhz', 'startDate', 'completeDate'])"
      ]
     },
     "execution_count": 55,
     "metadata": {},
     "output_type": "execute_result"
    }
   ],
   "source": [
    "resFilt.metadata.keys()"
   ]
  },
  {
   "cell_type": "code",
   "execution_count": 56,
   "metadata": {},
   "outputs": [
    {
     "data": {
      "text/plain": [
       "dict_keys(['burnMaterials', 'burnMode', 'burnStep', 'burnup', 'burnDays', 'nubar', 'anaKeff', 'impKeff', 'colKeff', 'absKeff', 'absKinf', 'geomAlbedo'])"
      ]
     },
     "execution_count": 56,
     "metadata": {},
     "output_type": "execute_result"
    }
   ],
   "source": [
    "resFilt.resdata.keys()"
   ]
  },
  {
   "cell_type": "code",
   "execution_count": 57,
   "metadata": {},
   "outputs": [],
   "source": [
    "univ0Filt = resFilt.getUniv('0', index=1)  "
   ]
  },
  {
   "cell_type": "code",
   "execution_count": 58,
   "metadata": {},
   "outputs": [
    {
     "data": {
      "text/plain": [
       "dict_keys(['infTot', 'infCapt', 'infAbs', 'infFiss', 'infNsf', 'infNubar', 'infKappa', 'infInvv', 'infScatt0', 'infScatt1', 'infScatt2', 'infScatt3', 'infScatt4', 'infScatt5', 'infScatt6', 'infScatt7', 'infTranspxs', 'infDiffcoef', 'infRabsxs', 'infRemxs', 'infChit', 'infChip', 'infChid', 'infS0', 'infS1', 'infS2', 'infS3', 'infS4', 'infS5', 'infS6', 'infS7'])"
      ]
     },
     "execution_count": 58,
     "metadata": {},
     "output_type": "execute_result"
    }
   ],
   "source": [
    "univ0Filt.infExp.keys() "
   ]
  },
  {
   "cell_type": "code",
   "execution_count": 59,
   "metadata": {},
   "outputs": [
    {
     "data": {
      "text/plain": [
       "{}"
      ]
     },
     "execution_count": 59,
     "metadata": {},
     "output_type": "execute_result"
    }
   ],
   "source": [
    "univ0Filt.b1Exp"
   ]
  }
 ],
 "metadata": {
  "kernelspec": {
   "display_name": "Python 3",
   "language": "python",
   "name": "python3"
  },
  "language_info": {
   "codemirror_mode": {
    "name": "ipython",
    "version": 3
   },
   "file_extension": ".py",
   "mimetype": "text/x-python",
   "name": "python",
   "nbconvert_exporter": "python",
   "pygments_lexer": "ipython3",
   "version": "3.8.2"
  }
 },
 "nbformat": 4,
 "nbformat_minor": 2
}
