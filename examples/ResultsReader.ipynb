{
 "cells": [
  {
   "cell_type": "markdown",
   "metadata": {},
   "source": [
    "Copyright (c) 2017-2019 [Serpent-Tools developer team](https://github.com/CORE-GATECH-GROUP/serpent-tools/graphs/contributors), GTRC\n",
    "\n",
    "THE SOFTWARE IS PROVIDED \"AS IS\", WITHOUT WARRANTY OF ANY KIND, EXPRESS OR IMPLIED, INCLUDING BUT NOT LIMITED TO THE WARRANTIES OF MERCHANTABILITY, FITNESS FOR A PARTICULAR PURPOSE AND NONINFRINGEMENT. IN NO EVENT SHALL THE AUTHORS OR COPYRIGHT HOLDERS BE LIABLE FOR ANY CLAIM, DAMAGES OR OTHER LIABILITY, WHETHER IN AN ACTION OF CONTRACT, TORT OR OTHERWISE, ARISING FROM, OUT OF OR IN CONNECTION WITH THE SOFTWARE OR THE USE OR OTHER DEALINGS IN THE SOFTWARE."
   ]
  },
  {
   "cell_type": "markdown",
   "metadata": {},
   "source": [
    "# Results Reader"
   ]
  },
  {
   "cell_type": "markdown",
   "metadata": {},
   "source": [
    "##  Basic operations"
   ]
  },
  {
   "cell_type": "markdown",
   "metadata": {},
   "source": [
    "This notebook demonstrates the capabilities of the serpentTools to read Serpent results files. SERPENT [1] produces a result file (i.e. `_res.m`), containing general results (e.g. `k-eff`), metadata (e.g. `title`) and homogenized cross-sections. The homogenized cross-section sets are printed in the results file for all the requested universes. The ResultsReader is capable of reading this file, and storing the data inside univ objects. Each such object has methods and attributes that should ease the analyses."
   ]
  },
  {
   "cell_type": "code",
   "execution_count": 1,
   "metadata": {},
   "outputs": [],
   "source": [
    "import numpy as np\n",
    "import serpentTools\n",
    "from serpentTools.settings import rc\n",
    "rc['serpentVersion'] = '2.1.30'"
   ]
  },
  {
   "cell_type": "code",
   "execution_count": 2,
   "metadata": {},
   "outputs": [
    {
     "name": "stdout",
     "output_type": "stream",
     "text": [
      "CPU times: user 2 µs, sys: 1 µs, total: 3 µs\n",
      "Wall time: 5.01 µs\n"
     ]
    }
   ],
   "source": [
    "%time\n",
    "resFile = 'InnerAssembly_res.m'\n",
    "res = serpentTools.readDataFile(resFile)"
   ]
  },
  {
   "cell_type": "markdown",
   "metadata": {},
   "source": [
    "# Metadata (`metadata`)"
   ]
  },
  {
   "cell_type": "markdown",
   "metadata": {},
   "source": [
    "`metadata` is a collective data that describes the problem.\n",
    "The following data is included: titles, data paths, and other descriptive data exist on the reader "
   ]
  },
  {
   "cell_type": "code",
   "execution_count": 3,
   "metadata": {},
   "outputs": [
    {
     "name": "stdout",
     "output_type": "stream",
     "text": [
      "Serpent 2.1.30\n",
      "/nv/hp22/dkotlyar6/data/Codes/DATA/endfb7/sss_endfb7.dec\n",
      "InnerAssembly\n"
     ]
    }
   ],
   "source": [
    "print(res.metadata['version'])  # Serpent version used for the execution\n",
    "print(res.metadata['decayDataFilePath'])  # Directory path for data libraries\n",
    "print(res.metadata['inputFileName'])  # Directory path for data libraries"
   ]
  },
  {
   "cell_type": "markdown",
   "metadata": {},
   "source": [
    "Obtain all the variables in the metadata via `.keys()`"
   ]
  },
  {
   "cell_type": "code",
   "execution_count": 4,
   "metadata": {},
   "outputs": [
    {
     "data": {
      "text/plain": [
       "dict_keys(['version', 'compileDate', 'debug', 'title', 'confidentialData', 'inputFileName', 'workingDirectory', 'hostname', 'cpuType', 'cpuMhz', 'startDate', 'completeDate', 'pop', 'cycles', 'skip', 'batchInterval', 'srcNormMode', 'seed', 'ufsMode', 'ufsOrder', 'neutronTransportMode', 'photonTransportMode', 'groupConstantGeneration', 'b1Calculation', 'b1BurnupCorrection', 'implicitReactionRates', 'optimizationMode', 'reconstructMicroxs', 'reconstructMacroxs', 'doubleIndexing', 'mgMajorantMode', 'spectrumCollapse', 'mpiTasks', 'ompThreads', 'mpiReproducibility', 'ompReproducibility', 'ompHistoryProfile', 'shareBufArray', 'shareRes2Array', 'xsDataFilePath', 'decayDataFilePath', 'sfyDataFilePath', 'nfyDataFilePath', 'braDataFilePath'])"
      ]
     },
     "execution_count": 4,
     "metadata": {},
     "output_type": "execute_result"
    }
   ],
   "source": [
    "res.metadata.keys()"
   ]
  },
  {
   "cell_type": "code",
   "execution_count": 5,
   "metadata": {},
   "outputs": [
    {
     "data": {
      "text/plain": [
       "'Sat Apr 28 06:09:54 2018'"
      ]
     },
     "execution_count": 5,
     "metadata": {},
     "output_type": "execute_result"
    }
   ],
   "source": [
    "# Grep the value of a certain key, e.g. simulation start date\n",
    "res.metadata['startDate']"
   ]
  },
  {
   "cell_type": "code",
   "execution_count": 6,
   "metadata": {},
   "outputs": [
    {
     "name": "stdout",
     "output_type": "stream",
     "text": [
      "5000 10 50\n"
     ]
    }
   ],
   "source": [
    "# statistics used for the execution (histories, inactive and active cycles)\n",
    "print(res.metadata['pop'], res.metadata['skip']  , res.metadata['cycles'])"
   ]
  },
  {
   "cell_type": "code",
   "execution_count": 7,
   "metadata": {},
   "outputs": [
    {
     "name": "stdout",
     "output_type": "stream",
     "text": [
      "User defined version: 2.1.30\n",
      "Used version: Serpent 2.1.30\n"
     ]
    }
   ],
   "source": [
    "# Obtain the version defined in the settings\n",
    "print('User defined version: {}'.format(rc['serpentVersion']))\n",
    "# Obtain the version actually used in the execution\n",
    "print('Used version: {}'.format(res.metadata['version']))"
   ]
  },
  {
   "cell_type": "markdown",
   "metadata": {},
   "source": [
    "# Results Data (`resdata`)"
   ]
  },
  {
   "cell_type": "markdown",
   "metadata": {},
   "source": [
    "Results are stored as a function of time/burnup/index and include integral parameters of the system.\n",
    "Results, such as `k-eff`, total `flux`, execution times are included in `.resdata`. Some results include values and uncertainities (e.g. criticality) and some just the values (e.g. CPU resources). "
   ]
  },
  {
   "cell_type": "code",
   "execution_count": 8,
   "metadata": {},
   "outputs": [
    {
     "data": {
      "text/plain": [
       "['minMacroxs', 'dtThresh', 'stFrac', 'dtFrac', 'dtEff']"
      ]
     },
     "execution_count": 8,
     "metadata": {},
     "output_type": "execute_result"
    }
   ],
   "source": [
    "# All the variables can be obtained by using 'resdata.keys()'\n",
    "AllVariables = res.resdata.keys() # contains all the variable as a dict_keys\n",
    "# The example below shows only the first five variables in the resdata dictionary\n",
    "list(AllVariables)[0:5]"
   ]
  },
  {
   "cell_type": "code",
   "execution_count": 9,
   "metadata": {},
   "outputs": [
    {
     "name": "stdout",
     "output_type": "stream",
     "text": [
      "[[1.29160e+00 9.00000e-04]\n",
      " [1.29500e+00 9.30000e-04]\n",
      " [1.29172e+00 9.10000e-04]\n",
      " [1.29172e+00 7.80000e-04]\n",
      " [1.29312e+00 6.80000e-04]\n",
      " [1.29140e+00 7.80000e-04]]\n"
     ]
    }
   ],
   "source": [
    "# Time-dependent variables, such as k-eff, are stored in 'resdata'\n",
    "print(res.resdata['absKeff'])  # Values (1st col.) + std (2nd col.) "
   ]
  },
  {
   "cell_type": "code",
   "execution_count": 10,
   "metadata": {},
   "outputs": [
    {
     "data": {
      "text/plain": [
       "array([1.2916 , 1.295  , 1.29172, 1.29172, 1.29312, 1.2914 ])"
      ]
     },
     "execution_count": 10,
     "metadata": {},
     "output_type": "execute_result"
    }
   ],
   "source": [
    "# Obtain only the values for 'absKeff'\n",
    "res.resdata['absKeff'][:,0]"
   ]
  },
  {
   "cell_type": "code",
   "execution_count": 11,
   "metadata": {},
   "outputs": [
    {
     "data": {
      "text/plain": [
       "array([0.0009 , 0.00093, 0.00091, 0.00078, 0.00068, 0.00078])"
      ]
     },
     "execution_count": 11,
     "metadata": {},
     "output_type": "execute_result"
    }
   ],
   "source": [
    "# Obtain only the uncertainties for 'absKeff'\n",
    "res.resdata['absKeff'][:,1]"
   ]
  },
  {
   "cell_type": "code",
   "execution_count": 12,
   "metadata": {},
   "outputs": [
    {
     "name": "stdout",
     "output_type": "stream",
     "text": [
      "[[0.       0.      ]\n",
      " [0.1      0.100001]\n",
      " [1.       1.00001 ]\n",
      " [2.       2.00001 ]\n",
      " [3.       3.00003 ]\n",
      " [4.       4.00004 ]]\n",
      "[[ 0.     ]\n",
      " [ 1.20048]\n",
      " [12.0048 ]\n",
      " [24.0096 ]\n",
      " [36.0144 ]\n",
      " [48.0192 ]]\n"
     ]
    }
   ],
   "source": [
    "# Burnup data is not written by default, a burnup mode is defined within the input file\n",
    "# Extract burnup related quantities\n",
    "print(res.resdata['burnup']) # burnup intervals (MWd/kg) \n",
    "print(res.resdata['burnDays']) # time points (days)"
   ]
  },
  {
   "cell_type": "code",
   "execution_count": 13,
   "metadata": {},
   "outputs": [
    {
     "name": "stdout",
     "output_type": "stream",
     "text": [
      "[[10.814 ]\n",
      " [20.3573]\n",
      " [30.0783]\n",
      " [39.4965]\n",
      " [48.919 ]\n",
      " [58.6448]]\n"
     ]
    }
   ],
   "source": [
    "# Some variables are stored with no uncertainties\n",
    "print(res.resdata['totCpuTime']) # total CPU time,  "
   ]
  },
  {
   "cell_type": "markdown",
   "metadata": {},
   "source": [
    "## Plotting Results Data\n",
    "The `ResultsReader` has a versatile plot method, used to plot primary time-dependent data from the result file. With it, one can plot\n",
    "data from one or more quanties against various metrics of time. Control over formatting axis, legend placement, and label formatting is easily yielded to the user."
   ]
  },
  {
   "cell_type": "code",
   "execution_count": 14,
   "metadata": {},
   "outputs": [
    {
     "data": {
      "text/plain": [
       "<matplotlib.axes._subplots.AxesSubplot at 0x7ff3d0a8cda0>"
      ]
     },
     "execution_count": 14,
     "metadata": {},
     "output_type": "execute_result"
    },
    {
     "data": {
      "image/png": "[encoded data removed]",
      "text/plain": [
       "<Figure size 432x288 with 1 Axes>"
      ]
     },
     "metadata": {},
     "output_type": "display_data"
    }
   ],
   "source": [
    "res.plot('absKeff')"
   ]
  },
  {
   "cell_type": "code",
   "execution_count": 15,
   "metadata": {},
   "outputs": [
    {
     "data": {
      "text/plain": [
       "<matplotlib.axes._subplots.AxesSubplot at 0x7ff3d0925c50>"
      ]
     },
     "execution_count": 15,
     "metadata": {},
     "output_type": "execute_result"
    },
    {
     "data": {
      "image/png": "[encoded data removed]",
      "text/plain": [
       "<Figure size 432x288 with 1 Axes>"
      ]
     },
     "metadata": {},
     "output_type": "display_data"
    }
   ],
   "source": [
    "res.plot('burnup', ['absKeff', 'colKeff'])"
   ]
  },
  {
   "cell_type": "markdown",
   "metadata": {},
   "source": [
    "Pass a dictionary of ``{variable: label}`` pairs to set plot labels"
   ]
  },
  {
   "cell_type": "code",
   "execution_count": 16,
   "metadata": {},
   "outputs": [
    {
     "data": {
      "text/plain": [
       "<matplotlib.axes._subplots.AxesSubplot at 0x7ff3d08a9550>"
      ]
     },
     "execution_count": 16,
     "metadata": {},
     "output_type": "execute_result"
    },
    {
     "data": {
      "image/png": "[encoded data removed]",
      "text/plain": [
       "<Figure size 432x288 with 1 Axes>"
      ]
     },
     "metadata": {},
     "output_type": "display_data"
    }
   ],
   "source": [
    "# plot multiple values with better labels and formatting\n",
    "res.plot(\n",
    "    'burnup', {'absKeff': '$k_{eff}^{abs}$', 'colKeff': '$k_{eff}^{col}$'},\n",
    "    ylabel=r'Criticality $\\pm 3\\sigma$',\n",
    "    legend='above', ncol=2)"
   ]
  },
  {
   "cell_type": "markdown",
   "metadata": {},
   "source": [
    "Using the `right` argument, quantities can be plotted on the left and right y-axis. Similar formatting options are available"
   ]
  },
  {
   "cell_type": "code",
   "execution_count": 17,
   "metadata": {},
   "outputs": [
    {
     "data": {
      "text/plain": [
       "(<matplotlib.axes._subplots.AxesSubplot at 0x7ff3d07edd68>,\n",
       " <matplotlib.axes._subplots.AxesSubplot at 0x7ff3d07ea2b0>)"
      ]
     },
     "execution_count": 17,
     "metadata": {},
     "output_type": "execute_result"
    },
    {
     "data": {
      "image/png": "[encoded data removed]",
      "text/plain": [
       "<Figure size 432x288 with 2 Axes>"
      ]
     },
     "metadata": {},
     "output_type": "display_data"
    }
   ],
   "source": [
    "res.plot(\n",
    "    'burnStep', {'actinideIngTox': 'Actinide Ingestion Tox'},\n",
    "    right={'totCpuTime': \"CPU Time [right]\"}, sigma=0, rightlabel='CPU Time', \n",
    "    logy=[False, True])"
   ]
  },
  {
   "cell_type": "markdown",
   "metadata": {},
   "source": [
    "# Universe Data (`universes`)"
   ]
  },
  {
   "cell_type": "markdown",
   "metadata": {},
   "source": [
    "Universe data is stored for each state point, i.e. `('univ',burnup, burnupIdx, time)`\n",
    "\n",
    "`'univ'`: universe ID (e.g., `'0'`), `burnup`: in MWd/kg, `burnupIdx`: step index, `time`: in days.  \n",
    "Results, such as infinite cross-sections, b1-leakage corrected cross-sections, kinetic parameters, are included in `.universes`. All the results include values and uncertainties. "
   ]
  },
  {
   "cell_type": "code",
   "execution_count": 18,
   "metadata": {},
   "outputs": [
    {
     "data": {
      "text/plain": [
       "dict_keys([('3101', 0.0, 1, 0.0), ('3102', 0.0, 1, 0.0), ('0', 0.0, 1, 0.0), ('3101', 0.1, 2, 1.20048), ('3102', 0.1, 2, 1.20048), ('0', 0.1, 2, 1.20048), ('3101', 1.0, 3, 12.0048), ('3102', 1.0, 3, 12.0048), ('0', 1.0, 3, 12.0048), ('3101', 2.0, 4, 24.0096), ('3102', 2.0, 4, 24.0096), ('0', 2.0, 4, 24.0096), ('3101', 3.0, 5, 36.0144), ('3102', 3.0, 5, 36.0144), ('0', 3.0, 5, 36.0144), ('3101', 4.0, 6, 48.0192), ('3102', 4.0, 6, 48.0192), ('0', 4.0, 6, 48.0192)])"
      ]
     },
     "execution_count": 18,
     "metadata": {},
     "output_type": "execute_result"
    }
   ],
   "source": [
    "# The different states are obtained by:\n",
    "res.universes.keys()\n",
    "# The next cell presents the various unique states ('univ',burnup, burnupIdx, time)"
   ]
  },
  {
   "cell_type": "code",
   "execution_count": 19,
   "metadata": {},
   "outputs": [
    {
     "name": "stdout",
     "output_type": "stream",
     "text": [
      "<HomogUniv 3102: burnup: 0.000 MWd/kgu, step: 1, 0.000 days>\n"
     ]
    }
   ],
   "source": [
    "# Let's use the following unique state\n",
    "print(res.universes[('3102', 0.0, 1, 0.0)])"
   ]
  },
  {
   "cell_type": "markdown",
   "metadata": {},
   "source": [
    "Each state contains the same data fields, which can be obatined by using the following attributes on the `HomogUniv` objects: \n",
    "\n",
    "`.infExp`: infinite values, e.g. `INF_ABS`, \n",
    "\n",
    "`.infUnc`: infinite uncertainties, \n",
    "\n",
    "`.b1Exp`:  b1 (leakage corrected) values, e.g. `B1_ABS`,  \n",
    "\n",
    "`.b1Exp`:  b1 (leakage corrected) uncertainties, \n",
    "\n",
    "`.gc`: variables that are not included in 'inf' or 'b1', e.g. `BETA`\n",
    "\n",
    "`.gcUnc`: group uncertainties\n",
    "\n",
    "`.groups`: macro energy group structure, MeV\n",
    "\n",
    "`.microGroups`: micro energy group structure, MeV"
   ]
  },
  {
   "cell_type": "markdown",
   "metadata": {},
   "source": [
    "## Get Universe Data (`.getUniv`)"
   ]
  },
  {
   "cell_type": "markdown",
   "metadata": {},
   "source": [
    "A method to obtain the data for a specific universe and time of interest. \n",
    "In order to obtain the data, the user needs to pass the `universe id` and the `time point`:\n",
    "\n",
    "`.getUniv(univ, burnup, index, time)`\n",
    "\n",
    "`univ` must be a string\n",
    "`burnup` is a float or int with the units MWd/kgU\n",
    "`time` is a float or int with the units Days\n",
    "`index` is a positive integer (i.e. 1, 2, ...)\n",
    "\n",
    "The method requires to insert the universe and burnup or time or index (only one of these is actually used to retrieve the data). \n",
    "If more than one time parameter is given, the hierarchy of search is:\n",
    "index (highest priority), burnup, time (lowest priority)"
   ]
  },
  {
   "cell_type": "code",
   "execution_count": 20,
   "metadata": {},
   "outputs": [],
   "source": [
    "# Examples to use various time entries\n",
    "univ3101 = res.getUniv('3101', index=4) # obtain the results for universe=3101 and index=4 \n",
    "univ3102 = res.getUniv('3102', burnup=0.1) # obtain the results for universe=3102 and index=0.1 MWd/kgU\n",
    "univ0 = res.getUniv('0', timeDays=24.0096) # obtain the results for universe=0 and index=24.0096 days"
   ]
  },
  {
   "cell_type": "code",
   "execution_count": 21,
   "metadata": {},
   "outputs": [
    {
     "name": "stdout",
     "output_type": "stream",
     "text": [
      "<HomogUniv 3101: burnup: 2.000 MWd/kgu, step: 4, 24.010 days>\n",
      "<HomogUniv 3102: burnup: 0.100 MWd/kgu, step: 2, 1.200 days>\n",
      "<HomogUniv 0: burnup: 2.000 MWd/kgu, step: 4, 24.010 days>\n"
     ]
    }
   ],
   "source": [
    "# The full states are printed below\n",
    "print(univ3101)\n",
    "print(univ3102)\n",
    "print(univ0)"
   ]
  },
  {
   "cell_type": "code",
   "execution_count": 22,
   "metadata": {},
   "outputs": [
    {
     "name": "stdout",
     "output_type": "stream",
     "text": [
      "<HomogUniv 0: burnup: 0.000 MWd/kgu, step: 1, 0.000 days>\n"
     ]
    }
   ],
   "source": [
    "# obtain the results for universe=0 and index=1 (burnup and timeDays are inserted but not used)\n",
    "univ0 = res.getUniv('0', burnup=0.0, index=1, timeDays=0.0)  \n",
    "print(univ0)"
   ]
  },
  {
   "cell_type": "code",
   "execution_count": 23,
   "metadata": {},
   "outputs": [
    {
     "data": {
      "text/plain": [
       "dict_keys(['infMicroFlx', 'infKinf', 'infFlx', 'infFissFlx', 'infTot', 'infCapt', 'infAbs', 'infFiss', 'infNsf', 'infNubar', 'infKappa', 'infInvv', 'infScatt0', 'infScatt1', 'infScatt2', 'infScatt3', 'infScatt4', 'infScatt5', 'infScatt6', 'infScatt7', 'infScattp0', 'infScattp1', 'infScattp2', 'infScattp3', 'infScattp4', 'infScattp5', 'infScattp6', 'infScattp7', 'infTranspxs', 'infDiffcoef', 'infRabsxs', 'infRemxs', 'infI135Yield', 'infXe135Yield', 'infPm147Yield', 'infPm148Yield', 'infPm148mYield', 'infPm149Yield', 'infSm149Yield', 'infI135MicroAbs', 'infXe135MicroAbs', 'infPm147MicroAbs', 'infPm148MicroAbs', 'infPm148mMicroAbs', 'infPm149MicroAbs', 'infSm149MicroAbs', 'infXe135MacroAbs', 'infSm149MacroAbs', 'infChit', 'infChip', 'infChid', 'infS0', 'infS1', 'infS2', 'infS3', 'infS4', 'infS5', 'infS6', 'infS7', 'infSp0', 'infSp1', 'infSp2', 'infSp3', 'infSp4', 'infSp5', 'infSp6', 'infSp7'])"
      ]
     },
     "execution_count": 23,
     "metadata": {},
     "output_type": "execute_result"
    }
   ],
   "source": [
    "# The parser reads all the variables by default\n",
    "# Each field is a dictionary, with variables as keys and corresponding values.\n",
    "univ0.infExp.keys() # obtain all the variables stored in 'infExp' field"
   ]
  },
  {
   "cell_type": "code",
   "execution_count": 24,
   "metadata": {},
   "outputs": [
    {
     "data": {
      "text/plain": [
       "array([0.0170306 , 0.0124957 , 0.00777066, 0.00773255, 0.00699608,\n",
       "       0.00410746, 0.00334604, 0.00296948, 0.0030725 , 0.00335412,\n",
       "       0.00403133, 0.00506587, 0.00651475, 0.00737292, 0.00907442,\n",
       "       0.0113446 , 0.0125896 , 0.0164987 , 0.0181642 , 0.0266464 ,\n",
       "       0.0292439 , 0.0315338 , 0.0463069 , 0.0807952 ])"
      ]
     },
     "execution_count": 24,
     "metadata": {},
     "output_type": "execute_result"
    }
   ],
   "source": [
    "# The values are all energy dependent \n",
    "univ0.infExp['infAbs'] # obtain the infinite macroscopic xs for ('0', 0.0, 1, 0.0)"
   ]
  },
  {
   "cell_type": "code",
   "execution_count": 25,
   "metadata": {},
   "outputs": [
    {
     "data": {
      "text/plain": [
       "array([1.10460e+15, 1.72386e+16, 7.78465e+16, 1.70307e+17, 2.85783e+17,\n",
       "       4.61226e+17, 8.04999e+17, 1.17536e+18, 1.17488e+18, 1.26626e+18,\n",
       "       1.03476e+18, 7.58885e+17, 4.95687e+17, 5.85369e+17, 2.81921e+17,\n",
       "       1.16665e+17, 8.06833e+16, 2.26450e+16, 6.51541e+16, 2.79929e+16,\n",
       "       8.87468e+15, 1.70822e+15, 8.87055e+14, 6.22266e+13])"
      ]
     },
     "execution_count": 25,
     "metadata": {},
     "output_type": "execute_result"
    }
   ],
   "source": [
    "# Obtain the infinite flux for ('0', 0.0, 1, 0.0)\n",
    "univ0.infExp['infFlx']"
   ]
  },
  {
   "cell_type": "code",
   "execution_count": 26,
   "metadata": {},
   "outputs": [
    {
     "data": {
      "text/plain": [
       "array([0.02125, 0.0287 , 0.00901, 0.00721, 0.00441, 0.00434, 0.00448,\n",
       "       0.0007 , 0.00369, 0.00071, 0.00045, 0.00133, 0.00061, 0.00341,\n",
       "       0.00674, 0.00197, 0.00802, 0.00368, 0.00127, 0.00046, 0.02806,\n",
       "       0.0491 , 0.19529, 0.16476])"
      ]
     },
     "execution_count": 26,
     "metadata": {},
     "output_type": "execute_result"
    }
   ],
   "source": [
    "# Uncertainties can be obtained in a similar was by using the 'infUnc' field. \n",
    "# The variables will be identical to those defined in 'infExp'\n",
    "univ0.infUnc['infFlx'] # obtain the relative uncertainty"
   ]
  },
  {
   "cell_type": "markdown",
   "metadata": {},
   "source": [
    "Serpent also outputs the `B1` cross-sections. However, the user must enable the `B1` option by setting the `fum` card:\n",
    "http://serpent.vtt.fi/mediawiki/index.php/Input_syntax_manual#set_fum\n",
    "\n",
    "If this card is not enabled by the user, the `B1_` variables will all be zeros. "
   ]
  },
  {
   "cell_type": "code",
   "execution_count": 27,
   "metadata": {},
   "outputs": [
    {
     "data": {
      "text/plain": [
       "dict_keys(['b1MicroFlx', 'b1Kinf', 'b1Keff', 'b1B2', 'b1Err', 'b1Flx', 'b1FissFlx', 'b1Tot', 'b1Capt', 'b1Abs', 'b1Fiss', 'b1Nsf', 'b1Nubar', 'b1Kappa', 'b1Invv', 'b1Scatt0', 'b1Scatt1', 'b1Scatt2', 'b1Scatt3', 'b1Scatt4', 'b1Scatt5', 'b1Scatt6', 'b1Scatt7', 'b1Scattp0', 'b1Scattp1', 'b1Scattp2', 'b1Scattp3', 'b1Scattp4', 'b1Scattp5', 'b1Scattp6', 'b1Scattp7', 'b1Transpxs', 'b1Diffcoef', 'b1Rabsxs', 'b1Remxs', 'b1I135Yield', 'b1Xe135Yield', 'b1Pm147Yield', 'b1Pm148Yield', 'b1Pm148mYield', 'b1Pm149Yield', 'b1Sm149Yield', 'b1I135MicroAbs', 'b1Xe135MicroAbs', 'b1Pm147MicroAbs', 'b1Pm148MicroAbs', 'b1Pm148mMicroAbs', 'b1Pm149MicroAbs', 'b1Sm149MicroAbs', 'b1Xe135MacroAbs', 'b1Sm149MacroAbs', 'b1Chit', 'b1Chip', 'b1Chid', 'b1S0', 'b1S1', 'b1S2', 'b1S3', 'b1S4', 'b1S5', 'b1S6', 'b1S7', 'b1Sp0', 'b1Sp1', 'b1Sp2', 'b1Sp3', 'b1Sp4', 'b1Sp5', 'b1Sp6', 'b1Sp7'])"
      ]
     },
     "execution_count": 27,
     "metadata": {},
     "output_type": "execute_result"
    }
   ],
   "source": [
    "# The parser reads all the variables by default\n",
    "# Each field is a dictionary, with variables as keys and corresponding values.\n",
    "univ0.b1Exp.keys() # obtain all the variables stored in 'b1Exp' field"
   ]
  },
  {
   "cell_type": "code",
   "execution_count": 28,
   "metadata": {},
   "outputs": [
    {
     "data": {
      "text/plain": [
       "array([1.20660e+15, 1.65202e+16, 7.47956e+16, 1.62709e+17, 2.74814e+17,\n",
       "       4.22295e+17, 7.04931e+17, 9.70795e+17, 9.11899e+17, 9.33758e+17,\n",
       "       7.23255e+17, 5.00291e+17, 3.16644e+17, 3.52049e+17, 1.62308e+17,\n",
       "       6.68674e+16, 4.47932e+16, 1.23599e+16, 3.51299e+16, 1.46504e+16,\n",
       "       4.38516e+15, 7.96971e+14, 3.54233e+14, 2.11013e+13])"
      ]
     },
     "execution_count": 28,
     "metadata": {},
     "output_type": "execute_result"
    }
   ],
   "source": [
    "# Obtain the b1 fluxes for ('3101', 0.0, 1, 0.0)\n",
    "univ3101.b1Exp['b1Flx']"
   ]
  },
  {
   "cell_type": "code",
   "execution_count": 29,
   "metadata": {},
   "outputs": [
    {
     "data": {
      "text/plain": [
       "array([0.0162779 , 0.0122552 , 0.00779406, 0.00767857, 0.00694392,\n",
       "       0.00412055, 0.00334267, 0.00296283, 0.00306196, 0.00335034,\n",
       "       0.00403083, 0.00506224, 0.00652214, 0.00737463, 0.00906819,\n",
       "       0.011397  , 0.0125957 , 0.0167696 , 0.0184019 , 0.0274004 ,\n",
       "       0.0286808 , 0.0318976 , 0.0522545 , 0.0763042 ])"
      ]
     },
     "execution_count": 29,
     "metadata": {},
     "output_type": "execute_result"
    }
   ],
   "source": [
    "# Obtain the b1 fluxes for ('3101', 0.0, 1, 0.0)\n",
    "univ3101.b1Exp['b1Abs']"
   ]
  },
  {
   "cell_type": "markdown",
   "metadata": {},
   "source": [
    "Data that does not contain the prefix `INF_` or `B1_` is stored under the `gc` and `gcUnc` fields. \n",
    "\n",
    "Criticality, kinetic, and other variables are stored under this field.  "
   ]
  },
  {
   "cell_type": "code",
   "execution_count": 30,
   "metadata": {},
   "outputs": [
    {
     "data": {
      "text/plain": [
       "dict_keys(['cmmTranspxs', 'cmmTranspxsX', 'cmmTranspxsY', 'cmmTranspxsZ', 'cmmDiffcoef', 'cmmDiffcoefX', 'cmmDiffcoefY', 'cmmDiffcoefZ', 'betaEff', 'lambda'])"
      ]
     },
     "execution_count": 30,
     "metadata": {},
     "output_type": "execute_result"
    }
   ],
   "source": [
    "univ3101.gc.keys() # obtain all the variables stored in 'gc' field"
   ]
  },
  {
   "cell_type": "code",
   "execution_count": 31,
   "metadata": {},
   "outputs": [
    {
     "data": {
      "text/plain": [
       "array([3.04272e-03, 8.93131e-05, 6.59324e-04, 5.62858e-04, 1.04108e-03,\n",
       "       5.67326e-04, 1.22822e-04])"
      ]
     },
     "execution_count": 31,
     "metadata": {},
     "output_type": "execute_result"
    }
   ],
   "source": [
    "# The data included in the 'gc' field contains only the values (no uncertainties)\n",
    "univ3101.gc['betaEff'] # obtain beta-effective"
   ]
  },
  {
   "cell_type": "markdown",
   "metadata": {},
   "source": [
    "`Macro` and `Micro` energy group structures are stored directly in the universe."
   ]
  },
  {
   "cell_type": "code",
   "execution_count": 32,
   "metadata": {},
   "outputs": [
    {
     "data": {
      "text/plain": [
       "array([1.0000e+37, 1.0000e+01, 6.0653e+00, 3.6788e+00, 2.2313e+00,\n",
       "       1.3534e+00, 8.2085e-01, 4.9787e-01, 3.0197e-01, 1.8316e-01,\n",
       "       1.1109e-01, 6.7380e-02, 4.0868e-02, 2.4788e-02, 1.5034e-02,\n",
       "       9.1188e-03, 5.5309e-03, 3.3546e-03, 2.0347e-03, 1.2341e-03,\n",
       "       7.4852e-04, 4.5400e-04, 3.1203e-04, 1.4894e-04, 0.0000e+00])"
      ]
     },
     "execution_count": 32,
     "metadata": {},
     "output_type": "execute_result"
    }
   ],
   "source": [
    "# Obtain the macro energy structure in MeV\n",
    "univ3101.groups"
   ]
  },
  {
   "cell_type": "code",
   "execution_count": 33,
   "metadata": {},
   "outputs": [
    {
     "data": {
      "text/plain": [
       "array([1.0000e-10, 1.4894e-04, 1.6525e-04, 1.8156e-04, 1.9787e-04])"
      ]
     },
     "execution_count": 33,
     "metadata": {},
     "output_type": "execute_result"
    }
   ],
   "source": [
    "# Obtain the micro energy structure in MeV\n",
    "univ3101.microGroups[:5:] # print only the five first values"
   ]
  },
  {
   "cell_type": "markdown",
   "metadata": {},
   "source": [
    "## Plotting universes\n",
    "\n",
    "``HomogUniv`` objects can plot group constants using their ``plot`` method. This method has a range of formatting options, with defaults corresponding to plotting macroscopic cross sections. This is manifested in the default y axis label, but can be easily adjusted. "
   ]
  },
  {
   "cell_type": "code",
   "execution_count": 34,
   "metadata": {},
   "outputs": [
    {
     "data": {
      "image/png": "[encoded data removed]",
      "text/plain": [
       "<Figure size 432x288 with 1 Axes>"
      ]
     },
     "metadata": {},
     "output_type": "display_data"
    }
   ],
   "source": [
    "univ3101.plot(['infAbs', 'b1Abs']);"
   ]
  },
  {
   "cell_type": "markdown",
   "metadata": {},
   "source": [
    "Macroscopic and microscopic quantities, such as micro-group flux, can be plotted on the same figure.\n",
    "**Note** The units and presentation of the micro- and macro-group fluxes are dissimilar, and the units do not agree with that of the assumed group constants. This will adjust the default y-label, as demonstrated below."
   ]
  },
  {
   "cell_type": "code",
   "execution_count": 35,
   "metadata": {},
   "outputs": [
    {
     "data": {
      "image/png": "[encoded data removed]",
      "text/plain": [
       "<Figure size 432x288 with 1 Axes>"
      ]
     },
     "metadata": {},
     "output_type": "display_data"
    }
   ],
   "source": [
    "univ3101.plot(['infTot', 'infFlx', 'infMicroFlx'], legend='right');"
   ]
  },
  {
   "cell_type": "markdown",
   "metadata": {},
   "source": [
    "For plotting data from multiple universes, pass the returned [`matplotlib.axes.Axes`](https://matplotlib.org/api/axes_api.html#matplotlib.axes.Axes) object, on which the plot was drawn, into the plot method for the next universe. The `labelFmt` argument can be used to differentiate between plotted data. The following strings are replaced when creating the labels:\n",
    "\n",
    "|String|Replaced value|\n",
    "|-|-|\n",
    "|`{k}`|Name of variable plotted|\n",
    "|`{u}`| Name of this universe|\n",
    "|`{b}`| Value of burnup in MWd/kgU|\n",
    "|`{d}`| Value of burnup in days|\n",
    "|`{i}`| Burnup index"
   ]
  },
  {
   "cell_type": "markdown",
   "metadata": {},
   "source": [
    "These can be used in conjunction with the [`matplotlib` $\\LaTeX$ rendering](https://matplotlib.org/users/usetex.html) system."
   ]
  },
  {
   "cell_type": "code",
   "execution_count": 36,
   "metadata": {},
   "outputs": [
    {
     "data": {
      "image/png": "[encoded data removed]",
      "text/plain": [
       "<Figure size 432x288 with 1 Axes>"
      ]
     },
     "metadata": {},
     "output_type": "display_data"
    }
   ],
   "source": [
    "fmt = r\"Universe {u} - $\\Sigma_{abs}^\\infty$\"\n",
    "ax = univ3101.plot('infFiss', labelFmt=fmt)\n",
    "univ3102.plot('infFiss', ax=ax, labelFmt=fmt, legend='above', ncol=2);"
   ]
  },
  {
   "cell_type": "markdown",
   "metadata": {},
   "source": [
    "##  User Defined Settings"
   ]
  },
  {
   "cell_type": "markdown",
   "metadata": {},
   "source": [
    "The user is able to filter the required information by using the settings option.\n",
    "\n",
    "A detailed description on how to use the settings can be found on:\n",
    "http://serpent-tools.readthedocs.io/en/latest/settingsTop.html"
   ]
  },
  {
   "cell_type": "code",
   "execution_count": 37,
   "metadata": {},
   "outputs": [],
   "source": [
    "# Setting are all defined in 'rc'\n",
    "from serpentTools.settings import rc"
   ]
  },
  {
   "cell_type": "code",
   "execution_count": 38,
   "metadata": {},
   "outputs": [
    {
     "data": {
      "text/plain": [
       "dict_keys(['branching.areUncsPresent', 'branching.intVariables', 'branching.floatVariables', 'depletion.metadataKeys', 'depletion.materialVariables', 'depletion.materials', 'depletion.processTotal', 'detector.names', 'results.expectGcu', 'verbosity', 'sampler.allExist', 'sampler.freeAll', 'sampler.raiseErrors', 'sampler.skipPrecheck', 'serpentVersion', 'xs.getInfXS', 'xs.getB1XS', 'xs.reshapeScatter', 'xs.variableGroups', 'xs.variableExtras', 'microxs.getFlx', 'microxs.getXS', 'microxs.getFY'])"
      ]
     },
     "execution_count": 38,
     "metadata": {},
     "output_type": "execute_result"
    }
   ],
   "source": [
    "# Obtain the user defined keys\n",
    "rc.keys()"
   ]
  },
  {
   "cell_type": "markdown",
   "metadata": {},
   "source": [
    "The user can modify the settings and only then use the `ResultsReader`"
   ]
  },
  {
   "cell_type": "code",
   "execution_count": 39,
   "metadata": {},
   "outputs": [
    {
     "name": "stdout",
     "output_type": "stream",
     "text": [
      "The version defined by default is 2.1.30\n",
      "The version set by the user is 2.1.30\n"
     ]
    }
   ],
   "source": [
    "# Change the serpent version to 2.1.30\n",
    "versionOriginal = rc['serpentVersion']\n",
    "print('The version defined by default is {}'.format(versionOriginal)) # print the original version\n",
    "rc['serpentVersion'] = '2.1.30'\n",
    "print('The version set by the user is {}'.format(rc['serpentVersion'] )) # print the modified version"
   ]
  },
  {
   "cell_type": "code",
   "execution_count": 40,
   "metadata": {},
   "outputs": [],
   "source": [
    "# Explicitly state which groups of variables should be stored\n",
    "# The variables for these groups are defined according to the .yaml file\n",
    "rc['xs.variableGroups'] = ['versions', 'xs', 'eig', 'burnup-coeff']"
   ]
  },
  {
   "cell_type": "code",
   "execution_count": 41,
   "metadata": {},
   "outputs": [],
   "source": [
    "# The user can state which cross-sections to store\n",
    "rc['xs.getInfXS'] = True # Obtain the infinite xs\n",
    "rc['xs.getB1XS'] = False # Do not store the leakage corrected xs"
   ]
  },
  {
   "cell_type": "code",
   "execution_count": 42,
   "metadata": {},
   "outputs": [],
   "source": [
    "# Read the file again with the updated settings\n",
    "resFilt = serpentTools.readDataFile(resFile)"
   ]
  },
  {
   "cell_type": "code",
   "execution_count": 43,
   "metadata": {},
   "outputs": [
    {
     "data": {
      "text/plain": [
       "dict_keys(['version', 'compileDate', 'debug', 'title', 'confidentialData', 'inputFileName', 'workingDirectory', 'hostname', 'cpuType', 'cpuMhz', 'startDate', 'completeDate'])"
      ]
     },
     "execution_count": 43,
     "metadata": {},
     "output_type": "execute_result"
    }
   ],
   "source": [
    "# Print all the stored variables in metadata\n",
    "resFilt.metadata.keys()"
   ]
  },
  {
   "cell_type": "code",
   "execution_count": 44,
   "metadata": {},
   "outputs": [
    {
     "data": {
      "text/plain": [
       "dict_keys(['burnMaterials', 'burnMode', 'burnStep', 'burnup', 'burnDays', 'nubar', 'anaKeff', 'impKeff', 'colKeff', 'absKeff', 'absKinf', 'geomAlbedo'])"
      ]
     },
     "execution_count": 44,
     "metadata": {},
     "output_type": "execute_result"
    }
   ],
   "source": [
    "# All the variables can be obtained by using 'resdata.keys()'\n",
    "resFilt.resdata.keys() # contains all the variable as a dict_keys"
   ]
  },
  {
   "cell_type": "code",
   "execution_count": 45,
   "metadata": {},
   "outputs": [],
   "source": [
    "# obtain the results for universe=0 and index=1 (burnup and timeDays are inserted but not used)\n",
    "univ0Filt = resFilt.getUniv('0', burnup=0.0, index=1, timeDays=0.0)  "
   ]
  },
  {
   "cell_type": "code",
   "execution_count": 46,
   "metadata": {},
   "outputs": [
    {
     "data": {
      "text/plain": [
       "dict_keys(['infTot', 'infCapt', 'infAbs', 'infFiss', 'infNsf', 'infNubar', 'infKappa', 'infInvv', 'infScatt0', 'infScatt1', 'infScatt2', 'infScatt3', 'infScatt4', 'infScatt5', 'infScatt6', 'infScatt7', 'infTranspxs', 'infDiffcoef', 'infRabsxs', 'infRemxs', 'infChit', 'infChip', 'infChid', 'infS0', 'infS1', 'infS2', 'infS3', 'infS4', 'infS5', 'infS6', 'infS7'])"
      ]
     },
     "execution_count": 46,
     "metadata": {},
     "output_type": "execute_result"
    }
   ],
   "source": [
    "# Obtain all the variables stored in 'infExp' field\n",
    "univ0Filt.infExp.keys() "
   ]
  },
  {
   "cell_type": "code",
   "execution_count": 47,
   "metadata": {},
   "outputs": [
    {
     "data": {
      "text/plain": [
       "dict_keys([])"
      ]
     },
     "execution_count": 47,
     "metadata": {},
     "output_type": "execute_result"
    }
   ],
   "source": [
    "# Obtain all the variables stored in 'gc' field\n",
    "univ0Filt.gc.keys() "
   ]
  }
 ],
 "metadata": {
  "kernelspec": {
   "display_name": "Python 3",
   "language": "python",
   "name": "python3"
  },
  "language_info": {
   "codemirror_mode": {
    "name": "ipython",
    "version": 3
   },
   "file_extension": ".py",
   "mimetype": "text/x-python",
   "name": "python",
   "nbconvert_exporter": "python",
   "pygments_lexer": "ipython3",
   "version": "3.7.2"
  }
 },
 "nbformat": 4,
 "nbformat_minor": 2
}
