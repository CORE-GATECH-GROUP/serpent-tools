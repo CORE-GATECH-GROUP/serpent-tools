{
 "cells": [
  {
   "cell_type": "markdown",
   "metadata": {},
   "source": [
    "Copyright (c) 2017-2020 [Serpent-Tools developer team](https://github.com/CORE-GATECH-GROUP/serpent-tools/graphs/contributors), GTRC\n",
    "\n",
    "THE SOFTWARE IS PROVIDED \"AS IS\", WITHOUT WARRANTY OF ANY KIND, EXPRESS OR IMPLIED, INCLUDING BUT NOT LIMITED TO THE WARRANTIES OF MERCHANTABILITY, FITNESS FOR A PARTICULAR PURPOSE AND NONINFRINGEMENT. IN NO EVENT SHALL THE AUTHORS OR COPYRIGHT HOLDERS BE LIABLE FOR ANY CLAIM, DAMAGES OR OTHER LIABILITY, WHETHER IN AN ACTION OF CONTRACT, TORT OR OTHERWISE, ARISING FROM, OUT OF OR IN CONNECTION WITH THE SOFTWARE OR THE USE OR OTHER DEALINGS IN THE SOFTWARE."
   ]
  },
  {
   "cell_type": "markdown",
   "metadata": {},
   "source": [
    "Data files are not included with the python package, but can be downloaded from the [GitHub repository](https://github.com/CORE-GATECH-GROUP/serpent-tools). For this tutorial, the files are placed in the directory identified with the ``SERPENT_TOOLS_DATA`` environment variable."
   ]
  },
  {
   "cell_type": "code",
   "execution_count": 1,
   "metadata": {},
   "outputs": [],
   "source": [
    "import os\n",
    "xfile = os.path.join(\n",
    "    os.environ[\"SERPENT_TOOLS_DATA\"],\n",
    "    \"plut_xs0.m\")"
   ]
  },
  {
   "cell_type": "markdown",
   "metadata": {},
   "source": [
    "# Cross Section Reader/Plotter"
   ]
  },
  {
   "cell_type": "markdown",
   "metadata": {},
   "source": [
    "## Basic Operation"
   ]
  },
  {
   "cell_type": "markdown",
   "metadata": {},
   "source": [
    "Firstly, to get started plotting some cross sections from Serpent, you generate a yourInputFileName_xs.m file using [set xsplot](http://serpent.vtt.fi/mediawiki/index.php/Input_syntax_manual#set_xsplot) as documented on the Serpent wiki. `serpentTools` can then read the output, figuring out its filetype automatically as with other readers. Let's plot some data used in the `serpentTools` regression suite."
   ]
  },
  {
   "cell_type": "code",
   "execution_count": null,
   "metadata": {},
   "outputs": [],
   "source": [
    "import serpentTools\n",
    "%matplotlib inline\n",
    "\n",
    "xsreader = serpentTools.read(xfile)"
   ]
  },
  {
   "cell_type": "markdown",
   "metadata": {},
   "source": [
    "This file contains some cross sections from a Serpent case containing a chunk of plutonium metal reflected by beryllium. Let's see what cross sections are available from the file:"
   ]
  },
  {
   "cell_type": "code",
   "execution_count": 2,
   "metadata": {},
   "outputs": [
    {
     "data": {
      "text/plain": [
       "{'i4009_03c': <serpentTools.objects.xsdata.XSData at 0x7f4fb94c28e0>,\n",
       " 'i7014_03c': <serpentTools.objects.xsdata.XSData at 0x7f4fb94c22e0>,\n",
       " 'i8016_03c': <serpentTools.objects.xsdata.XSData at 0x7f4fa26b42b0>,\n",
       " 'i94239_03c': <serpentTools.objects.xsdata.XSData at 0x7f4fa26b43a0>,\n",
       " 'i82206_09c_bra': <serpentTools.objects.xsdata.XSData at 0x7f4fa26b4310>,\n",
       " 'mbe': <serpentTools.objects.xsdata.XSData at 0x7f4fa26b40d0>,\n",
       " 'mfissile': <serpentTools.objects.xsdata.XSData at 0x7f4fa26b40a0>}"
      ]
     },
     "execution_count": 2,
     "metadata": {},
     "output_type": "execute_result"
    }
   ],
   "source": [
    "xsreader.xsections"
   ]
  },
  {
   "cell_type": "code",
   "execution_count": 3,
   "metadata": {},
   "outputs": [
    {
     "data": {
      "text/plain": [
       "dict_keys(['mfissile', 'mbe', 'i4009_03c', 'i94239_03c', 'i7014_03c', 'i8016_03c'])"
      ]
     },
     "execution_count": 2,
     "metadata": {},
     "output_type": "execute_result"
    }
   ],
   "source": [
    "xsreader.keys()"
   ]
  },
  {
   "cell_type": "markdown",
   "metadata": {},
   "source": [
    "Notice that the important part of the reader is the `xsections` attribute, which contains a dictionary of named XSData objects. Entries starting with \"i\" are isotopes, while \"m\" preceded names are materials. Notably, materials not appearing in the neutronics calculation, e.g., external tanks in Serpent continuous reprocessing calculations, are not printed in the yourInputFileName_xs.m file.\n",
    "\n",
    "These `XSData` instances can be obtained by indexing into the `xsection` dictionary, or the reader directly."
   ]
  },
  {
   "cell_type": "code",
   "execution_count": 4,
   "metadata": {},
   "outputs": [],
   "source": [
    "# Check that the two entries stored are identical objects in memory\n",
    "assert xsreader.xsections['i4009_03c'] is xsreader[\"i4009_03c\"]"
   ]
  },
  {
   "cell_type": "markdown",
   "metadata": {},
   "source": [
    "The final bit of useful information stored on the reader are the energy groups and majorant cross section. The energy groups are shared across all the `XSData` objects stored on the reader."
   ]
  },
  {
   "cell_type": "code",
   "execution_count": 5,
   "metadata": {},
   "outputs": [
    {
     "data": {
      "text/plain": [
       "array([1.00000e-08, 1.03891e-07, 1.07934e-06, 1.12135e-05, 1.16498e-04,\n",
       "       1.21032e-03, 1.25742e-02, 1.30635e-01, 1.35719e+00, 1.41000e+01])"
      ]
     },
     "execution_count": 5,
     "metadata": {},
     "output_type": "execute_result"
    }
   ],
   "source": [
    "xsreader.energies"
   ]
  },
  {
   "cell_type": "code",
   "execution_count": 6,
   "metadata": {},
   "outputs": [
    {
     "data": {
      "text/plain": [
       "array([78.4253  , 36.1666  ,  2.54417 , 13.0654  ,  4.27811 ,  0.822536,\n",
       "        0.781066,  0.598564,  0.34175 ,  0.293887])"
      ]
     },
     "execution_count": 6,
     "metadata": {},
     "output_type": "execute_result"
    }
   ],
   "source": [
    "xsreader.majorant"
   ]
  },
  {
   "cell_type": "markdown",
   "metadata": {},
   "source": [
    "## Data access\n",
    "Most of the useful information is stored on the `XSData` objects. These are primarily cross sections provided by Serpent and some descriptive data. The `MT` and `MTdescrip` attributes describe the ordering of reactions and their descriptions"
   ]
  },
  {
   "cell_type": "code",
   "execution_count": 7,
   "metadata": {},
   "outputs": [],
   "source": [
    "o16 = xsreader[\"i8016_03c\"]"
   ]
  },
  {
   "cell_type": "code",
   "execution_count": 8,
   "metadata": {},
   "outputs": [
    {
     "data": {
      "text/plain": [
       "{1: 'Total',\n",
       " 101: 'Sum of absorption',\n",
       " 2: 'elastic scattering',\n",
       " 102: '(n,gamma)',\n",
       " 107: '(n,alpha)',\n",
       " 51: 'inelastic scatt. to 1. excited state',\n",
       " 52: 'inelastic scatt. to 2. excited state',\n",
       " 53: 'inelastic scatt. to 3. excited state',\n",
       " 54: 'inelastic scatt. to 4. excited state',\n",
       " 22: '(n,nalpha)',\n",
       " 55: 'inelastic scatt. to 5. excited state',\n",
       " 91: 'inelastic scattering to continuum',\n",
       " 103: '(n,p)',\n",
       " 104: '(n,d)',\n",
       " 56: 'inelastic scatt. to 6. excited state',\n",
       " 57: 'inelastic scatt. to 7. excited state',\n",
       " 28: '(n,np)',\n",
       " 108: '(n,2alpha)',\n",
       " 105: '(n,t)',\n",
       " 23: '(n,n3alpha)',\n",
       " 16: '(n,2n)'}"
      ]
     },
     "execution_count": 8,
     "metadata": {},
     "output_type": "execute_result"
    }
   ],
   "source": [
    "# Make a quick dictionary to show the descriptions\n",
    "dict(zip(o16.MT, o16.MTdescrip))"
   ]
  },
  {
   "cell_type": "markdown",
   "metadata": {},
   "source": [
    "Cross section data are stored in the `xsdata` array, which has shape `(N_E, N_MT)`"
   ]
  },
  {
   "cell_type": "code",
   "execution_count": 9,
   "metadata": {},
   "outputs": [],
   "source": [
    "assert o16.xsdata.shape == (len(o16.energies), len(o16.MT))"
   ]
  },
  {
   "cell_type": "markdown",
   "metadata": {},
   "source": [
    "The data can be obtained in a few different ways. First, you can index into the `xsdata` array directly"
   ]
  },
  {
   "cell_type": "code",
   "execution_count": 10,
   "metadata": {},
   "outputs": [
    {
     "data": {
      "text/plain": [
       "array([4.16597, 3.88237, 3.85502, 3.8523 , 3.8518 , 3.84938, 3.82434,\n",
       "       3.58676, 3.19656, 1.593  ])"
      ]
     },
     "execution_count": 10,
     "metadata": {},
     "output_type": "execute_result"
    }
   ],
   "source": [
    "o16.xsdata[:, 0]"
   ]
  },
  {
   "cell_type": "markdown",
   "metadata": {},
   "source": [
    "This implies you know the position of your reaction. Alternatively, you can index directly into the `XSData` object using the reaction MT as a key"
   ]
  },
  {
   "cell_type": "code",
   "execution_count": 11,
   "metadata": {},
   "outputs": [
    {
     "data": {
      "text/plain": [
       "array([4.16597, 3.88237, 3.85502, 3.8523 , 3.8518 , 3.84938, 3.82434,\n",
       "       3.58676, 3.19656, 1.593  ])"
      ]
     },
     "execution_count": 11,
     "metadata": {},
     "output_type": "execute_result"
    }
   ],
   "source": [
    "o16[1]"
   ]
  },
  {
   "cell_type": "markdown",
   "metadata": {},
   "source": [
    "The `tabulate` method can be used to create a pandas `DataFrame` for nice tabular representation"
   ]
  },
  {
   "cell_type": "code",
   "execution_count": 12,
   "metadata": {
    "scrolled": true
   },
   "outputs": [
    {
     "data": {
      "text/html": [
       "<div>\n",
       "<style scoped>\n",
       "    .dataframe tbody tr th:only-of-type {\n",
       "        vertical-align: middle;\n",
       "    }\n",
       "\n",
       "    .dataframe tbody tr th {\n",
       "        vertical-align: top;\n",
       "    }\n",
       "\n",
       "    .dataframe thead th {\n",
       "        text-align: right;\n",
       "    }\n",
       "</style>\n",
       "<table border=\"1\" class=\"dataframe\">\n",
       "  <thead>\n",
       "    <tr style=\"text-align: right;\">\n",
       "      <th></th>\n",
       "      <th>Energy (MeV)</th>\n",
       "      <th>MT -1 cm$^{-1}$</th>\n",
       "      <th>MT -3 cm$^{-1}$</th>\n",
       "      <th>MT -2 cm$^{-1}$</th>\n",
       "      <th>MT -6 cm$^{-1}$</th>\n",
       "      <th>MT -7 cm$^{-1}$</th>\n",
       "      <th>MT -16 cm$^{-1}$</th>\n",
       "    </tr>\n",
       "  </thead>\n",
       "  <tbody>\n",
       "    <tr>\n",
       "      <th>0</th>\n",
       "      <td>1.000000e-08</td>\n",
       "      <td>78.425300</td>\n",
       "      <td>0.404950</td>\n",
       "      <td>19.669800</td>\n",
       "      <td>58.350500</td>\n",
       "      <td>167.674000</td>\n",
       "      <td>0.000000</td>\n",
       "    </tr>\n",
       "    <tr>\n",
       "      <th>1</th>\n",
       "      <td>1.038910e-07</td>\n",
       "      <td>36.166600</td>\n",
       "      <td>0.369643</td>\n",
       "      <td>12.045000</td>\n",
       "      <td>23.752000</td>\n",
       "      <td>68.055800</td>\n",
       "      <td>0.000000</td>\n",
       "    </tr>\n",
       "    <tr>\n",
       "      <th>2</th>\n",
       "      <td>1.079340e-06</td>\n",
       "      <td>2.544170</td>\n",
       "      <td>0.506089</td>\n",
       "      <td>0.410559</td>\n",
       "      <td>1.627520</td>\n",
       "      <td>4.672940</td>\n",
       "      <td>0.000000</td>\n",
       "    </tr>\n",
       "    <tr>\n",
       "      <th>3</th>\n",
       "      <td>1.121350e-05</td>\n",
       "      <td>13.065400</td>\n",
       "      <td>0.715384</td>\n",
       "      <td>2.015980</td>\n",
       "      <td>10.334000</td>\n",
       "      <td>29.525000</td>\n",
       "      <td>0.000000</td>\n",
       "    </tr>\n",
       "    <tr>\n",
       "      <th>4</th>\n",
       "      <td>1.164980e-04</td>\n",
       "      <td>4.278110</td>\n",
       "      <td>0.721668</td>\n",
       "      <td>0.434122</td>\n",
       "      <td>3.122320</td>\n",
       "      <td>9.000070</td>\n",
       "      <td>0.000000</td>\n",
       "    </tr>\n",
       "    <tr>\n",
       "      <th>5</th>\n",
       "      <td>1.210320e-03</td>\n",
       "      <td>0.822536</td>\n",
       "      <td>0.537059</td>\n",
       "      <td>0.003514</td>\n",
       "      <td>0.281963</td>\n",
       "      <td>0.814254</td>\n",
       "      <td>0.000000</td>\n",
       "    </tr>\n",
       "    <tr>\n",
       "      <th>6</th>\n",
       "      <td>1.257420e-02</td>\n",
       "      <td>0.781066</td>\n",
       "      <td>0.623379</td>\n",
       "      <td>0.047729</td>\n",
       "      <td>0.093854</td>\n",
       "      <td>0.271066</td>\n",
       "      <td>0.000000</td>\n",
       "    </tr>\n",
       "    <tr>\n",
       "      <th>7</th>\n",
       "      <td>1.306350e-01</td>\n",
       "      <td>0.583509</td>\n",
       "      <td>0.458020</td>\n",
       "      <td>0.010805</td>\n",
       "      <td>0.075165</td>\n",
       "      <td>0.217468</td>\n",
       "      <td>0.000000</td>\n",
       "    </tr>\n",
       "    <tr>\n",
       "      <th>8</th>\n",
       "      <td>1.357190e+00</td>\n",
       "      <td>0.341750</td>\n",
       "      <td>0.163555</td>\n",
       "      <td>0.000772</td>\n",
       "      <td>0.095130</td>\n",
       "      <td>0.291685</td>\n",
       "      <td>0.000000</td>\n",
       "    </tr>\n",
       "    <tr>\n",
       "      <th>9</th>\n",
       "      <td>1.410000e+01</td>\n",
       "      <td>0.293887</td>\n",
       "      <td>0.136424</td>\n",
       "      <td>0.000114</td>\n",
       "      <td>0.120609</td>\n",
       "      <td>0.596505</td>\n",
       "      <td>0.012848</td>\n",
       "    </tr>\n",
       "  </tbody>\n",
       "</table>\n",
       "</div>"
      ],
      "text/plain": [
       "   Energy (MeV)  MT -1 cm$^{-1}$  MT -3 cm$^{-1}$  MT -2 cm$^{-1}$  \\\n",
       "0  1.000000e-08        78.425300         0.404950        19.669800   \n",
       "1  1.038910e-07        36.166600         0.369643        12.045000   \n",
       "2  1.079340e-06         2.544170         0.506089         0.410559   \n",
       "3  1.121350e-05        13.065400         0.715384         2.015980   \n",
       "4  1.164980e-04         4.278110         0.721668         0.434122   \n",
       "5  1.210320e-03         0.822536         0.537059         0.003514   \n",
       "6  1.257420e-02         0.781066         0.623379         0.047729   \n",
       "7  1.306350e-01         0.583509         0.458020         0.010805   \n",
       "8  1.357190e+00         0.341750         0.163555         0.000772   \n",
       "9  1.410000e+01         0.293887         0.136424         0.000114   \n",
       "\n",
       "   MT -6 cm$^{-1}$  MT -7 cm$^{-1}$  MT -16 cm$^{-1}$  \n",
       "0        58.350500       167.674000          0.000000  \n",
       "1        23.752000        68.055800          0.000000  \n",
       "2         1.627520         4.672940          0.000000  \n",
       "3        10.334000        29.525000          0.000000  \n",
       "4         3.122320         9.000070          0.000000  \n",
       "5         0.281963         0.814254          0.000000  \n",
       "6         0.093854         0.271066          0.000000  \n",
       "7         0.075165         0.217468          0.000000  \n",
       "8         0.095130         0.291685          0.000000  \n",
       "9         0.120609         0.596505          0.012848  "
      ]
     },
     "execution_count": 12,
     "metadata": {},
     "output_type": "execute_result"
    }
   ],
   "source": [
    "xsreader.xsections['mfissile'].tabulate()"
   ]
  },
  {
   "cell_type": "markdown",
   "metadata": {},
   "source": [
    "Lastly, the descriptions for the reaction MTs can be found in `MTdescrip` or using `describe`"
   ]
  },
  {
   "cell_type": "code",
   "execution_count": 13,
   "metadata": {},
   "outputs": [
    {
     "data": {
      "text/plain": [
       "'Total'"
      ]
     },
     "execution_count": 13,
     "metadata": {},
     "output_type": "execute_result"
    }
   ],
   "source": [
    "o16.MTdescrip[0]"
   ]
  },
  {
   "cell_type": "code",
   "execution_count": 14,
   "metadata": {},
   "outputs": [
    {
     "data": {
      "text/plain": [
       "'Total'"
      ]
     },
     "execution_count": 14,
     "metadata": {},
     "output_type": "execute_result"
    }
   ],
   "source": [
    "o16.describe(1)"
   ]
  },
  {
   "cell_type": "markdown",
   "metadata": {},
   "source": [
    "## Plotting\n",
    "Plotting reactions is provided through the `plot` method. With no MTs provided, all reactions are plotted and labeled."
   ]
  },
  {
   "cell_type": "code",
   "execution_count": 15,
   "metadata": {},
   "outputs": [],
   "source": [
    "be9 = xsreader[\"i4009_03c\"]"
   ]
  },
  {
   "cell_type": "code",
   "execution_count": 16,
   "metadata": {},
   "outputs": [
    {
     "data": {
      "image/png": "[encoded data removed]",
      "text/plain": [
       "<Figure size 640x480 with 1 Axes>"
      ]
     },
     "metadata": {},
     "output_type": "display_data"
    }
   ],
   "source": [
    "be9.plot(legend='right');"
   ]
  },
  {
   "cell_type": "markdown",
   "metadata": {},
   "source": [
    "This is nice to have an automatically generated legend, but gets somewhat busy quickly. So, it's easy to check which MT numbers are available, and plot only a few:"
   ]
  },
  {
   "cell_type": "code",
   "execution_count": 17,
   "metadata": {},
   "outputs": [
    {
     "name": "stdout",
     "output_type": "stream",
     "text": [
      "MT numbers available for i4009_03c:\n",
      "-----------------------------------\n",
      "1   Total\n",
      "101 Sum of absorption\n",
      "2   elastic scattering\n",
      "102 (n,gamma)\n",
      "107 (n,alpha)\n",
      "16  (n,2n)\n",
      "105 (n,t)\n",
      "103 (n,p)\n",
      "104 (n,d)\n",
      "\n"
     ]
    }
   ],
   "source": [
    "be9.showMT()"
   ]
  },
  {
   "cell_type": "code",
   "execution_count": null,
   "metadata": {},
   "outputs": [
    {
     "data": {
      "image/png": "[encoded data removed]",
      "text/plain": [
       "<Figure size 432x288 with 1 Axes>"
      ]
     },
     "metadata": {},
     "output_type": "display_data"
    }
   ],
   "source": [
    "be9.plot(mts=[2, 16], title='Less busy!');"
   ]
  },
  {
   "cell_type": "markdown",
   "metadata": {},
   "source": [
    "Of course, the same process can be applied to materials, but Serpent has some special unique negative MT numbers. The code will give you their meaning without requiring your reference back to the wiki."
   ]
  },
  {
   "cell_type": "code",
   "execution_count": null,
   "metadata": {},
   "outputs": [
    {
     "name": "stdout",
     "output_type": "stream",
     "text": [
      "MT numbers available for mfissile:\n",
      "----------------------------------\n",
      "-1  Macro total\n",
      "-3  Macro total elastic scatter\n",
      "-2  Macro total capture\n",
      "-6  Macro total fission\n",
      "-7  Macro total fission neutron production\n",
      "-16 Macro total scattering neutron production\n",
      "\n"
     ]
    }
   ],
   "source": [
    "xsreader.xsections['mfissile'].showMT()"
   ]
  },
  {
   "cell_type": "code",
   "execution_count": null,
   "metadata": {},
   "outputs": [
    {
     "data": {
      "image/png": "[encoded data removed]",
      "text/plain": [
       "<Figure size 432x288 with 1 Axes>"
      ]
     },
     "metadata": {},
     "output_type": "display_data"
    }
   ],
   "source": [
    "xsreader.xsections['mfissile'].plot(mts=[-3, -6, -16], loglog=True);"
   ]
  },
  {
   "cell_type": "markdown",
   "metadata": {},
   "source": [
    "Labels can be configured through the `labels` argument"
   ]
  },
  {
   "cell_type": "code",
   "execution_count": 21,
   "metadata": {},
   "outputs": [
    {
     "data": {
      "image/png": "[encoded data removed]",
      "text/plain": [
       "<Figure size 640x480 with 1 Axes>"
      ]
     },
     "metadata": {},
     "output_type": "display_data"
    }
   ],
   "source": [
    "xsreader.xsections['mfissile'].plot(mts=[-3, -6], loglog=True, labels=[\"Total elastic scatter\", \"Total fission\"]);"
   ]
  },
  {
   "cell_type": "markdown",
   "metadata": {},
   "source": [
    "## Conclusions\n",
    "`serpentTools` can plot your Serpent XS data in a friendly way. We're always looking to improve the feel of the code though, so let us know if there are changes you would like.\n",
    "\n",
    "Keep in mind that setting an energy grid with closer to 10000 points makes far prettier XS plots however. There were none in this example to not clog up the repository."
   ]
  }
 ],
 "metadata": {
  "kernelspec": {
   "display_name": "Python 3",
   "language": "python",
   "name": "python3"
  },
  "language_info": {
   "codemirror_mode": {
    "name": "ipython",
    "version": 3
   },
   "file_extension": ".py",
   "mimetype": "text/x-python",
   "name": "python",
   "nbconvert_exporter": "python",
   "pygments_lexer": "ipython3",
   "version": "3.7.63.5.2"
  }
 },
 "nbformat": 4,
 "nbformat_minor": 2
}
