{
 "cells": [
  {
   "cell_type": "markdown",
   "metadata": {},
   "source": [
    "Copyright (c) 2017-2020 [Serpent-Tools developer team](https://github.com/CORE-GATECH-GROUP/serpent-tools/graphs/contributors), GTRC\n",
    "\n",
    "THE SOFTWARE IS PROVIDED \"AS IS\", WITHOUT WARRANTY OF ANY KIND, EXPRESS OR IMPLIED, INCLUDING BUT NOT LIMITED TO THE WARRANTIES OF MERCHANTABILITY, FITNESS FOR A PARTICULAR PURPOSE AND NONINFRINGEMENT. IN NO EVENT SHALL THE AUTHORS OR COPYRIGHT HOLDERS BE LIABLE FOR ANY CLAIM, DAMAGES OR OTHER LIABILITY, WHETHER IN AN ACTION OF CONTRACT, TORT OR OTHERWISE, ARISING FROM, OUT OF OR IN CONNECTION WITH THE SOFTWARE OR THE USE OR OTHER DEALINGS IN THE SOFTWARE."
   ]
  },
  {
   "cell_type": "code",
   "execution_count": 1,
   "metadata": {},
   "outputs": [],
   "source": [
    "%matplotlib inline"
   ]
  },
  {
   "cell_type": "markdown",
   "metadata": {},
   "source": [
    "# Depletion Matrix\n",
    "The `serpentTools` package supports reading depletion matrix files, generated when `set depmtx 1` is added to the input file.\n",
    "As of `SERPENT` 2.1.30, these files contain \n",
    "    1. The length of time for a depletion interval\n",
    "    2. Vector of initial concentrations for all isotopes present in the depletion problem\n",
    "    3. ZAI vector\n",
    "    4. Depletion matrix\n",
    "    5. Vector of final concentrations following one depletion event.\n",
    "Files such as this are present for each burnable material tracked by `SERPENT` and at each time step in the problem.\n",
    "\n",
    "This document will demonstrate the `DepmtxReader`, designed to store these arrays.\n",
    "\n",
    "\n",
    "**NOTE** The depletion matrices can be very large for many problems, ~1000 x 1000 elements. For this end, the `DepmtxReader` can store the matrices in Compressed Sparse Column [`csc_matrix`](https://docs.scipy.org/doc/scipy/reference/generated/scipy.sparse.csc_matrix.html?highlight=csc_matrix#scipy.sparse.csc_matrix) form or as full `numpy` arrays. The reader will use the sparse format if [`scipy`](https://docs.scipy.org/doc/scipy/reference/index.html) is installed unless told not to directly."
   ]
  },
  {
   "cell_type": "code",
   "execution_count": 20,
   "metadata": {},
   "outputs": [],
   "source": [
    "import serpentTools"
   ]
  },
  {
   "cell_type": "code",
   "execution_count": 3,
   "metadata": {},
   "outputs": [],
   "source": [
    "reader = serpentTools.readDataFile('depmtx_ref.m')"
   ]
  },
  {
   "cell_type": "code",
   "execution_count": 4,
   "metadata": {},
   "outputs": [
    {
     "data": {
      "text/plain": [
       "<serpentTools.parsers.depmatrix.DepmtxReader at 0x7f0b1a9702b0>"
      ]
     },
     "execution_count": 4,
     "metadata": {},
     "output_type": "execute_result"
    }
   ],
   "source": [
    "reader"
   ]
  },
  {
   "cell_type": "markdown",
   "metadata": {},
   "source": [
    "We have access to all the data present in the file directly on the reader."
   ]
  },
  {
   "cell_type": "code",
   "execution_count": 5,
   "metadata": {},
   "outputs": [
    {
     "data": {
      "text/plain": [
       "array([1.17344222e-07, 6.10756908e-12, 7.48053806e-13, 7.52406757e-16,\n",
       "       1.66113020e-34, 1.67580185e-09, 1.19223790e-36, 1.89040622e-26,\n",
       "       5.09195054e-16, 7.91142112e-34, 1.68989876e-22, 6.92676695e-12,\n",
       "       7.52406345e-16, 8.52076751e-13, 4.52429540e-02, 1.71307881e-12,\n",
       "       1.86228871e-51, 2.32287315e-50, 1.15352152e-55, 7.72524686e-50,\n",
       "       5.74084741e-44, 1.55414063e-42, 3.10757266e-40, 9.12566461e-40,\n",
       "       6.82216144e-39, 9.71825616e-56, 1.59237444e-51, 1.14764875e-46,\n",
       "       1.15203415e-43, 5.66072799e-41, 4.49411601e-34, 8.99210202e-31,\n",
       "       8.65694179e-29, 5.96910982e-28, 1.06642058e-26, 9.10883647e-27,\n",
       "       7.56006632e-36, 6.08157358e-33, 7.93562601e-40, 1.67857401e-29,\n",
       "       2.76995718e-26, 2.42939173e-30, 6.93658246e-27, 3.21960435e-20,\n",
       "       4.14863808e-17, 6.02145579e-16, 3.68254657e-15, 2.25927183e-15,\n",
       "       2.85992932e-15, 5.34540710e-28, 2.34532631e-25, 1.36140065e-17,\n",
       "       4.17935379e-16, 4.61527247e-15, 2.15346589e-15, 2.90307762e-15,\n",
       "       4.90358169e-16, 3.62499544e-13, 4.61691784e-05, 2.96919439e-04,\n",
       "       4.13730091e-04, 3.14746134e-04, 4.98296713e-04, 4.37637914e-04,\n",
       "       3.84679634e-17, 6.87038906e-14, 4.29307714e-06, 5.62156587e-04,\n",
       "       2.98288610e-08, 1.45634092e-09, 2.05487374e-02, 2.10836706e-07,\n",
       "       9.84180195e-12, 8.05226656e-16], dtype=float128)"
      ]
     },
     "execution_count": 5,
     "metadata": {},
     "output_type": "execute_result"
    }
   ],
   "source": [
    "reader.n0"
   ]
  },
  {
   "cell_type": "markdown",
   "metadata": {},
   "source": [
    "This input file did not include [fission yield](http://serpent.vtt.fi/mediawiki/index.php/Input_syntax_manual#set_nfylib) libraries for depletion in order to reduce the size of the depletion matrix from ~1000 x 1000 to 74 x 74. "
   ]
  },
  {
   "cell_type": "markdown",
   "metadata": {},
   "source": [
    "Number densities and quantities in the depletion matrix are stored as `longfloat` types, as they contain many signifiicant digits in the output files."
   ]
  },
  {
   "cell_type": "code",
   "execution_count": 6,
   "metadata": {},
   "outputs": [
    {
     "data": {
      "text/plain": [
       "array([    -1,  10010,  10020,  10030,  20030,  20040,  30060,  30070,\n",
       "        40090,  50100,  50110,  60120,  70140,  70150,  80160,  80170,\n",
       "       561380, 561400, 581380, 581390, 581400, 581410, 581420, 581430,\n",
       "       581440, 591410, 591420, 591430, 601420, 601430, 601440, 601450,\n",
       "       601460, 601470, 601480, 601500, 611470, 611480, 611481, 611490,\n",
       "       611510, 621470, 621480, 621490, 621500, 621510, 621520, 621530,\n",
       "       621540, 631510, 631520, 631530, 631540, 631550, 631560, 631570,\n",
       "       641520, 641530, 641540, 641550, 641560, 641570, 641580, 641600,\n",
       "       922320, 922330, 922340, 922350, 922360, 922370, 922380, 922390,\n",
       "       922400, 922410])"
      ]
     },
     "execution_count": 6,
     "metadata": {},
     "output_type": "execute_result"
    }
   ],
   "source": [
    "reader.zai"
   ]
  },
  {
   "cell_type": "markdown",
   "metadata": {},
   "source": [
    "One can easily check if the depletion matrix is sparse by using the `sparse` attribute on the reader"
   ]
  },
  {
   "cell_type": "code",
   "execution_count": 7,
   "metadata": {},
   "outputs": [
    {
     "data": {
      "text/plain": [
       "True"
      ]
     },
     "execution_count": 7,
     "metadata": {},
     "output_type": "execute_result"
    }
   ],
   "source": [
    "reader.sparse"
   ]
  },
  {
   "cell_type": "code",
   "execution_count": 8,
   "metadata": {},
   "outputs": [
    {
     "data": {
      "text/plain": [
       "<74x74 sparse matrix of type '<class 'numpy.float128'>'\n",
       "\twith 633 stored elements in Compressed Sparse Column format>"
      ]
     },
     "execution_count": 8,
     "metadata": {},
     "output_type": "execute_result"
    }
   ],
   "source": [
    "reader.depmtx"
   ]
  },
  {
   "cell_type": "markdown",
   "metadata": {},
   "source": [
    "A simple plot method can be used to plot initial concentrations, final concentrations, or both."
   ]
  },
  {
   "cell_type": "code",
   "execution_count": 24,
   "metadata": {},
   "outputs": [
    {
     "data": {
      "image/png": "[encoded data removed]",
      "text/plain": [
       "<Figure size 432x288 with 1 Axes>"
      ]
     },
     "metadata": {},
     "output_type": "display_data"
    }
   ],
   "source": [
    "reader.plotDensity()"
   ]
  },
  {
   "cell_type": "markdown",
   "metadata": {},
   "source": [
    "Some options can be passed to improve the look and feel of the plot"
   ]
  },
  {
   "cell_type": "code",
   "execution_count": 29,
   "metadata": {},
   "outputs": [
    {
     "data": {
      "text/plain": [
       "<matplotlib.axes._subplots.AxesSubplot at 0x7f0b18edbbe0>"
      ]
     },
     "execution_count": 29,
     "metadata": {},
     "output_type": "execute_result"
    },
    {
     "data": {
      "image/png": "[encoded data removed]",
      "text/plain": [
       "<Figure size 432x288 with 1 Axes>"
      ]
     },
     "metadata": {},
     "output_type": "display_data"
    }
   ],
   "source": [
    "reader.plotDensity(\n",
    "    what='n0',  # plot initial value\n",
    "    markers='>',  # marker for scatter plot\n",
    "    labels='$N_0$',  # labels for each entry plotted\n",
    "    ylim=1E-30,  # set the lower y-axis limit\n",
    ")"
   ]
  },
  {
   "cell_type": "markdown",
   "metadata": {},
   "source": [
    "We can see that there is not a lot of change in the isotopic concentration in this depletion step. Furthermore, the classical fission yield curves are not present due to the lack of fission yield data. Using a more complete dataset, one can view the distribution of fission products like below."
   ]
  },
  {
   "cell_type": "markdown",
   "metadata": {},
   "source": [
    "![mtx.png](../docs/examples/images/depmtx-large.png)"
   ]
  },
  {
   "cell_type": "code",
   "execution_count": null,
   "metadata": {},
   "outputs": [],
   "source": []
  }
 ],
 "metadata": {
  "kernelspec": {
   "display_name": "Python 3",
   "language": "python",
   "name": "python3"
  },
  "language_info": {
   "codemirror_mode": {
    "name": "ipython",
    "version": 3
   },
   "file_extension": ".py",
   "mimetype": "text/x-python",
   "name": "python",
   "nbconvert_exporter": "python",
   "pygments_lexer": "ipython3",
   "version": "3.7.0"
  }
 },
 "nbformat": 4,
 "nbformat_minor": 2
}
